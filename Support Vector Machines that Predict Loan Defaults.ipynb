{
 "cells": [
  {
   "cell_type": "markdown",
   "metadata": {},
   "source": [
    "# Support Vector Machines\n",
    "Here, support vector machines are built to predict loan defaults.\n",
    "\n",
    "The first SVM is untuned with a precision of 0.99 and a recall of 0.58. The scores on the training and testing sets are 0.945 and 0.935, respectively. \n",
    "\n",
    "The second SVM is tuned with a C value of 1000 and a gamma value of 0.0001. The optimized SVM has a precision of 0.99 and a recall of 0.81. The score on the training set is 0.977 and on the testing set it is 0.966. \n",
    "\n",
    "In comparison to the logistic regression and random forest models, the SVM performed just as good as the logistic regression model, but not as good as the random forest. The next step would be to build an ensemble model using these three optimized models. "
   ]
  },
  {
   "cell_type": "code",
   "execution_count": 1,
   "metadata": {},
   "outputs": [],
   "source": [
    "import pandas as pd \n",
    "import numpy as np"
   ]
  },
  {
   "cell_type": "code",
   "execution_count": 2,
   "metadata": {},
   "outputs": [],
   "source": [
    "df = pd.read_csv('Loan_data_ML.csv', index_col='member_id')"
   ]
  },
  {
   "cell_type": "code",
   "execution_count": 3,
   "metadata": {},
   "outputs": [
    {
     "data": {
      "text/html": [
       "<div>\n",
       "<style scoped>\n",
       "    .dataframe tbody tr th:only-of-type {\n",
       "        vertical-align: middle;\n",
       "    }\n",
       "\n",
       "    .dataframe tbody tr th {\n",
       "        vertical-align: top;\n",
       "    }\n",
       "\n",
       "    .dataframe thead th {\n",
       "        text-align: right;\n",
       "    }\n",
       "</style>\n",
       "<table border=\"1\" class=\"dataframe\">\n",
       "  <thead>\n",
       "    <tr style=\"text-align: right;\">\n",
       "      <th></th>\n",
       "      <th>loan_amnt</th>\n",
       "      <th>funded_amnt</th>\n",
       "      <th>funded_amnt_inv</th>\n",
       "      <th>int_rate</th>\n",
       "      <th>installment</th>\n",
       "      <th>annual_inc</th>\n",
       "      <th>dti</th>\n",
       "      <th>delinq_2yrs</th>\n",
       "      <th>open_acc</th>\n",
       "      <th>pub_rec</th>\n",
       "      <th>...</th>\n",
       "      <th>pub_rec_bankruptcies_10+ years</th>\n",
       "      <th>pub_rec_bankruptcies_2 years</th>\n",
       "      <th>pub_rec_bankruptcies_3 years</th>\n",
       "      <th>pub_rec_bankruptcies_4 years</th>\n",
       "      <th>pub_rec_bankruptcies_5 years</th>\n",
       "      <th>pub_rec_bankruptcies_6 years</th>\n",
       "      <th>pub_rec_bankruptcies_7 years</th>\n",
       "      <th>pub_rec_bankruptcies_8 years</th>\n",
       "      <th>pub_rec_bankruptcies_9 years</th>\n",
       "      <th>pub_rec_bankruptcies_&lt; 1 year</th>\n",
       "    </tr>\n",
       "    <tr>\n",
       "      <th>member_id</th>\n",
       "      <th></th>\n",
       "      <th></th>\n",
       "      <th></th>\n",
       "      <th></th>\n",
       "      <th></th>\n",
       "      <th></th>\n",
       "      <th></th>\n",
       "      <th></th>\n",
       "      <th></th>\n",
       "      <th></th>\n",
       "      <th></th>\n",
       "      <th></th>\n",
       "      <th></th>\n",
       "      <th></th>\n",
       "      <th></th>\n",
       "      <th></th>\n",
       "      <th></th>\n",
       "      <th></th>\n",
       "      <th></th>\n",
       "      <th></th>\n",
       "      <th></th>\n",
       "    </tr>\n",
       "  </thead>\n",
       "  <tbody>\n",
       "    <tr>\n",
       "      <th>1</th>\n",
       "      <td>5000</td>\n",
       "      <td>5000</td>\n",
       "      <td>4975.0</td>\n",
       "      <td>0.1065</td>\n",
       "      <td>162.87</td>\n",
       "      <td>24000.0</td>\n",
       "      <td>27.65</td>\n",
       "      <td>0.0</td>\n",
       "      <td>3.0</td>\n",
       "      <td>0.0</td>\n",
       "      <td>...</td>\n",
       "      <td>1</td>\n",
       "      <td>0</td>\n",
       "      <td>0</td>\n",
       "      <td>0</td>\n",
       "      <td>0</td>\n",
       "      <td>0</td>\n",
       "      <td>0</td>\n",
       "      <td>0</td>\n",
       "      <td>0</td>\n",
       "      <td>0</td>\n",
       "    </tr>\n",
       "    <tr>\n",
       "      <th>2</th>\n",
       "      <td>2500</td>\n",
       "      <td>2500</td>\n",
       "      <td>2500.0</td>\n",
       "      <td>0.1527</td>\n",
       "      <td>59.83</td>\n",
       "      <td>30000.0</td>\n",
       "      <td>1.00</td>\n",
       "      <td>0.0</td>\n",
       "      <td>3.0</td>\n",
       "      <td>0.0</td>\n",
       "      <td>...</td>\n",
       "      <td>0</td>\n",
       "      <td>0</td>\n",
       "      <td>0</td>\n",
       "      <td>0</td>\n",
       "      <td>0</td>\n",
       "      <td>0</td>\n",
       "      <td>0</td>\n",
       "      <td>0</td>\n",
       "      <td>0</td>\n",
       "      <td>1</td>\n",
       "    </tr>\n",
       "    <tr>\n",
       "      <th>3</th>\n",
       "      <td>2400</td>\n",
       "      <td>2400</td>\n",
       "      <td>2400.0</td>\n",
       "      <td>0.1596</td>\n",
       "      <td>84.33</td>\n",
       "      <td>12252.0</td>\n",
       "      <td>8.72</td>\n",
       "      <td>0.0</td>\n",
       "      <td>2.0</td>\n",
       "      <td>0.0</td>\n",
       "      <td>...</td>\n",
       "      <td>1</td>\n",
       "      <td>0</td>\n",
       "      <td>0</td>\n",
       "      <td>0</td>\n",
       "      <td>0</td>\n",
       "      <td>0</td>\n",
       "      <td>0</td>\n",
       "      <td>0</td>\n",
       "      <td>0</td>\n",
       "      <td>0</td>\n",
       "    </tr>\n",
       "    <tr>\n",
       "      <th>4</th>\n",
       "      <td>10000</td>\n",
       "      <td>10000</td>\n",
       "      <td>10000.0</td>\n",
       "      <td>0.1349</td>\n",
       "      <td>339.31</td>\n",
       "      <td>49200.0</td>\n",
       "      <td>20.00</td>\n",
       "      <td>0.0</td>\n",
       "      <td>10.0</td>\n",
       "      <td>0.0</td>\n",
       "      <td>...</td>\n",
       "      <td>1</td>\n",
       "      <td>0</td>\n",
       "      <td>0</td>\n",
       "      <td>0</td>\n",
       "      <td>0</td>\n",
       "      <td>0</td>\n",
       "      <td>0</td>\n",
       "      <td>0</td>\n",
       "      <td>0</td>\n",
       "      <td>0</td>\n",
       "    </tr>\n",
       "    <tr>\n",
       "      <th>5</th>\n",
       "      <td>3000</td>\n",
       "      <td>3000</td>\n",
       "      <td>3000.0</td>\n",
       "      <td>0.1269</td>\n",
       "      <td>67.79</td>\n",
       "      <td>80000.0</td>\n",
       "      <td>17.94</td>\n",
       "      <td>0.0</td>\n",
       "      <td>15.0</td>\n",
       "      <td>0.0</td>\n",
       "      <td>...</td>\n",
       "      <td>0</td>\n",
       "      <td>0</td>\n",
       "      <td>0</td>\n",
       "      <td>0</td>\n",
       "      <td>0</td>\n",
       "      <td>0</td>\n",
       "      <td>0</td>\n",
       "      <td>0</td>\n",
       "      <td>0</td>\n",
       "      <td>0</td>\n",
       "    </tr>\n",
       "  </tbody>\n",
       "</table>\n",
       "<p>5 rows × 71 columns</p>\n",
       "</div>"
      ],
      "text/plain": [
       "           loan_amnt  funded_amnt  funded_amnt_inv  int_rate  installment  \\\n",
       "member_id                                                                   \n",
       "1               5000         5000           4975.0    0.1065       162.87   \n",
       "2               2500         2500           2500.0    0.1527        59.83   \n",
       "3               2400         2400           2400.0    0.1596        84.33   \n",
       "4              10000        10000          10000.0    0.1349       339.31   \n",
       "5               3000         3000           3000.0    0.1269        67.79   \n",
       "\n",
       "           annual_inc    dti  delinq_2yrs  open_acc  pub_rec  ...  \\\n",
       "member_id                                                     ...   \n",
       "1             24000.0  27.65          0.0       3.0      0.0  ...   \n",
       "2             30000.0   1.00          0.0       3.0      0.0  ...   \n",
       "3             12252.0   8.72          0.0       2.0      0.0  ...   \n",
       "4             49200.0  20.00          0.0      10.0      0.0  ...   \n",
       "5             80000.0  17.94          0.0      15.0      0.0  ...   \n",
       "\n",
       "           pub_rec_bankruptcies_10+ years  pub_rec_bankruptcies_2 years  \\\n",
       "member_id                                                                 \n",
       "1                                       1                             0   \n",
       "2                                       0                             0   \n",
       "3                                       1                             0   \n",
       "4                                       1                             0   \n",
       "5                                       0                             0   \n",
       "\n",
       "           pub_rec_bankruptcies_3 years  pub_rec_bankruptcies_4 years  \\\n",
       "member_id                                                               \n",
       "1                                     0                             0   \n",
       "2                                     0                             0   \n",
       "3                                     0                             0   \n",
       "4                                     0                             0   \n",
       "5                                     0                             0   \n",
       "\n",
       "           pub_rec_bankruptcies_5 years  pub_rec_bankruptcies_6 years  \\\n",
       "member_id                                                               \n",
       "1                                     0                             0   \n",
       "2                                     0                             0   \n",
       "3                                     0                             0   \n",
       "4                                     0                             0   \n",
       "5                                     0                             0   \n",
       "\n",
       "           pub_rec_bankruptcies_7 years  pub_rec_bankruptcies_8 years  \\\n",
       "member_id                                                               \n",
       "1                                     0                             0   \n",
       "2                                     0                             0   \n",
       "3                                     0                             0   \n",
       "4                                     0                             0   \n",
       "5                                     0                             0   \n",
       "\n",
       "           pub_rec_bankruptcies_9 years  pub_rec_bankruptcies_< 1 year  \n",
       "member_id                                                               \n",
       "1                                     0                              0  \n",
       "2                                     0                              1  \n",
       "3                                     0                              0  \n",
       "4                                     0                              0  \n",
       "5                                     0                              0  \n",
       "\n",
       "[5 rows x 71 columns]"
      ]
     },
     "execution_count": 3,
     "metadata": {},
     "output_type": "execute_result"
    }
   ],
   "source": [
    "df.head()"
   ]
  },
  {
   "cell_type": "code",
   "execution_count": 4,
   "metadata": {},
   "outputs": [],
   "source": [
    "import warnings\n",
    "warnings.filterwarnings(\"ignore\")"
   ]
  },
  {
   "cell_type": "code",
   "execution_count": 5,
   "metadata": {},
   "outputs": [],
   "source": [
    "X = df.drop('loan_status_Charged Off', axis=1).values\n",
    "y = df['loan_status_Charged Off'].values\n",
    "from sklearn.model_selection import train_test_split"
   ]
  },
  {
   "cell_type": "code",
   "execution_count": 6,
   "metadata": {},
   "outputs": [],
   "source": [
    "from sklearn.model_selection import RandomizedSearchCV, GridSearchCV\n",
    "from sklearn.model_selection import cross_val_score\n",
    "from sklearn.metrics import classification_report\n",
    "from sklearn.preprocessing import scale\n",
    "X_scaled = scale(X)"
   ]
  },
  {
   "cell_type": "code",
   "execution_count": 7,
   "metadata": {},
   "outputs": [
    {
     "data": {
      "text/plain": [
       "SVC(C=1.0, cache_size=200, class_weight=None, coef0=0.0,\n",
       "  decision_function_shape='ovr', degree=3, gamma='auto_deprecated',\n",
       "  kernel='rbf', max_iter=-1, probability=False, random_state=None,\n",
       "  shrinking=True, tol=0.001, verbose=False)"
      ]
     },
     "execution_count": 7,
     "metadata": {},
     "output_type": "execute_result"
    }
   ],
   "source": [
    "from sklearn.svm import SVC\n",
    "X_scaled_train, X_scaled_test, y_train, y_test = train_test_split(X_scaled, y, test_size=0.3, random_state=32)\n",
    "svm = SVC()\n",
    "svm.fit(X_scaled_train, y_train)"
   ]
  },
  {
   "cell_type": "code",
   "execution_count": 8,
   "metadata": {},
   "outputs": [
    {
     "name": "stdout",
     "output_type": "stream",
     "text": [
      "Untuned scaled CV score with training set 0.9341371054439678\n",
      "Untuned scaled score with training set 0.9452878350238463\n",
      "Untuned scaled score with testing set 0.935428257973513\n"
     ]
    }
   ],
   "source": [
    "cv_score_svm2 = cross_val_score(svm, X_scaled_train, y_train, cv=4)\n",
    "print('Untuned scaled CV score with training set', np.mean(cv_score_svm2))\n",
    "print('Untuned scaled score with training set', svm.score(X_scaled_train, y_train))\n",
    "print('Untuned scaled score with testing set', svm.score(X_scaled_test, y_test))"
   ]
  },
  {
   "cell_type": "code",
   "execution_count": 9,
   "metadata": {},
   "outputs": [
    {
     "name": "stdout",
     "output_type": "stream",
     "text": [
      "              precision    recall  f1-score   support\n",
      "\n",
      "           0       0.93      1.00      0.96     10818\n",
      "           1       0.99      0.58      0.73      1943\n",
      "\n",
      "   micro avg       0.94      0.94      0.94     12761\n",
      "   macro avg       0.96      0.79      0.85     12761\n",
      "weighted avg       0.94      0.94      0.93     12761\n",
      "\n"
     ]
    }
   ],
   "source": [
    "y_pred_smv2 = svm.predict(X_scaled_test)\n",
    "print(classification_report(y_test, y_pred_smv2))"
   ]
  },
  {
   "cell_type": "code",
   "execution_count": null,
   "metadata": {},
   "outputs": [],
   "source": []
  },
  {
   "cell_type": "code",
   "execution_count": 15,
   "metadata": {},
   "outputs": [],
   "source": [
    "param_dist_svc = {'C':[100, 1000, 10000], 'gamma':[0.0001, 0.001, 0.01, 0.1]}\n",
    "svm_cv = RandomizedSearchCV(svm, param_distributions=param_dist_svc, cv=3)"
   ]
  },
  {
   "cell_type": "code",
   "execution_count": 16,
   "metadata": {},
   "outputs": [],
   "source": [
    "svm_cv.fit(X_scaled_train, y_train)\n",
    "best_svm = svm_cv.best_estimator_"
   ]
  },
  {
   "cell_type": "code",
   "execution_count": 17,
   "metadata": {},
   "outputs": [
    {
     "name": "stdout",
     "output_type": "stream",
     "text": [
      "best parameters: {'gamma': 0.001, 'C': 1000}\n",
      "score from best parameters: 0.9646671592664741\n"
     ]
    }
   ],
   "source": [
    "print(\"best parameters:\", svm_cv.best_params_)\n",
    "print('score from best parameters:', svm_cv.best_score_)"
   ]
  },
  {
   "cell_type": "code",
   "execution_count": 18,
   "metadata": {},
   "outputs": [
    {
     "name": "stdout",
     "output_type": "stream",
     "text": [
      "Scaled CV score with training set 0.9656411384592037\n",
      "Scaled score with training set 0.9769933499025996\n",
      "Scaled score with testing set 0.9655983073426847\n"
     ]
    }
   ],
   "source": [
    "cv_score_svm = cross_val_score(best_svm, X_scaled_train, y_train, cv=4)\n",
    "print('Scaled CV score with training set', np.mean(cv_score_svm))\n",
    "print('Scaled score with training set', best_svm.score(X_scaled_train, y_train))\n",
    "print('Scaled score with testing set', best_svm.score(X_scaled_test, y_test))"
   ]
  },
  {
   "cell_type": "code",
   "execution_count": 19,
   "metadata": {},
   "outputs": [
    {
     "name": "stdout",
     "output_type": "stream",
     "text": [
      "              precision    recall  f1-score   support\n",
      "\n",
      "           0       0.97      0.99      0.98     10818\n",
      "           1       0.96      0.81      0.88      1943\n",
      "\n",
      "   micro avg       0.97      0.97      0.97     12761\n",
      "   macro avg       0.96      0.90      0.93     12761\n",
      "weighted avg       0.97      0.97      0.96     12761\n",
      "\n"
     ]
    }
   ],
   "source": [
    "#Tuned support vector machine\n",
    "y_pred_smv2 = best_svm.predict(X_scaled_test)\n",
    "print(classification_report(y_test, y_pred_smv2))"
   ]
  },
  {
   "cell_type": "code",
   "execution_count": null,
   "metadata": {},
   "outputs": [],
   "source": []
  },
  {
   "cell_type": "code",
   "execution_count": null,
   "metadata": {},
   "outputs": [],
   "source": []
  },
  {
   "cell_type": "code",
   "execution_count": null,
   "metadata": {},
   "outputs": [],
   "source": []
  },
  {
   "cell_type": "code",
   "execution_count": null,
   "metadata": {},
   "outputs": [],
   "source": []
  }
 ],
 "metadata": {
  "kernelspec": {
   "display_name": "Python 3",
   "language": "python",
   "name": "python3"
  },
  "language_info": {
   "codemirror_mode": {
    "name": "ipython",
    "version": 3
   },
   "file_extension": ".py",
   "mimetype": "text/x-python",
   "name": "python",
   "nbconvert_exporter": "python",
   "pygments_lexer": "ipython3",
   "version": "3.6.8"
  }
 },
 "nbformat": 4,
 "nbformat_minor": 2
}
