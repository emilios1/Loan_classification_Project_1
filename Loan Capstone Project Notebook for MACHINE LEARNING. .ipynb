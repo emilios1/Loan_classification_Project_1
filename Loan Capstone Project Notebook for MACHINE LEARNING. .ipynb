{
 "cells": [
  {
   "cell_type": "code",
   "execution_count": 1,
   "metadata": {},
   "outputs": [],
   "source": [
    "import pandas as pd\n",
    "import numpy as np\n",
    "import matplotlib.pyplot as plt"
   ]
  },
  {
   "cell_type": "code",
   "execution_count": 2,
   "metadata": {},
   "outputs": [],
   "source": [
    "data = pd.ExcelFile('/Users/user/desktop/LoanStats3a.xlsx')"
   ]
  },
  {
   "cell_type": "code",
   "execution_count": 3,
   "metadata": {},
   "outputs": [],
   "source": [
    "df1 = data.parse(0)"
   ]
  },
  {
   "cell_type": "code",
   "execution_count": 4,
   "metadata": {},
   "outputs": [
    {
     "data": {
      "text/html": [
       "<div>\n",
       "<style scoped>\n",
       "    .dataframe tbody tr th:only-of-type {\n",
       "        vertical-align: middle;\n",
       "    }\n",
       "\n",
       "    .dataframe tbody tr th {\n",
       "        vertical-align: top;\n",
       "    }\n",
       "\n",
       "    .dataframe thead th {\n",
       "        text-align: right;\n",
       "    }\n",
       "</style>\n",
       "<table border=\"1\" class=\"dataframe\">\n",
       "  <thead>\n",
       "    <tr style=\"text-align: right;\">\n",
       "      <th></th>\n",
       "      <th>id</th>\n",
       "      <th>member_id</th>\n",
       "      <th>loan_amnt</th>\n",
       "      <th>funded_amnt</th>\n",
       "      <th>funded_amnt_inv</th>\n",
       "      <th>term</th>\n",
       "      <th>int_rate</th>\n",
       "      <th>installment</th>\n",
       "      <th>grade</th>\n",
       "      <th>sub_grade</th>\n",
       "      <th>...</th>\n",
       "      <th>last_credit_pull_d</th>\n",
       "      <th>pub_rec_bankruptcies</th>\n",
       "      <th>debt_settlement_flag</th>\n",
       "      <th>debt_settlement_flag_date</th>\n",
       "      <th>settlement_status</th>\n",
       "      <th>settlement_date</th>\n",
       "      <th>settlement_amount</th>\n",
       "      <th>settlement_percentage</th>\n",
       "      <th>settlement_term</th>\n",
       "      <th>met_credit_policy</th>\n",
       "    </tr>\n",
       "  </thead>\n",
       "  <tbody>\n",
       "    <tr>\n",
       "      <th>0</th>\n",
       "      <td>NaN</td>\n",
       "      <td>NaN</td>\n",
       "      <td>5000</td>\n",
       "      <td>5000</td>\n",
       "      <td>4975.0</td>\n",
       "      <td>36 months</td>\n",
       "      <td>0.1065</td>\n",
       "      <td>162.87</td>\n",
       "      <td>B</td>\n",
       "      <td>B2</td>\n",
       "      <td>...</td>\n",
       "      <td>2018-08-01</td>\n",
       "      <td>0.0</td>\n",
       "      <td>N</td>\n",
       "      <td>NaT</td>\n",
       "      <td>NaN</td>\n",
       "      <td>NaT</td>\n",
       "      <td>NaN</td>\n",
       "      <td>NaN</td>\n",
       "      <td>NaN</td>\n",
       "      <td>Y</td>\n",
       "    </tr>\n",
       "    <tr>\n",
       "      <th>1</th>\n",
       "      <td>NaN</td>\n",
       "      <td>NaN</td>\n",
       "      <td>2500</td>\n",
       "      <td>2500</td>\n",
       "      <td>2500.0</td>\n",
       "      <td>60 months</td>\n",
       "      <td>0.1527</td>\n",
       "      <td>59.83</td>\n",
       "      <td>C</td>\n",
       "      <td>C4</td>\n",
       "      <td>...</td>\n",
       "      <td>2016-10-01</td>\n",
       "      <td>0.0</td>\n",
       "      <td>N</td>\n",
       "      <td>NaT</td>\n",
       "      <td>NaN</td>\n",
       "      <td>NaT</td>\n",
       "      <td>NaN</td>\n",
       "      <td>NaN</td>\n",
       "      <td>NaN</td>\n",
       "      <td>Y</td>\n",
       "    </tr>\n",
       "    <tr>\n",
       "      <th>2</th>\n",
       "      <td>NaN</td>\n",
       "      <td>NaN</td>\n",
       "      <td>2400</td>\n",
       "      <td>2400</td>\n",
       "      <td>2400.0</td>\n",
       "      <td>36 months</td>\n",
       "      <td>0.1596</td>\n",
       "      <td>84.33</td>\n",
       "      <td>C</td>\n",
       "      <td>C5</td>\n",
       "      <td>...</td>\n",
       "      <td>2017-06-01</td>\n",
       "      <td>0.0</td>\n",
       "      <td>N</td>\n",
       "      <td>NaT</td>\n",
       "      <td>NaN</td>\n",
       "      <td>NaT</td>\n",
       "      <td>NaN</td>\n",
       "      <td>NaN</td>\n",
       "      <td>NaN</td>\n",
       "      <td>Y</td>\n",
       "    </tr>\n",
       "    <tr>\n",
       "      <th>3</th>\n",
       "      <td>NaN</td>\n",
       "      <td>NaN</td>\n",
       "      <td>10000</td>\n",
       "      <td>10000</td>\n",
       "      <td>10000.0</td>\n",
       "      <td>36 months</td>\n",
       "      <td>0.1349</td>\n",
       "      <td>339.31</td>\n",
       "      <td>C</td>\n",
       "      <td>C1</td>\n",
       "      <td>...</td>\n",
       "      <td>2016-04-01</td>\n",
       "      <td>0.0</td>\n",
       "      <td>N</td>\n",
       "      <td>NaT</td>\n",
       "      <td>NaN</td>\n",
       "      <td>NaT</td>\n",
       "      <td>NaN</td>\n",
       "      <td>NaN</td>\n",
       "      <td>NaN</td>\n",
       "      <td>Y</td>\n",
       "    </tr>\n",
       "    <tr>\n",
       "      <th>4</th>\n",
       "      <td>NaN</td>\n",
       "      <td>NaN</td>\n",
       "      <td>3000</td>\n",
       "      <td>3000</td>\n",
       "      <td>3000.0</td>\n",
       "      <td>60 months</td>\n",
       "      <td>0.1269</td>\n",
       "      <td>67.79</td>\n",
       "      <td>B</td>\n",
       "      <td>B5</td>\n",
       "      <td>...</td>\n",
       "      <td>2018-04-01</td>\n",
       "      <td>0.0</td>\n",
       "      <td>N</td>\n",
       "      <td>NaT</td>\n",
       "      <td>NaN</td>\n",
       "      <td>NaT</td>\n",
       "      <td>NaN</td>\n",
       "      <td>NaN</td>\n",
       "      <td>NaN</td>\n",
       "      <td>Y</td>\n",
       "    </tr>\n",
       "  </tbody>\n",
       "</table>\n",
       "<p>5 rows × 54 columns</p>\n",
       "</div>"
      ],
      "text/plain": [
       "   id  member_id  loan_amnt  funded_amnt  funded_amnt_inv        term  \\\n",
       "0 NaN        NaN       5000         5000           4975.0   36 months   \n",
       "1 NaN        NaN       2500         2500           2500.0   60 months   \n",
       "2 NaN        NaN       2400         2400           2400.0   36 months   \n",
       "3 NaN        NaN      10000        10000          10000.0   36 months   \n",
       "4 NaN        NaN       3000         3000           3000.0   60 months   \n",
       "\n",
       "   int_rate  installment grade sub_grade        ...        last_credit_pull_d  \\\n",
       "0    0.1065       162.87     B        B2        ...                2018-08-01   \n",
       "1    0.1527        59.83     C        C4        ...                2016-10-01   \n",
       "2    0.1596        84.33     C        C5        ...                2017-06-01   \n",
       "3    0.1349       339.31     C        C1        ...                2016-04-01   \n",
       "4    0.1269        67.79     B        B5        ...                2018-04-01   \n",
       "\n",
       "  pub_rec_bankruptcies debt_settlement_flag  debt_settlement_flag_date  \\\n",
       "0                  0.0                    N                        NaT   \n",
       "1                  0.0                    N                        NaT   \n",
       "2                  0.0                    N                        NaT   \n",
       "3                  0.0                    N                        NaT   \n",
       "4                  0.0                    N                        NaT   \n",
       "\n",
       "  settlement_status settlement_date settlement_amount settlement_percentage  \\\n",
       "0               NaN             NaT               NaN                   NaN   \n",
       "1               NaN             NaT               NaN                   NaN   \n",
       "2               NaN             NaT               NaN                   NaN   \n",
       "3               NaN             NaT               NaN                   NaN   \n",
       "4               NaN             NaT               NaN                   NaN   \n",
       "\n",
       "  settlement_term met_credit_policy  \n",
       "0             NaN                 Y  \n",
       "1             NaN                 Y  \n",
       "2             NaN                 Y  \n",
       "3             NaN                 Y  \n",
       "4             NaN                 Y  \n",
       "\n",
       "[5 rows x 54 columns]"
      ]
     },
     "execution_count": 4,
     "metadata": {},
     "output_type": "execute_result"
    }
   ],
   "source": [
    "df1.head()"
   ]
  },
  {
   "cell_type": "markdown",
   "metadata": {},
   "source": [
    "# Cleaning Data"
   ]
  },
  {
   "cell_type": "code",
   "execution_count": 5,
   "metadata": {},
   "outputs": [],
   "source": [
    "member_id_entries = list(range(1,42536))\n",
    "df1['member_id'] = member_id_entries\n",
    "df1 = df1.set_index('member_id')"
   ]
  },
  {
   "cell_type": "code",
   "execution_count": 6,
   "metadata": {},
   "outputs": [
    {
     "data": {
      "text/html": [
       "<div>\n",
       "<style scoped>\n",
       "    .dataframe tbody tr th:only-of-type {\n",
       "        vertical-align: middle;\n",
       "    }\n",
       "\n",
       "    .dataframe tbody tr th {\n",
       "        vertical-align: top;\n",
       "    }\n",
       "\n",
       "    .dataframe thead th {\n",
       "        text-align: right;\n",
       "    }\n",
       "</style>\n",
       "<table border=\"1\" class=\"dataframe\">\n",
       "  <thead>\n",
       "    <tr style=\"text-align: right;\">\n",
       "      <th></th>\n",
       "      <th>id</th>\n",
       "      <th>loan_amnt</th>\n",
       "      <th>funded_amnt</th>\n",
       "      <th>funded_amnt_inv</th>\n",
       "      <th>term</th>\n",
       "      <th>int_rate</th>\n",
       "      <th>installment</th>\n",
       "      <th>grade</th>\n",
       "      <th>sub_grade</th>\n",
       "      <th>emp_title</th>\n",
       "      <th>...</th>\n",
       "      <th>last_credit_pull_d</th>\n",
       "      <th>pub_rec_bankruptcies</th>\n",
       "      <th>debt_settlement_flag</th>\n",
       "      <th>debt_settlement_flag_date</th>\n",
       "      <th>settlement_status</th>\n",
       "      <th>settlement_date</th>\n",
       "      <th>settlement_amount</th>\n",
       "      <th>settlement_percentage</th>\n",
       "      <th>settlement_term</th>\n",
       "      <th>met_credit_policy</th>\n",
       "    </tr>\n",
       "    <tr>\n",
       "      <th>member_id</th>\n",
       "      <th></th>\n",
       "      <th></th>\n",
       "      <th></th>\n",
       "      <th></th>\n",
       "      <th></th>\n",
       "      <th></th>\n",
       "      <th></th>\n",
       "      <th></th>\n",
       "      <th></th>\n",
       "      <th></th>\n",
       "      <th></th>\n",
       "      <th></th>\n",
       "      <th></th>\n",
       "      <th></th>\n",
       "      <th></th>\n",
       "      <th></th>\n",
       "      <th></th>\n",
       "      <th></th>\n",
       "      <th></th>\n",
       "      <th></th>\n",
       "      <th></th>\n",
       "    </tr>\n",
       "  </thead>\n",
       "  <tbody>\n",
       "    <tr>\n",
       "      <th>1</th>\n",
       "      <td>NaN</td>\n",
       "      <td>5000</td>\n",
       "      <td>5000</td>\n",
       "      <td>4975.0</td>\n",
       "      <td>36 months</td>\n",
       "      <td>0.1065</td>\n",
       "      <td>162.87</td>\n",
       "      <td>B</td>\n",
       "      <td>B2</td>\n",
       "      <td>NaN</td>\n",
       "      <td>...</td>\n",
       "      <td>2018-08-01</td>\n",
       "      <td>0.0</td>\n",
       "      <td>N</td>\n",
       "      <td>NaT</td>\n",
       "      <td>NaN</td>\n",
       "      <td>NaT</td>\n",
       "      <td>NaN</td>\n",
       "      <td>NaN</td>\n",
       "      <td>NaN</td>\n",
       "      <td>Y</td>\n",
       "    </tr>\n",
       "    <tr>\n",
       "      <th>2</th>\n",
       "      <td>NaN</td>\n",
       "      <td>2500</td>\n",
       "      <td>2500</td>\n",
       "      <td>2500.0</td>\n",
       "      <td>60 months</td>\n",
       "      <td>0.1527</td>\n",
       "      <td>59.83</td>\n",
       "      <td>C</td>\n",
       "      <td>C4</td>\n",
       "      <td>Ryder</td>\n",
       "      <td>...</td>\n",
       "      <td>2016-10-01</td>\n",
       "      <td>0.0</td>\n",
       "      <td>N</td>\n",
       "      <td>NaT</td>\n",
       "      <td>NaN</td>\n",
       "      <td>NaT</td>\n",
       "      <td>NaN</td>\n",
       "      <td>NaN</td>\n",
       "      <td>NaN</td>\n",
       "      <td>Y</td>\n",
       "    </tr>\n",
       "    <tr>\n",
       "      <th>3</th>\n",
       "      <td>NaN</td>\n",
       "      <td>2400</td>\n",
       "      <td>2400</td>\n",
       "      <td>2400.0</td>\n",
       "      <td>36 months</td>\n",
       "      <td>0.1596</td>\n",
       "      <td>84.33</td>\n",
       "      <td>C</td>\n",
       "      <td>C5</td>\n",
       "      <td>NaN</td>\n",
       "      <td>...</td>\n",
       "      <td>2017-06-01</td>\n",
       "      <td>0.0</td>\n",
       "      <td>N</td>\n",
       "      <td>NaT</td>\n",
       "      <td>NaN</td>\n",
       "      <td>NaT</td>\n",
       "      <td>NaN</td>\n",
       "      <td>NaN</td>\n",
       "      <td>NaN</td>\n",
       "      <td>Y</td>\n",
       "    </tr>\n",
       "    <tr>\n",
       "      <th>4</th>\n",
       "      <td>NaN</td>\n",
       "      <td>10000</td>\n",
       "      <td>10000</td>\n",
       "      <td>10000.0</td>\n",
       "      <td>36 months</td>\n",
       "      <td>0.1349</td>\n",
       "      <td>339.31</td>\n",
       "      <td>C</td>\n",
       "      <td>C1</td>\n",
       "      <td>AIR RESOURCES BOARD</td>\n",
       "      <td>...</td>\n",
       "      <td>2016-04-01</td>\n",
       "      <td>0.0</td>\n",
       "      <td>N</td>\n",
       "      <td>NaT</td>\n",
       "      <td>NaN</td>\n",
       "      <td>NaT</td>\n",
       "      <td>NaN</td>\n",
       "      <td>NaN</td>\n",
       "      <td>NaN</td>\n",
       "      <td>Y</td>\n",
       "    </tr>\n",
       "    <tr>\n",
       "      <th>5</th>\n",
       "      <td>NaN</td>\n",
       "      <td>3000</td>\n",
       "      <td>3000</td>\n",
       "      <td>3000.0</td>\n",
       "      <td>60 months</td>\n",
       "      <td>0.1269</td>\n",
       "      <td>67.79</td>\n",
       "      <td>B</td>\n",
       "      <td>B5</td>\n",
       "      <td>University Medical Group</td>\n",
       "      <td>...</td>\n",
       "      <td>2018-04-01</td>\n",
       "      <td>0.0</td>\n",
       "      <td>N</td>\n",
       "      <td>NaT</td>\n",
       "      <td>NaN</td>\n",
       "      <td>NaT</td>\n",
       "      <td>NaN</td>\n",
       "      <td>NaN</td>\n",
       "      <td>NaN</td>\n",
       "      <td>Y</td>\n",
       "    </tr>\n",
       "  </tbody>\n",
       "</table>\n",
       "<p>5 rows × 53 columns</p>\n",
       "</div>"
      ],
      "text/plain": [
       "           id  loan_amnt  funded_amnt  funded_amnt_inv        term  int_rate  \\\n",
       "member_id                                                                      \n",
       "1         NaN       5000         5000           4975.0   36 months    0.1065   \n",
       "2         NaN       2500         2500           2500.0   60 months    0.1527   \n",
       "3         NaN       2400         2400           2400.0   36 months    0.1596   \n",
       "4         NaN      10000        10000          10000.0   36 months    0.1349   \n",
       "5         NaN       3000         3000           3000.0   60 months    0.1269   \n",
       "\n",
       "           installment grade sub_grade                 emp_title  \\\n",
       "member_id                                                          \n",
       "1               162.87     B        B2                       NaN   \n",
       "2                59.83     C        C4                     Ryder   \n",
       "3                84.33     C        C5                       NaN   \n",
       "4               339.31     C        C1       AIR RESOURCES BOARD   \n",
       "5                67.79     B        B5  University Medical Group   \n",
       "\n",
       "                 ...        last_credit_pull_d pub_rec_bankruptcies  \\\n",
       "member_id        ...                                                  \n",
       "1                ...                2018-08-01                  0.0   \n",
       "2                ...                2016-10-01                  0.0   \n",
       "3                ...                2017-06-01                  0.0   \n",
       "4                ...                2016-04-01                  0.0   \n",
       "5                ...                2018-04-01                  0.0   \n",
       "\n",
       "           debt_settlement_flag debt_settlement_flag_date settlement_status  \\\n",
       "member_id                                                                     \n",
       "1                             N                       NaT               NaN   \n",
       "2                             N                       NaT               NaN   \n",
       "3                             N                       NaT               NaN   \n",
       "4                             N                       NaT               NaN   \n",
       "5                             N                       NaT               NaN   \n",
       "\n",
       "          settlement_date settlement_amount settlement_percentage  \\\n",
       "member_id                                                           \n",
       "1                     NaT               NaN                   NaN   \n",
       "2                     NaT               NaN                   NaN   \n",
       "3                     NaT               NaN                   NaN   \n",
       "4                     NaT               NaN                   NaN   \n",
       "5                     NaT               NaN                   NaN   \n",
       "\n",
       "          settlement_term met_credit_policy  \n",
       "member_id                                    \n",
       "1                     NaN                 Y  \n",
       "2                     NaN                 Y  \n",
       "3                     NaN                 Y  \n",
       "4                     NaN                 Y  \n",
       "5                     NaN                 Y  \n",
       "\n",
       "[5 rows x 53 columns]"
      ]
     },
     "execution_count": 6,
     "metadata": {},
     "output_type": "execute_result"
    }
   ],
   "source": [
    "df1.head()"
   ]
  },
  {
   "cell_type": "code",
   "execution_count": 7,
   "metadata": {},
   "outputs": [],
   "source": [
    "# Deleting columns.\n",
    "del df1['id']"
   ]
  },
  {
   "cell_type": "code",
   "execution_count": 8,
   "metadata": {},
   "outputs": [],
   "source": [
    "# Vague data, not informative\n",
    "del df1['title']\n",
    "del df1['emp_title']\n",
    "del df1['desc']"
   ]
  },
  {
   "cell_type": "code",
   "execution_count": 9,
   "metadata": {},
   "outputs": [],
   "source": [
    "# Settlements are post loans and can't be used for prediction of a loans that preceeds settlement. \n",
    "del df1['debt_settlement_flag']\n",
    "del df1['debt_settlement_flag_date']\n",
    "del df1['settlement_status']\n",
    "del df1['settlement_date']\n",
    "del df1['settlement_amount']\n",
    "del df1['settlement_percentage']\n",
    "del df1['settlement_term']\n",
    "del df1['met_credit_policy']"
   ]
  },
  {
   "cell_type": "code",
   "execution_count": 10,
   "metadata": {},
   "outputs": [],
   "source": [
    "del df1['earliest_cr_line']\n",
    "del df1['last_pymnt_d']\n",
    "del df1['last_credit_pull_d']"
   ]
  },
  {
   "cell_type": "code",
   "execution_count": 11,
   "metadata": {},
   "outputs": [],
   "source": [
    "del df1['pymnt_plan']\n",
    "del df1['initial_list_status']\n",
    "del df1['issue_d']"
   ]
  },
  {
   "cell_type": "code",
   "execution_count": 12,
   "metadata": {},
   "outputs": [],
   "source": [
    "del df1['recoveries']"
   ]
  },
  {
   "cell_type": "code",
   "execution_count": 13,
   "metadata": {},
   "outputs": [],
   "source": [
    "del df1['zip_code']\n",
    "del df1['addr_state']\n",
    "del df1['total_pymnt_inv']\n",
    "del df1['total_rec_late_fee']\n",
    "del df1['collection_recovery_fee']"
   ]
  },
  {
   "cell_type": "code",
   "execution_count": 14,
   "metadata": {},
   "outputs": [],
   "source": [
    "del df1['last_pymnt_amnt']"
   ]
  },
  {
   "cell_type": "code",
   "execution_count": 15,
   "metadata": {},
   "outputs": [],
   "source": [
    "del df1['sub_grade']"
   ]
  },
  {
   "cell_type": "code",
   "execution_count": 16,
   "metadata": {},
   "outputs": [],
   "source": [
    "del df1['mths_since_last_delinq'] # over half of data missing\n",
    "del df1['mths_since_last_record'] # over half of data missing\n",
    "del df1['total_rec_prncp']\n",
    "del df1['total_rec_int'] "
   ]
  },
  {
   "cell_type": "code",
   "execution_count": 17,
   "metadata": {},
   "outputs": [
    {
     "data": {
      "text/html": [
       "<div>\n",
       "<style scoped>\n",
       "    .dataframe tbody tr th:only-of-type {\n",
       "        vertical-align: middle;\n",
       "    }\n",
       "\n",
       "    .dataframe tbody tr th {\n",
       "        vertical-align: top;\n",
       "    }\n",
       "\n",
       "    .dataframe thead th {\n",
       "        text-align: right;\n",
       "    }\n",
       "</style>\n",
       "<table border=\"1\" class=\"dataframe\">\n",
       "  <thead>\n",
       "    <tr style=\"text-align: right;\">\n",
       "      <th></th>\n",
       "      <th>loan_amnt</th>\n",
       "      <th>funded_amnt</th>\n",
       "      <th>funded_amnt_inv</th>\n",
       "      <th>term</th>\n",
       "      <th>int_rate</th>\n",
       "      <th>installment</th>\n",
       "      <th>grade</th>\n",
       "      <th>emp_length</th>\n",
       "      <th>home_ownership</th>\n",
       "      <th>annual_inc</th>\n",
       "      <th>...</th>\n",
       "      <th>dti</th>\n",
       "      <th>delinq_2yrs</th>\n",
       "      <th>inq_last_6mths</th>\n",
       "      <th>open_acc</th>\n",
       "      <th>pub_rec</th>\n",
       "      <th>revol_bal</th>\n",
       "      <th>revol_util</th>\n",
       "      <th>total_acc</th>\n",
       "      <th>total_pymnt</th>\n",
       "      <th>pub_rec_bankruptcies</th>\n",
       "    </tr>\n",
       "    <tr>\n",
       "      <th>member_id</th>\n",
       "      <th></th>\n",
       "      <th></th>\n",
       "      <th></th>\n",
       "      <th></th>\n",
       "      <th></th>\n",
       "      <th></th>\n",
       "      <th></th>\n",
       "      <th></th>\n",
       "      <th></th>\n",
       "      <th></th>\n",
       "      <th></th>\n",
       "      <th></th>\n",
       "      <th></th>\n",
       "      <th></th>\n",
       "      <th></th>\n",
       "      <th></th>\n",
       "      <th></th>\n",
       "      <th></th>\n",
       "      <th></th>\n",
       "      <th></th>\n",
       "      <th></th>\n",
       "    </tr>\n",
       "  </thead>\n",
       "  <tbody>\n",
       "    <tr>\n",
       "      <th>1</th>\n",
       "      <td>5000</td>\n",
       "      <td>5000</td>\n",
       "      <td>4975.0</td>\n",
       "      <td>36 months</td>\n",
       "      <td>0.1065</td>\n",
       "      <td>162.87</td>\n",
       "      <td>B</td>\n",
       "      <td>10+ years</td>\n",
       "      <td>RENT</td>\n",
       "      <td>24000.0</td>\n",
       "      <td>...</td>\n",
       "      <td>27.65</td>\n",
       "      <td>0.0</td>\n",
       "      <td>1.0</td>\n",
       "      <td>3.0</td>\n",
       "      <td>0.0</td>\n",
       "      <td>13648</td>\n",
       "      <td>0.837</td>\n",
       "      <td>9.0</td>\n",
       "      <td>5863.155187</td>\n",
       "      <td>0.0</td>\n",
       "    </tr>\n",
       "    <tr>\n",
       "      <th>2</th>\n",
       "      <td>2500</td>\n",
       "      <td>2500</td>\n",
       "      <td>2500.0</td>\n",
       "      <td>60 months</td>\n",
       "      <td>0.1527</td>\n",
       "      <td>59.83</td>\n",
       "      <td>C</td>\n",
       "      <td>&lt; 1 year</td>\n",
       "      <td>RENT</td>\n",
       "      <td>30000.0</td>\n",
       "      <td>...</td>\n",
       "      <td>1.00</td>\n",
       "      <td>0.0</td>\n",
       "      <td>5.0</td>\n",
       "      <td>3.0</td>\n",
       "      <td>0.0</td>\n",
       "      <td>1687</td>\n",
       "      <td>0.094</td>\n",
       "      <td>4.0</td>\n",
       "      <td>1014.530000</td>\n",
       "      <td>0.0</td>\n",
       "    </tr>\n",
       "    <tr>\n",
       "      <th>3</th>\n",
       "      <td>2400</td>\n",
       "      <td>2400</td>\n",
       "      <td>2400.0</td>\n",
       "      <td>36 months</td>\n",
       "      <td>0.1596</td>\n",
       "      <td>84.33</td>\n",
       "      <td>C</td>\n",
       "      <td>10+ years</td>\n",
       "      <td>RENT</td>\n",
       "      <td>12252.0</td>\n",
       "      <td>...</td>\n",
       "      <td>8.72</td>\n",
       "      <td>0.0</td>\n",
       "      <td>2.0</td>\n",
       "      <td>2.0</td>\n",
       "      <td>0.0</td>\n",
       "      <td>2956</td>\n",
       "      <td>0.985</td>\n",
       "      <td>10.0</td>\n",
       "      <td>3005.666844</td>\n",
       "      <td>0.0</td>\n",
       "    </tr>\n",
       "    <tr>\n",
       "      <th>4</th>\n",
       "      <td>10000</td>\n",
       "      <td>10000</td>\n",
       "      <td>10000.0</td>\n",
       "      <td>36 months</td>\n",
       "      <td>0.1349</td>\n",
       "      <td>339.31</td>\n",
       "      <td>C</td>\n",
       "      <td>10+ years</td>\n",
       "      <td>RENT</td>\n",
       "      <td>49200.0</td>\n",
       "      <td>...</td>\n",
       "      <td>20.00</td>\n",
       "      <td>0.0</td>\n",
       "      <td>1.0</td>\n",
       "      <td>10.0</td>\n",
       "      <td>0.0</td>\n",
       "      <td>5598</td>\n",
       "      <td>0.210</td>\n",
       "      <td>37.0</td>\n",
       "      <td>12231.890000</td>\n",
       "      <td>0.0</td>\n",
       "    </tr>\n",
       "    <tr>\n",
       "      <th>5</th>\n",
       "      <td>3000</td>\n",
       "      <td>3000</td>\n",
       "      <td>3000.0</td>\n",
       "      <td>60 months</td>\n",
       "      <td>0.1269</td>\n",
       "      <td>67.79</td>\n",
       "      <td>B</td>\n",
       "      <td>1 year</td>\n",
       "      <td>RENT</td>\n",
       "      <td>80000.0</td>\n",
       "      <td>...</td>\n",
       "      <td>17.94</td>\n",
       "      <td>0.0</td>\n",
       "      <td>0.0</td>\n",
       "      <td>15.0</td>\n",
       "      <td>0.0</td>\n",
       "      <td>27783</td>\n",
       "      <td>0.539</td>\n",
       "      <td>38.0</td>\n",
       "      <td>4066.908161</td>\n",
       "      <td>0.0</td>\n",
       "    </tr>\n",
       "  </tbody>\n",
       "</table>\n",
       "<p>5 rows × 23 columns</p>\n",
       "</div>"
      ],
      "text/plain": [
       "           loan_amnt  funded_amnt  funded_amnt_inv        term  int_rate  \\\n",
       "member_id                                                                  \n",
       "1               5000         5000           4975.0   36 months    0.1065   \n",
       "2               2500         2500           2500.0   60 months    0.1527   \n",
       "3               2400         2400           2400.0   36 months    0.1596   \n",
       "4              10000        10000          10000.0   36 months    0.1349   \n",
       "5               3000         3000           3000.0   60 months    0.1269   \n",
       "\n",
       "           installment grade emp_length home_ownership  annual_inc  \\\n",
       "member_id                                                            \n",
       "1               162.87     B  10+ years           RENT     24000.0   \n",
       "2                59.83     C   < 1 year           RENT     30000.0   \n",
       "3                84.33     C  10+ years           RENT     12252.0   \n",
       "4               339.31     C  10+ years           RENT     49200.0   \n",
       "5                67.79     B     1 year           RENT     80000.0   \n",
       "\n",
       "                   ...             dti delinq_2yrs inq_last_6mths  open_acc  \\\n",
       "member_id          ...                                                        \n",
       "1                  ...           27.65         0.0            1.0       3.0   \n",
       "2                  ...            1.00         0.0            5.0       3.0   \n",
       "3                  ...            8.72         0.0            2.0       2.0   \n",
       "4                  ...           20.00         0.0            1.0      10.0   \n",
       "5                  ...           17.94         0.0            0.0      15.0   \n",
       "\n",
       "           pub_rec  revol_bal  revol_util  total_acc   total_pymnt  \\\n",
       "member_id                                                            \n",
       "1              0.0      13648       0.837        9.0   5863.155187   \n",
       "2              0.0       1687       0.094        4.0   1014.530000   \n",
       "3              0.0       2956       0.985       10.0   3005.666844   \n",
       "4              0.0       5598       0.210       37.0  12231.890000   \n",
       "5              0.0      27783       0.539       38.0   4066.908161   \n",
       "\n",
       "           pub_rec_bankruptcies  \n",
       "member_id                        \n",
       "1                           0.0  \n",
       "2                           0.0  \n",
       "3                           0.0  \n",
       "4                           0.0  \n",
       "5                           0.0  \n",
       "\n",
       "[5 rows x 23 columns]"
      ]
     },
     "execution_count": 17,
     "metadata": {},
     "output_type": "execute_result"
    }
   ],
   "source": [
    "df1.head()"
   ]
  },
  {
   "cell_type": "code",
   "execution_count": 18,
   "metadata": {},
   "outputs": [
    {
     "name": "stdout",
     "output_type": "stream",
     "text": [
      "<class 'pandas.core.frame.DataFrame'>\n",
      "Int64Index: 42535 entries, 1 to 42535\n",
      "Data columns (total 23 columns):\n",
      "loan_amnt               42535 non-null int64\n",
      "funded_amnt             42535 non-null int64\n",
      "funded_amnt_inv         42535 non-null float64\n",
      "term                    42535 non-null object\n",
      "int_rate                42535 non-null float64\n",
      "installment             42535 non-null float64\n",
      "grade                   42535 non-null object\n",
      "emp_length              41423 non-null object\n",
      "home_ownership          42535 non-null object\n",
      "annual_inc              42531 non-null float64\n",
      "verification_status     42535 non-null object\n",
      "loan_status             42535 non-null object\n",
      "purpose                 42535 non-null object\n",
      "dti                     42535 non-null float64\n",
      "delinq_2yrs             42506 non-null float64\n",
      "inq_last_6mths          42506 non-null float64\n",
      "open_acc                42506 non-null float64\n",
      "pub_rec                 42506 non-null float64\n",
      "revol_bal               42535 non-null int64\n",
      "revol_util              42445 non-null float64\n",
      "total_acc               42506 non-null float64\n",
      "total_pymnt             42535 non-null float64\n",
      "pub_rec_bankruptcies    41170 non-null float64\n",
      "dtypes: float64(13), int64(3), object(7)\n",
      "memory usage: 7.8+ MB\n"
     ]
    }
   ],
   "source": [
    "df1.info()"
   ]
  },
  {
   "cell_type": "code",
   "execution_count": 19,
   "metadata": {},
   "outputs": [
    {
     "name": "stdout",
     "output_type": "stream",
     "text": [
      "<class 'pandas.core.frame.DataFrame'>\n",
      "Int64Index: 42535 entries, 1 to 42535\n",
      "Data columns (total 23 columns):\n",
      "loan_amnt               42535 non-null int64\n",
      "funded_amnt             42535 non-null int64\n",
      "funded_amnt_inv         42535 non-null float64\n",
      "term                    42535 non-null object\n",
      "int_rate                42535 non-null float64\n",
      "installment             42535 non-null float64\n",
      "grade                   42535 non-null object\n",
      "emp_length              41423 non-null object\n",
      "home_ownership          42535 non-null object\n",
      "annual_inc              42531 non-null float64\n",
      "verification_status     42535 non-null object\n",
      "loan_status             42535 non-null object\n",
      "purpose                 42535 non-null object\n",
      "dti                     42535 non-null float64\n",
      "delinq_2yrs             42506 non-null float64\n",
      "inq_last_6mths          42506 non-null float64\n",
      "open_acc                42506 non-null float64\n",
      "pub_rec                 42506 non-null float64\n",
      "revol_bal               42535 non-null int64\n",
      "revol_util              42445 non-null float64\n",
      "total_acc               42506 non-null float64\n",
      "total_pymnt             42535 non-null float64\n",
      "pub_rec_bankruptcies    41170 non-null float64\n",
      "dtypes: float64(13), int64(3), object(7)\n",
      "memory usage: 7.8+ MB\n"
     ]
    }
   ],
   "source": [
    "df1.info()"
   ]
  },
  {
   "cell_type": "code",
   "execution_count": 20,
   "metadata": {},
   "outputs": [
    {
     "data": {
      "text/plain": [
       "['emp_length',\n",
       " 'annual_inc',\n",
       " 'delinq_2yrs',\n",
       " 'inq_last_6mths',\n",
       " 'open_acc',\n",
       " 'pub_rec',\n",
       " 'revol_util',\n",
       " 'total_acc',\n",
       " 'pub_rec_bankruptcies']"
      ]
     },
     "execution_count": 20,
     "metadata": {},
     "output_type": "execute_result"
    }
   ],
   "source": [
    "df1.columns[df1.isna().any()].tolist()"
   ]
  },
  {
   "cell_type": "code",
   "execution_count": 21,
   "metadata": {},
   "outputs": [],
   "source": [
    "# filling missing data according to what makes most sense on a case by case basis. \n",
    "df1['annual_inc'] = df1['annual_inc'].fillna(value=df1.annual_inc.mode())\n",
    "df1['delinq_2yrs'] = df1['delinq_2yrs'].fillna(value = df1.delinq_2yrs.mode())\n",
    "df1['open_acc'] = df1['open_acc'].fillna(value = df1.open_acc.median())\n",
    "df1.delinq_2yrs = df1.delinq_2yrs.fillna(value = 0)\n",
    "df1.pub_rec = df1.pub_rec.fillna(value = df1.pub_rec.mean())\n",
    "df1['revol_util'] = df1['revol_util'].fillna(value = df1.revol_util.mean())\n",
    "df1['total_acc'] = df1['total_acc'].fillna(value = df1.total_acc.mean())\n",
    "df1['emp_length'] = df1['emp_length'].fillna(method = 'ffill')\n",
    "df1['inq_last_6mths'] = df1['emp_length'].fillna(value=1)\n",
    "df1['pub_rec_bankruptcies'] = df1['emp_length'].fillna(method = 'ffill')"
   ]
  },
  {
   "cell_type": "code",
   "execution_count": 22,
   "metadata": {},
   "outputs": [],
   "source": [
    "# Turning objects to category data types\n",
    "df1.grade = df1.grade.astype('category')\n",
    "df1.term = df1.term.astype('category')\n",
    "df1.emp_length = df1.emp_length.astype('category')\n",
    "df1.home_ownership = df1.home_ownership.astype('category')\n",
    "df1.verification_status = df1.verification_status.astype('category')\n",
    "df1.loan_status = df1.loan_status.astype('category')\n",
    "df1.purpose = df1.purpose.astype('category')"
   ]
  },
  {
   "cell_type": "code",
   "execution_count": 23,
   "metadata": {},
   "outputs": [],
   "source": [
    "df1.loan_status = df1.loan_status.replace('Does not meet the credit policy. Status:Fully Paid', 'Fully Paid')\n",
    "df1.loan_status = df1.loan_status.replace('Does not meet the credit policy. Status:Charged Off', 'Charged Off')"
   ]
  },
  {
   "cell_type": "code",
   "execution_count": 24,
   "metadata": {},
   "outputs": [],
   "source": [
    "df1['annual_inc'] = df1['annual_inc'].fillna(value=df1.annual_inc.mean())"
   ]
  },
  {
   "cell_type": "code",
   "execution_count": 25,
   "metadata": {},
   "outputs": [
    {
     "name": "stdout",
     "output_type": "stream",
     "text": [
      "<class 'pandas.core.frame.DataFrame'>\n",
      "Int64Index: 42535 entries, 1 to 42535\n",
      "Data columns (total 23 columns):\n",
      "loan_amnt               42535 non-null int64\n",
      "funded_amnt             42535 non-null int64\n",
      "funded_amnt_inv         42535 non-null float64\n",
      "term                    42535 non-null category\n",
      "int_rate                42535 non-null float64\n",
      "installment             42535 non-null float64\n",
      "grade                   42535 non-null category\n",
      "emp_length              42535 non-null category\n",
      "home_ownership          42535 non-null category\n",
      "annual_inc              42535 non-null float64\n",
      "verification_status     42535 non-null category\n",
      "loan_status             42535 non-null category\n",
      "purpose                 42535 non-null category\n",
      "dti                     42535 non-null float64\n",
      "delinq_2yrs             42535 non-null float64\n",
      "inq_last_6mths          42535 non-null object\n",
      "open_acc                42535 non-null float64\n",
      "pub_rec                 42535 non-null float64\n",
      "revol_bal               42535 non-null int64\n",
      "revol_util              42535 non-null float64\n",
      "total_acc               42535 non-null float64\n",
      "total_pymnt             42535 non-null float64\n",
      "pub_rec_bankruptcies    42535 non-null object\n",
      "dtypes: category(7), float64(11), int64(3), object(2)\n",
      "memory usage: 5.8+ MB\n"
     ]
    }
   ],
   "source": [
    "df1.info()"
   ]
  },
  {
   "cell_type": "code",
   "execution_count": 26,
   "metadata": {},
   "outputs": [
    {
     "data": {
      "text/html": [
       "<div>\n",
       "<style scoped>\n",
       "    .dataframe tbody tr th:only-of-type {\n",
       "        vertical-align: middle;\n",
       "    }\n",
       "\n",
       "    .dataframe tbody tr th {\n",
       "        vertical-align: top;\n",
       "    }\n",
       "\n",
       "    .dataframe thead th {\n",
       "        text-align: right;\n",
       "    }\n",
       "</style>\n",
       "<table border=\"1\" class=\"dataframe\">\n",
       "  <thead>\n",
       "    <tr style=\"text-align: right;\">\n",
       "      <th></th>\n",
       "      <th>0</th>\n",
       "    </tr>\n",
       "  </thead>\n",
       "  <tbody>\n",
       "    <tr>\n",
       "      <th>0</th>\n",
       "      <td>loan_amnt</td>\n",
       "    </tr>\n",
       "    <tr>\n",
       "      <th>1</th>\n",
       "      <td>funded_amnt</td>\n",
       "    </tr>\n",
       "    <tr>\n",
       "      <th>2</th>\n",
       "      <td>funded_amnt_inv</td>\n",
       "    </tr>\n",
       "    <tr>\n",
       "      <th>3</th>\n",
       "      <td>term</td>\n",
       "    </tr>\n",
       "    <tr>\n",
       "      <th>4</th>\n",
       "      <td>int_rate</td>\n",
       "    </tr>\n",
       "    <tr>\n",
       "      <th>5</th>\n",
       "      <td>installment</td>\n",
       "    </tr>\n",
       "    <tr>\n",
       "      <th>6</th>\n",
       "      <td>grade</td>\n",
       "    </tr>\n",
       "    <tr>\n",
       "      <th>7</th>\n",
       "      <td>emp_length</td>\n",
       "    </tr>\n",
       "    <tr>\n",
       "      <th>8</th>\n",
       "      <td>home_ownership</td>\n",
       "    </tr>\n",
       "    <tr>\n",
       "      <th>9</th>\n",
       "      <td>annual_inc</td>\n",
       "    </tr>\n",
       "    <tr>\n",
       "      <th>10</th>\n",
       "      <td>verification_status</td>\n",
       "    </tr>\n",
       "    <tr>\n",
       "      <th>11</th>\n",
       "      <td>loan_status</td>\n",
       "    </tr>\n",
       "    <tr>\n",
       "      <th>12</th>\n",
       "      <td>purpose</td>\n",
       "    </tr>\n",
       "    <tr>\n",
       "      <th>13</th>\n",
       "      <td>dti</td>\n",
       "    </tr>\n",
       "    <tr>\n",
       "      <th>14</th>\n",
       "      <td>delinq_2yrs</td>\n",
       "    </tr>\n",
       "    <tr>\n",
       "      <th>15</th>\n",
       "      <td>inq_last_6mths</td>\n",
       "    </tr>\n",
       "    <tr>\n",
       "      <th>16</th>\n",
       "      <td>open_acc</td>\n",
       "    </tr>\n",
       "    <tr>\n",
       "      <th>17</th>\n",
       "      <td>pub_rec</td>\n",
       "    </tr>\n",
       "    <tr>\n",
       "      <th>18</th>\n",
       "      <td>revol_bal</td>\n",
       "    </tr>\n",
       "    <tr>\n",
       "      <th>19</th>\n",
       "      <td>revol_util</td>\n",
       "    </tr>\n",
       "    <tr>\n",
       "      <th>20</th>\n",
       "      <td>total_acc</td>\n",
       "    </tr>\n",
       "    <tr>\n",
       "      <th>21</th>\n",
       "      <td>total_pymnt</td>\n",
       "    </tr>\n",
       "    <tr>\n",
       "      <th>22</th>\n",
       "      <td>pub_rec_bankruptcies</td>\n",
       "    </tr>\n",
       "  </tbody>\n",
       "</table>\n",
       "</div>"
      ],
      "text/plain": [
       "                       0\n",
       "0              loan_amnt\n",
       "1            funded_amnt\n",
       "2        funded_amnt_inv\n",
       "3                   term\n",
       "4               int_rate\n",
       "5            installment\n",
       "6                  grade\n",
       "7             emp_length\n",
       "8         home_ownership\n",
       "9             annual_inc\n",
       "10   verification_status\n",
       "11           loan_status\n",
       "12               purpose\n",
       "13                   dti\n",
       "14           delinq_2yrs\n",
       "15        inq_last_6mths\n",
       "16              open_acc\n",
       "17               pub_rec\n",
       "18             revol_bal\n",
       "19            revol_util\n",
       "20             total_acc\n",
       "21           total_pymnt\n",
       "22  pub_rec_bankruptcies"
      ]
     },
     "execution_count": 26,
     "metadata": {},
     "output_type": "execute_result"
    }
   ],
   "source": [
    "pd.DataFrame(df1.columns)"
   ]
  },
  {
   "cell_type": "code",
   "execution_count": null,
   "metadata": {},
   "outputs": [],
   "source": []
  },
  {
   "cell_type": "code",
   "execution_count": 27,
   "metadata": {},
   "outputs": [],
   "source": [
    "df1 = pd.get_dummies(df1)"
   ]
  },
  {
   "cell_type": "code",
   "execution_count": 28,
   "metadata": {},
   "outputs": [],
   "source": [
    "del df1['loan_status_Does not meet the credit policy. Status:Charged Off']\n",
    "del df1['loan_status_Does not meet the credit policy. Status:Fully Paid']"
   ]
  },
  {
   "cell_type": "code",
   "execution_count": 29,
   "metadata": {},
   "outputs": [],
   "source": [
    "drop_columns = ['term_ 36 months', 'grade_A', 'emp_length_1 year', 'home_ownership_OTHER', 'verification_status_Not Verified',\\\n",
    "                'loan_status_Fully Paid', 'purpose_other', 'inq_last_6mths_< 1 year', 'pub_rec_bankruptcies_1 year']"
   ]
  },
  {
   "cell_type": "code",
   "execution_count": 30,
   "metadata": {},
   "outputs": [],
   "source": [
    "df1 = df1.drop(columns=drop_columns)"
   ]
  },
  {
   "cell_type": "code",
   "execution_count": 31,
   "metadata": {},
   "outputs": [
    {
     "name": "stdout",
     "output_type": "stream",
     "text": [
      "<class 'pandas.core.frame.DataFrame'>\n",
      "Int64Index: 42535 entries, 1 to 42535\n",
      "Data columns (total 71 columns):\n",
      "loan_amnt                              42535 non-null int64\n",
      "funded_amnt                            42535 non-null int64\n",
      "funded_amnt_inv                        42535 non-null float64\n",
      "int_rate                               42535 non-null float64\n",
      "installment                            42535 non-null float64\n",
      "annual_inc                             42535 non-null float64\n",
      "dti                                    42535 non-null float64\n",
      "delinq_2yrs                            42535 non-null float64\n",
      "open_acc                               42535 non-null float64\n",
      "pub_rec                                42535 non-null float64\n",
      "revol_bal                              42535 non-null int64\n",
      "revol_util                             42535 non-null float64\n",
      "total_acc                              42535 non-null float64\n",
      "total_pymnt                            42535 non-null float64\n",
      "term_ 60 months                        42535 non-null uint8\n",
      "grade_B                                42535 non-null uint8\n",
      "grade_C                                42535 non-null uint8\n",
      "grade_D                                42535 non-null uint8\n",
      "grade_E                                42535 non-null uint8\n",
      "grade_F                                42535 non-null uint8\n",
      "grade_G                                42535 non-null uint8\n",
      "emp_length_10+ years                   42535 non-null uint8\n",
      "emp_length_2 years                     42535 non-null uint8\n",
      "emp_length_3 years                     42535 non-null uint8\n",
      "emp_length_4 years                     42535 non-null uint8\n",
      "emp_length_5 years                     42535 non-null uint8\n",
      "emp_length_6 years                     42535 non-null uint8\n",
      "emp_length_7 years                     42535 non-null uint8\n",
      "emp_length_8 years                     42535 non-null uint8\n",
      "emp_length_9 years                     42535 non-null uint8\n",
      "emp_length_< 1 year                    42535 non-null uint8\n",
      "home_ownership_MORTGAGE                42535 non-null uint8\n",
      "home_ownership_NONE                    42535 non-null uint8\n",
      "home_ownership_OWN                     42535 non-null uint8\n",
      "home_ownership_RENT                    42535 non-null uint8\n",
      "verification_status_Source Verified    42535 non-null uint8\n",
      "verification_status_Verified           42535 non-null uint8\n",
      "loan_status_Charged Off                42535 non-null uint8\n",
      "purpose_car                            42535 non-null uint8\n",
      "purpose_credit_card                    42535 non-null uint8\n",
      "purpose_debt_consolidation             42535 non-null uint8\n",
      "purpose_educational                    42535 non-null uint8\n",
      "purpose_home_improvement               42535 non-null uint8\n",
      "purpose_house                          42535 non-null uint8\n",
      "purpose_major_purchase                 42535 non-null uint8\n",
      "purpose_medical                        42535 non-null uint8\n",
      "purpose_moving                         42535 non-null uint8\n",
      "purpose_renewable_energy               42535 non-null uint8\n",
      "purpose_small_business                 42535 non-null uint8\n",
      "purpose_vacation                       42535 non-null uint8\n",
      "purpose_wedding                        42535 non-null uint8\n",
      "inq_last_6mths_1 year                  42535 non-null uint8\n",
      "inq_last_6mths_10+ years               42535 non-null uint8\n",
      "inq_last_6mths_2 years                 42535 non-null uint8\n",
      "inq_last_6mths_3 years                 42535 non-null uint8\n",
      "inq_last_6mths_4 years                 42535 non-null uint8\n",
      "inq_last_6mths_5 years                 42535 non-null uint8\n",
      "inq_last_6mths_6 years                 42535 non-null uint8\n",
      "inq_last_6mths_7 years                 42535 non-null uint8\n",
      "inq_last_6mths_8 years                 42535 non-null uint8\n",
      "inq_last_6mths_9 years                 42535 non-null uint8\n",
      "pub_rec_bankruptcies_10+ years         42535 non-null uint8\n",
      "pub_rec_bankruptcies_2 years           42535 non-null uint8\n",
      "pub_rec_bankruptcies_3 years           42535 non-null uint8\n",
      "pub_rec_bankruptcies_4 years           42535 non-null uint8\n",
      "pub_rec_bankruptcies_5 years           42535 non-null uint8\n",
      "pub_rec_bankruptcies_6 years           42535 non-null uint8\n",
      "pub_rec_bankruptcies_7 years           42535 non-null uint8\n",
      "pub_rec_bankruptcies_8 years           42535 non-null uint8\n",
      "pub_rec_bankruptcies_9 years           42535 non-null uint8\n",
      "pub_rec_bankruptcies_< 1 year          42535 non-null uint8\n",
      "dtypes: float64(11), int64(3), uint8(57)\n",
      "memory usage: 7.2 MB\n"
     ]
    }
   ],
   "source": [
    "df1.info()"
   ]
  },
  {
   "cell_type": "code",
   "execution_count": 32,
   "metadata": {},
   "outputs": [
    {
     "data": {
      "text/plain": [
       "0.1511931350652404"
      ]
     },
     "execution_count": 32,
     "metadata": {},
     "output_type": "execute_result"
    }
   ],
   "source": [
    "df1['loan_status_Charged Off'].mean()"
   ]
  },
  {
   "cell_type": "code",
   "execution_count": null,
   "metadata": {},
   "outputs": [],
   "source": []
  },
  {
   "cell_type": "code",
   "execution_count": null,
   "metadata": {},
   "outputs": [],
   "source": []
  },
  {
   "cell_type": "markdown",
   "metadata": {},
   "source": [
    "# Machine Learning Algorithms "
   ]
  },
  {
   "cell_type": "code",
   "execution_count": 33,
   "metadata": {},
   "outputs": [],
   "source": [
    "# Log.reg. model containing all grades. \n",
    "\n",
    "X = df1.drop('loan_status_Charged Off', axis=1)\n",
    "y = df1['loan_status_Charged Off']\n",
    "\n",
    "from sklearn.linear_model import LogisticRegression\n",
    "from sklearn.model_selection import train_test_split\n",
    "\n",
    "logreg = LogisticRegression()\n",
    "X_train, X_test, y_train, y_test = train_test_split(X, y, test_size=0.25, random_state=42)\n",
    "logreg.fit(X_train, y_train)\n",
    "y_pred = logreg.predict(X_test)"
   ]
  },
  {
   "cell_type": "code",
   "execution_count": 34,
   "metadata": {},
   "outputs": [],
   "source": [
    "coefficients = pd.DataFrame({\"Feature\":X_train.columns,\"Coefficients\":np.transpose(logreg.coef_[0, ])})"
   ]
  },
  {
   "cell_type": "code",
   "execution_count": 35,
   "metadata": {},
   "outputs": [
    {
     "data": {
      "text/html": [
       "<div>\n",
       "<style scoped>\n",
       "    .dataframe tbody tr th:only-of-type {\n",
       "        vertical-align: middle;\n",
       "    }\n",
       "\n",
       "    .dataframe tbody tr th {\n",
       "        vertical-align: top;\n",
       "    }\n",
       "\n",
       "    .dataframe thead th {\n",
       "        text-align: right;\n",
       "    }\n",
       "</style>\n",
       "<table border=\"1\" class=\"dataframe\">\n",
       "  <thead>\n",
       "    <tr style=\"text-align: right;\">\n",
       "      <th></th>\n",
       "      <th>Feature</th>\n",
       "      <th>Coefficients</th>\n",
       "    </tr>\n",
       "  </thead>\n",
       "  <tbody>\n",
       "    <tr>\n",
       "      <th>0</th>\n",
       "      <td>loan_amnt</td>\n",
       "      <td>0.000010</td>\n",
       "    </tr>\n",
       "    <tr>\n",
       "      <th>1</th>\n",
       "      <td>funded_amnt</td>\n",
       "      <td>0.002277</td>\n",
       "    </tr>\n",
       "    <tr>\n",
       "      <th>2</th>\n",
       "      <td>funded_amnt_inv</td>\n",
       "      <td>-0.000019</td>\n",
       "    </tr>\n",
       "    <tr>\n",
       "      <th>3</th>\n",
       "      <td>int_rate</td>\n",
       "      <td>-0.000065</td>\n",
       "    </tr>\n",
       "    <tr>\n",
       "      <th>4</th>\n",
       "      <td>installment</td>\n",
       "      <td>-0.011117</td>\n",
       "    </tr>\n",
       "    <tr>\n",
       "      <th>5</th>\n",
       "      <td>annual_inc</td>\n",
       "      <td>-0.000015</td>\n",
       "    </tr>\n",
       "    <tr>\n",
       "      <th>6</th>\n",
       "      <td>dti</td>\n",
       "      <td>-0.023239</td>\n",
       "    </tr>\n",
       "    <tr>\n",
       "      <th>7</th>\n",
       "      <td>delinq_2yrs</td>\n",
       "      <td>0.000291</td>\n",
       "    </tr>\n",
       "    <tr>\n",
       "      <th>8</th>\n",
       "      <td>open_acc</td>\n",
       "      <td>-0.015436</td>\n",
       "    </tr>\n",
       "    <tr>\n",
       "      <th>9</th>\n",
       "      <td>pub_rec</td>\n",
       "      <td>0.000324</td>\n",
       "    </tr>\n",
       "    <tr>\n",
       "      <th>10</th>\n",
       "      <td>revol_bal</td>\n",
       "      <td>0.000014</td>\n",
       "    </tr>\n",
       "    <tr>\n",
       "      <th>11</th>\n",
       "      <td>revol_util</td>\n",
       "      <td>-0.000068</td>\n",
       "    </tr>\n",
       "    <tr>\n",
       "      <th>12</th>\n",
       "      <td>total_acc</td>\n",
       "      <td>-0.033277</td>\n",
       "    </tr>\n",
       "    <tr>\n",
       "      <th>13</th>\n",
       "      <td>total_pymnt</td>\n",
       "      <td>-0.001844</td>\n",
       "    </tr>\n",
       "    <tr>\n",
       "      <th>14</th>\n",
       "      <td>term_ 60 months</td>\n",
       "      <td>0.000831</td>\n",
       "    </tr>\n",
       "    <tr>\n",
       "      <th>15</th>\n",
       "      <td>grade_B</td>\n",
       "      <td>-0.001270</td>\n",
       "    </tr>\n",
       "    <tr>\n",
       "      <th>16</th>\n",
       "      <td>grade_C</td>\n",
       "      <td>-0.000005</td>\n",
       "    </tr>\n",
       "    <tr>\n",
       "      <th>17</th>\n",
       "      <td>grade_D</td>\n",
       "      <td>0.000760</td>\n",
       "    </tr>\n",
       "    <tr>\n",
       "      <th>18</th>\n",
       "      <td>grade_E</td>\n",
       "      <td>0.000625</td>\n",
       "    </tr>\n",
       "    <tr>\n",
       "      <th>19</th>\n",
       "      <td>grade_F</td>\n",
       "      <td>0.000325</td>\n",
       "    </tr>\n",
       "    <tr>\n",
       "      <th>20</th>\n",
       "      <td>grade_G</td>\n",
       "      <td>0.000132</td>\n",
       "    </tr>\n",
       "    <tr>\n",
       "      <th>21</th>\n",
       "      <td>emp_length_10+ years</td>\n",
       "      <td>-0.000119</td>\n",
       "    </tr>\n",
       "    <tr>\n",
       "      <th>22</th>\n",
       "      <td>emp_length_2 years</td>\n",
       "      <td>-0.000512</td>\n",
       "    </tr>\n",
       "    <tr>\n",
       "      <th>23</th>\n",
       "      <td>emp_length_3 years</td>\n",
       "      <td>-0.000226</td>\n",
       "    </tr>\n",
       "    <tr>\n",
       "      <th>24</th>\n",
       "      <td>emp_length_4 years</td>\n",
       "      <td>-0.000302</td>\n",
       "    </tr>\n",
       "    <tr>\n",
       "      <th>25</th>\n",
       "      <td>emp_length_5 years</td>\n",
       "      <td>-0.000210</td>\n",
       "    </tr>\n",
       "    <tr>\n",
       "      <th>26</th>\n",
       "      <td>emp_length_6 years</td>\n",
       "      <td>-0.000231</td>\n",
       "    </tr>\n",
       "    <tr>\n",
       "      <th>27</th>\n",
       "      <td>emp_length_7 years</td>\n",
       "      <td>-0.000063</td>\n",
       "    </tr>\n",
       "    <tr>\n",
       "      <th>28</th>\n",
       "      <td>emp_length_8 years</td>\n",
       "      <td>-0.000081</td>\n",
       "    </tr>\n",
       "    <tr>\n",
       "      <th>29</th>\n",
       "      <td>emp_length_9 years</td>\n",
       "      <td>-0.000065</td>\n",
       "    </tr>\n",
       "    <tr>\n",
       "      <th>...</th>\n",
       "      <td>...</td>\n",
       "      <td>...</td>\n",
       "    </tr>\n",
       "    <tr>\n",
       "      <th>40</th>\n",
       "      <td>purpose_educational</td>\n",
       "      <td>-0.000018</td>\n",
       "    </tr>\n",
       "    <tr>\n",
       "      <th>41</th>\n",
       "      <td>purpose_home_improvement</td>\n",
       "      <td>-0.000195</td>\n",
       "    </tr>\n",
       "    <tr>\n",
       "      <th>42</th>\n",
       "      <td>purpose_house</td>\n",
       "      <td>-0.000028</td>\n",
       "    </tr>\n",
       "    <tr>\n",
       "      <th>43</th>\n",
       "      <td>purpose_major_purchase</td>\n",
       "      <td>-0.000571</td>\n",
       "    </tr>\n",
       "    <tr>\n",
       "      <th>44</th>\n",
       "      <td>purpose_medical</td>\n",
       "      <td>-0.000073</td>\n",
       "    </tr>\n",
       "    <tr>\n",
       "      <th>45</th>\n",
       "      <td>purpose_moving</td>\n",
       "      <td>-0.000078</td>\n",
       "    </tr>\n",
       "    <tr>\n",
       "      <th>46</th>\n",
       "      <td>purpose_renewable_energy</td>\n",
       "      <td>-0.000003</td>\n",
       "    </tr>\n",
       "    <tr>\n",
       "      <th>47</th>\n",
       "      <td>purpose_small_business</td>\n",
       "      <td>0.000118</td>\n",
       "    </tr>\n",
       "    <tr>\n",
       "      <th>48</th>\n",
       "      <td>purpose_vacation</td>\n",
       "      <td>-0.000078</td>\n",
       "    </tr>\n",
       "    <tr>\n",
       "      <th>49</th>\n",
       "      <td>purpose_wedding</td>\n",
       "      <td>-0.000129</td>\n",
       "    </tr>\n",
       "    <tr>\n",
       "      <th>50</th>\n",
       "      <td>inq_last_6mths_1 year</td>\n",
       "      <td>-0.000412</td>\n",
       "    </tr>\n",
       "    <tr>\n",
       "      <th>51</th>\n",
       "      <td>inq_last_6mths_10+ years</td>\n",
       "      <td>-0.000119</td>\n",
       "    </tr>\n",
       "    <tr>\n",
       "      <th>52</th>\n",
       "      <td>inq_last_6mths_2 years</td>\n",
       "      <td>-0.000512</td>\n",
       "    </tr>\n",
       "    <tr>\n",
       "      <th>53</th>\n",
       "      <td>inq_last_6mths_3 years</td>\n",
       "      <td>-0.000226</td>\n",
       "    </tr>\n",
       "    <tr>\n",
       "      <th>54</th>\n",
       "      <td>inq_last_6mths_4 years</td>\n",
       "      <td>-0.000302</td>\n",
       "    </tr>\n",
       "    <tr>\n",
       "      <th>55</th>\n",
       "      <td>inq_last_6mths_5 years</td>\n",
       "      <td>-0.000210</td>\n",
       "    </tr>\n",
       "    <tr>\n",
       "      <th>56</th>\n",
       "      <td>inq_last_6mths_6 years</td>\n",
       "      <td>-0.000231</td>\n",
       "    </tr>\n",
       "    <tr>\n",
       "      <th>57</th>\n",
       "      <td>inq_last_6mths_7 years</td>\n",
       "      <td>-0.000063</td>\n",
       "    </tr>\n",
       "    <tr>\n",
       "      <th>58</th>\n",
       "      <td>inq_last_6mths_8 years</td>\n",
       "      <td>-0.000081</td>\n",
       "    </tr>\n",
       "    <tr>\n",
       "      <th>59</th>\n",
       "      <td>inq_last_6mths_9 years</td>\n",
       "      <td>-0.000065</td>\n",
       "    </tr>\n",
       "    <tr>\n",
       "      <th>60</th>\n",
       "      <td>pub_rec_bankruptcies_10+ years</td>\n",
       "      <td>-0.000119</td>\n",
       "    </tr>\n",
       "    <tr>\n",
       "      <th>61</th>\n",
       "      <td>pub_rec_bankruptcies_2 years</td>\n",
       "      <td>-0.000512</td>\n",
       "    </tr>\n",
       "    <tr>\n",
       "      <th>62</th>\n",
       "      <td>pub_rec_bankruptcies_3 years</td>\n",
       "      <td>-0.000226</td>\n",
       "    </tr>\n",
       "    <tr>\n",
       "      <th>63</th>\n",
       "      <td>pub_rec_bankruptcies_4 years</td>\n",
       "      <td>-0.000302</td>\n",
       "    </tr>\n",
       "    <tr>\n",
       "      <th>64</th>\n",
       "      <td>pub_rec_bankruptcies_5 years</td>\n",
       "      <td>-0.000210</td>\n",
       "    </tr>\n",
       "    <tr>\n",
       "      <th>65</th>\n",
       "      <td>pub_rec_bankruptcies_6 years</td>\n",
       "      <td>-0.000231</td>\n",
       "    </tr>\n",
       "    <tr>\n",
       "      <th>66</th>\n",
       "      <td>pub_rec_bankruptcies_7 years</td>\n",
       "      <td>-0.000063</td>\n",
       "    </tr>\n",
       "    <tr>\n",
       "      <th>67</th>\n",
       "      <td>pub_rec_bankruptcies_8 years</td>\n",
       "      <td>-0.000081</td>\n",
       "    </tr>\n",
       "    <tr>\n",
       "      <th>68</th>\n",
       "      <td>pub_rec_bankruptcies_9 years</td>\n",
       "      <td>-0.000065</td>\n",
       "    </tr>\n",
       "    <tr>\n",
       "      <th>69</th>\n",
       "      <td>pub_rec_bankruptcies_&lt; 1 year</td>\n",
       "      <td>-0.000807</td>\n",
       "    </tr>\n",
       "  </tbody>\n",
       "</table>\n",
       "<p>70 rows × 2 columns</p>\n",
       "</div>"
      ],
      "text/plain": [
       "                           Feature  Coefficients\n",
       "0                        loan_amnt      0.000010\n",
       "1                      funded_amnt      0.002277\n",
       "2                  funded_amnt_inv     -0.000019\n",
       "3                         int_rate     -0.000065\n",
       "4                      installment     -0.011117\n",
       "5                       annual_inc     -0.000015\n",
       "6                              dti     -0.023239\n",
       "7                      delinq_2yrs      0.000291\n",
       "8                         open_acc     -0.015436\n",
       "9                          pub_rec      0.000324\n",
       "10                       revol_bal      0.000014\n",
       "11                      revol_util     -0.000068\n",
       "12                       total_acc     -0.033277\n",
       "13                     total_pymnt     -0.001844\n",
       "14                 term_ 60 months      0.000831\n",
       "15                         grade_B     -0.001270\n",
       "16                         grade_C     -0.000005\n",
       "17                         grade_D      0.000760\n",
       "18                         grade_E      0.000625\n",
       "19                         grade_F      0.000325\n",
       "20                         grade_G      0.000132\n",
       "21            emp_length_10+ years     -0.000119\n",
       "22              emp_length_2 years     -0.000512\n",
       "23              emp_length_3 years     -0.000226\n",
       "24              emp_length_4 years     -0.000302\n",
       "25              emp_length_5 years     -0.000210\n",
       "26              emp_length_6 years     -0.000231\n",
       "27              emp_length_7 years     -0.000063\n",
       "28              emp_length_8 years     -0.000081\n",
       "29              emp_length_9 years     -0.000065\n",
       "..                             ...           ...\n",
       "40             purpose_educational     -0.000018\n",
       "41        purpose_home_improvement     -0.000195\n",
       "42                   purpose_house     -0.000028\n",
       "43          purpose_major_purchase     -0.000571\n",
       "44                 purpose_medical     -0.000073\n",
       "45                  purpose_moving     -0.000078\n",
       "46        purpose_renewable_energy     -0.000003\n",
       "47          purpose_small_business      0.000118\n",
       "48                purpose_vacation     -0.000078\n",
       "49                 purpose_wedding     -0.000129\n",
       "50           inq_last_6mths_1 year     -0.000412\n",
       "51        inq_last_6mths_10+ years     -0.000119\n",
       "52          inq_last_6mths_2 years     -0.000512\n",
       "53          inq_last_6mths_3 years     -0.000226\n",
       "54          inq_last_6mths_4 years     -0.000302\n",
       "55          inq_last_6mths_5 years     -0.000210\n",
       "56          inq_last_6mths_6 years     -0.000231\n",
       "57          inq_last_6mths_7 years     -0.000063\n",
       "58          inq_last_6mths_8 years     -0.000081\n",
       "59          inq_last_6mths_9 years     -0.000065\n",
       "60  pub_rec_bankruptcies_10+ years     -0.000119\n",
       "61    pub_rec_bankruptcies_2 years     -0.000512\n",
       "62    pub_rec_bankruptcies_3 years     -0.000226\n",
       "63    pub_rec_bankruptcies_4 years     -0.000302\n",
       "64    pub_rec_bankruptcies_5 years     -0.000210\n",
       "65    pub_rec_bankruptcies_6 years     -0.000231\n",
       "66    pub_rec_bankruptcies_7 years     -0.000063\n",
       "67    pub_rec_bankruptcies_8 years     -0.000081\n",
       "68    pub_rec_bankruptcies_9 years     -0.000065\n",
       "69   pub_rec_bankruptcies_< 1 year     -0.000807\n",
       "\n",
       "[70 rows x 2 columns]"
      ]
     },
     "execution_count": 35,
     "metadata": {},
     "output_type": "execute_result"
    }
   ],
   "source": [
    "coefficients"
   ]
  },
  {
   "cell_type": "code",
   "execution_count": 36,
   "metadata": {
    "scrolled": true
   },
   "outputs": [
    {
     "data": {
      "image/png": "[encoded data removed]",
      "text/plain": [
       "<Figure size 432x288 with 1 Axes>"
      ]
     },
     "metadata": {
      "needs_background": "light"
     },
     "output_type": "display_data"
    }
   ],
   "source": [
    "from sklearn.metrics import roc_curve\n",
    "\n",
    "y_pred_prob = logreg.predict_proba(X_test)[:,1]\n",
    "fpr, tpr, thresholds = roc_curve(y_test, y_pred_prob)\n",
    "plt.plot([0,1],[0,1], 'k--')\n",
    "plt.plot(fpr, tpr, label='Logistic Regression')\n",
    "plt.xlabel('False Positive Rate')\n",
    "plt.ylabel('True Positive Rate')\n",
    "plt.title('Logistic Regression ROC Curve')\n",
    "plt.show()"
   ]
  },
  {
   "cell_type": "code",
   "execution_count": 37,
   "metadata": {},
   "outputs": [
    {
     "data": {
      "text/plain": [
       "0.9399791669783333"
      ]
     },
     "execution_count": 37,
     "metadata": {},
     "output_type": "execute_result"
    }
   ],
   "source": [
    "# AUC score\n",
    "from sklearn.metrics import roc_auc_score\n",
    "roc_auc_score(y_test, y_pred_prob)"
   ]
  },
  {
   "cell_type": "code",
   "execution_count": 38,
   "metadata": {},
   "outputs": [
    {
     "name": "stdout",
     "output_type": "stream",
     "text": [
      "[0.94027338 0.94436393 0.94078927 0.94469722 0.94754042]\n"
     ]
    }
   ],
   "source": [
    "# CV AUC scores\n",
    "from sklearn.model_selection import cross_val_score\n",
    "cv_scores = cross_val_score(logreg, X, y, cv=5, scoring='roc_auc')\n",
    "print(cv_scores)"
   ]
  },
  {
   "cell_type": "code",
   "execution_count": 39,
   "metadata": {},
   "outputs": [
    {
     "name": "stdout",
     "output_type": "stream",
     "text": [
      "0.94353284480049\n"
     ]
    }
   ],
   "source": [
    "# CV AUC mean\n",
    "print(np.mean(cv_scores))"
   ]
  },
  {
   "cell_type": "code",
   "execution_count": 40,
   "metadata": {},
   "outputs": [
    {
     "data": {
      "text/plain": [
       "GridSearchCV(cv=5, error_score='raise',\n",
       "       estimator=LogisticRegression(C=1.0, class_weight=None, dual=False, fit_intercept=True,\n",
       "          intercept_scaling=1, max_iter=100, multi_class='ovr', n_jobs=1,\n",
       "          penalty='l2', random_state=None, solver='liblinear', tol=0.0001,\n",
       "          verbose=0, warm_start=False),\n",
       "       fit_params=None, iid=True, n_jobs=1,\n",
       "       param_grid={'C': array([1.00000e-05, 8.48343e-05, 7.19686e-04, 6.10540e-03, 5.17947e-02,\n",
       "       4.39397e-01, 3.72759e+00, 3.16228e+01, 2.68270e+02, 2.27585e+03,\n",
       "       1.93070e+04, 1.63789e+05, 1.38950e+06, 1.17877e+07, 1.00000e+08]), 'penalty': ['l1', 'l2']},\n",
       "       pre_dispatch='2*n_jobs', refit=True, return_train_score='warn',\n",
       "       scoring=None, verbose=0)"
      ]
     },
     "execution_count": 40,
     "metadata": {},
     "output_type": "execute_result"
    }
   ],
   "source": [
    "from sklearn.model_selection import GridSearchCV\n",
    "\n",
    "c_space = np.logspace(-5,8,15)\n",
    "param_grid = {'C':c_space, 'penalty':['l1','l2']}\n",
    "logreg_cv = GridSearchCV(logreg, param_grid, cv=5)\n",
    "logreg_cv.fit(X_train, y_train)"
   ]
  },
  {
   "cell_type": "code",
   "execution_count": 41,
   "metadata": {},
   "outputs": [
    {
     "name": "stdout",
     "output_type": "stream",
     "text": [
      "Tuned Logistic Regression Parameter: {'C': 8.483428982440725e-05, 'penalty': 'l1'}\n",
      "Tuned Logistic Regression Accuracy: 0.9703144102065766\n"
     ]
    }
   ],
   "source": [
    "# Tuning hyperparameters C and l1/l2\n",
    "print(\"Tuned Logistic Regression Parameter:\",logreg_cv.best_params_)\n",
    "print('Tuned Logistic Regression Accuracy:',logreg_cv.best_score_)"
   ]
  },
  {
   "cell_type": "code",
   "execution_count": 42,
   "metadata": {},
   "outputs": [],
   "source": [
    "# Optimized aggregate log. reg.\n",
    "logreg_tuned = LogisticRegression(C=8.483428982440725e-05, penalty='l1')\n",
    "X_train2, X_test2, y_train2, y_test2 = train_test_split(X, y, test_size=0.25, random_state=42)\n",
    "logreg_tuned.fit(X_train2, y_train2)\n",
    "y_pred2 = logreg_tuned.predict(X_test2)"
   ]
  },
  {
   "cell_type": "code",
   "execution_count": 43,
   "metadata": {},
   "outputs": [
    {
     "data": {
      "text/plain": [
       "0.9363920692924477"
      ]
     },
     "execution_count": 43,
     "metadata": {},
     "output_type": "execute_result"
    }
   ],
   "source": [
    "y_pred_prob2 = logreg_tuned.predict_proba(X_test2)[:,1] # what does the 1st column give?\n",
    "roc_auc_score(y_test2, y_pred_prob2)"
   ]
  },
  {
   "cell_type": "code",
   "execution_count": 44,
   "metadata": {},
   "outputs": [
    {
     "data": {
      "text/plain": [
       "array([4.76369730e-04, 9.24764301e-04, 1.55058846e-03, ...,\n",
       "       1.58572595e-06, 6.33252122e-01, 1.45302785e-01])"
      ]
     },
     "execution_count": 44,
     "metadata": {},
     "output_type": "execute_result"
    }
   ],
   "source": [
    "y_pred_prob2"
   ]
  },
  {
   "cell_type": "code",
   "execution_count": 45,
   "metadata": {},
   "outputs": [
    {
     "name": "stdout",
     "output_type": "stream",
     "text": [
      "[0.93734217 0.93701012 0.93804068 0.94107077 0.94879525]\n"
     ]
    }
   ],
   "source": [
    "# CV AUC scores with hyperparameters\n",
    "cv_scores2 = cross_val_score(logreg_tuned, X, y, cv=5, scoring='roc_auc')\n",
    "print(cv_scores2)"
   ]
  },
  {
   "cell_type": "code",
   "execution_count": 46,
   "metadata": {},
   "outputs": [
    {
     "name": "stdout",
     "output_type": "stream",
     "text": [
      "0.9404517970612967\n"
     ]
    }
   ],
   "source": [
    "print(np.mean(cv_scores2))"
   ]
  },
  {
   "cell_type": "code",
   "execution_count": 47,
   "metadata": {},
   "outputs": [
    {
     "name": "stdout",
     "output_type": "stream",
     "text": [
      "             precision    recall  f1-score   support\n",
      "\n",
      "          0       0.96      1.00      0.98      9063\n",
      "          1       0.98      0.79      0.87      1571\n",
      "\n",
      "avg / total       0.97      0.97      0.96     10634\n",
      "\n",
      "             precision    recall  f1-score   support\n",
      "\n",
      "          0       0.97      1.00      0.98      9063\n",
      "          1       0.99      0.80      0.89      1571\n",
      "\n",
      "avg / total       0.97      0.97      0.97     10634\n",
      "\n"
     ]
    }
   ],
   "source": [
    "# Optimized models CR\n",
    "from sklearn.metrics import confusion_matrix, classification_report\n",
    "print(classification_report(y_test, y_pred))\n",
    "print(classification_report(y_test2, y_pred2))"
   ]
  },
  {
   "cell_type": "code",
   "execution_count": 48,
   "metadata": {},
   "outputs": [],
   "source": [
    "grade_a = df1.loc[df1['grade_B']==0].loc[df1['grade_C']==0].loc[df1['grade_D']==0].\\\n",
    "            loc[df1['grade_E']==0].loc[df1['grade_F']==0].loc[df1['grade_G']==0]\n",
    "grade_b = df1.loc[df1['grade_B']==1]\n",
    "grade_c = df1.loc[df1['grade_C']==1]\n",
    "grade_d = df1.loc[df1['grade_D']==1]\n",
    "grade_e = df1.loc[df1['grade_E']==1]\n",
    "grade_f = df1.loc[df1['grade_F']==1]\n",
    "grade_g = df1.loc[df1['grade_G']==1]"
   ]
  },
  {
   "cell_type": "code",
   "execution_count": 49,
   "metadata": {},
   "outputs": [],
   "source": [
    "def logisticfunk(df, letter):\n",
    "    Xf = df.drop('loan_status_Charged Off', axis=1)\n",
    "    yf = df['loan_status_Charged Off']\n",
    "    \n",
    "    logreg_ = LogisticRegression()\n",
    "    X_train_, X_test_, y_train_, y_test_ = train_test_split(Xf, yf, test_size=0.25, random_state=42)\n",
    "    logreg_.fit(X_train_, y_train_)\n",
    "    y_pred_ = logreg_.predict(X_test_)\n",
    "    \n",
    "    y_pred_prob_ = logreg_.predict_proba(X_test_)[:,1]\n",
    "    fpr, tpr, thresholds = roc_curve(y_test_, y_pred_prob_)\n",
    "    plt.plot([0,1],[0,1], 'k--')\n",
    "    plt.plot(fpr, tpr, label='Logistic Regression')\n",
    "    plt.xlabel('False Positive Rate')\n",
    "    plt.ylabel('True Positive Rate')\n",
    "    plt.title(letter)\n",
    "    plt.show()"
   ]
  },
  {
   "cell_type": "code",
   "execution_count": 50,
   "metadata": {},
   "outputs": [
    {
     "data": {
      "image/png": "[encoded data removed]",
      "text/plain": [
       "<Figure size 432x288 with 1 Axes>"
      ]
     },
     "metadata": {
      "needs_background": "light"
     },
     "output_type": "display_data"
    }
   ],
   "source": [
    "logisticfunk(grade_b, 'B Grade, ROC')"
   ]
  },
  {
   "cell_type": "code",
   "execution_count": 51,
   "metadata": {},
   "outputs": [],
   "source": [
    "def AUC(df):\n",
    "    \"\"\"Mean of CV scores for Grade\"\"\"    \n",
    "    Xf = df.drop('loan_status_Charged Off', axis=1)\n",
    "    yf = df['loan_status_Charged Off']\n",
    "    \n",
    "    cv_scores = cross_val_score(logreg, Xf, yf, cv=5, scoring='roc_auc')\n",
    "    return np.mean(cv_scores)   "
   ]
  },
  {
   "cell_type": "code",
   "execution_count": 52,
   "metadata": {},
   "outputs": [],
   "source": [
    "def printfunk(df, whatever):\n",
    "    print(whatever, AUC(df))"
   ]
  },
  {
   "cell_type": "code",
   "execution_count": 53,
   "metadata": {},
   "outputs": [
    {
     "name": "stdout",
     "output_type": "stream",
     "text": [
      "Grade A AUROC: 0.9768320810741702\n",
      "Grade B AUROC: 0.9700618985607564\n",
      "Grade C AUROC: 0.9599095560582969\n",
      "Grade D AUROC: 0.9569540270697449\n",
      "Grade E AUROC: 0.9457249314077536\n",
      "Grade F AUROC: 0.9516249015432188\n",
      "Grade G AUROC: 0.9706778391778134\n"
     ]
    }
   ],
   "source": [
    "printfunk(grade_a, 'Grade A AUROC:')\n",
    "printfunk(grade_b, 'Grade B AUROC:')\n",
    "printfunk(grade_c, 'Grade C AUROC:')\n",
    "printfunk(grade_d, 'Grade D AUROC:')\n",
    "printfunk(grade_e, 'Grade E AUROC:')\n",
    "printfunk(grade_f, 'Grade F AUROC:')\n",
    "printfunk(grade_g, 'Grade G AUROC:')"
   ]
  },
  {
   "cell_type": "code",
   "execution_count": 54,
   "metadata": {},
   "outputs": [],
   "source": [
    "gradeauclist = [AUC(grade_b), AUC(grade_c), AUC(grade_a), AUC(grade_d), AUC(grade_e), AUC(grade_f), AUC(grade_g)]"
   ]
  },
  {
   "cell_type": "code",
   "execution_count": 55,
   "metadata": {},
   "outputs": [
    {
     "name": "stdout",
     "output_type": "stream",
     "text": [
      "Mean of the CV_means of all graded segmented models: 0.9616836049845362\n"
     ]
    }
   ],
   "source": [
    "print('Mean of the CV_means of all graded segmented models:', np.mean(gradeauclist))"
   ]
  },
  {
   "cell_type": "code",
   "execution_count": 56,
   "metadata": {},
   "outputs": [
    {
     "data": {
      "text/plain": [
       "Index(['loan_amnt', 'funded_amnt', 'funded_amnt_inv', 'int_rate',\n",
       "       'installment', 'annual_inc', 'dti', 'delinq_2yrs', 'open_acc',\n",
       "       'pub_rec', 'revol_bal', 'revol_util', 'total_acc', 'total_pymnt',\n",
       "       'term_ 60 months', 'grade_B', 'grade_C', 'grade_D', 'grade_E',\n",
       "       'grade_F', 'grade_G', 'emp_length_10+ years', 'emp_length_2 years',\n",
       "       'emp_length_3 years', 'emp_length_4 years', 'emp_length_5 years',\n",
       "       'emp_length_6 years', 'emp_length_7 years', 'emp_length_8 years',\n",
       "       'emp_length_9 years', 'emp_length_< 1 year', 'home_ownership_MORTGAGE',\n",
       "       'home_ownership_NONE', 'home_ownership_OWN', 'home_ownership_RENT',\n",
       "       'verification_status_Source Verified', 'verification_status_Verified',\n",
       "       'loan_status_Charged Off', 'purpose_car', 'purpose_credit_card',\n",
       "       'purpose_debt_consolidation', 'purpose_educational',\n",
       "       'purpose_home_improvement', 'purpose_house', 'purpose_major_purchase',\n",
       "       'purpose_medical', 'purpose_moving', 'purpose_renewable_energy',\n",
       "       'purpose_small_business', 'purpose_vacation', 'purpose_wedding',\n",
       "       'inq_last_6mths_1 year', 'inq_last_6mths_10+ years',\n",
       "       'inq_last_6mths_2 years', 'inq_last_6mths_3 years',\n",
       "       'inq_last_6mths_4 years', 'inq_last_6mths_5 years',\n",
       "       'inq_last_6mths_6 years', 'inq_last_6mths_7 years',\n",
       "       'inq_last_6mths_8 years', 'inq_last_6mths_9 years',\n",
       "       'pub_rec_bankruptcies_10+ years', 'pub_rec_bankruptcies_2 years',\n",
       "       'pub_rec_bankruptcies_3 years', 'pub_rec_bankruptcies_4 years',\n",
       "       'pub_rec_bankruptcies_5 years', 'pub_rec_bankruptcies_6 years',\n",
       "       'pub_rec_bankruptcies_7 years', 'pub_rec_bankruptcies_8 years',\n",
       "       'pub_rec_bankruptcies_9 years', 'pub_rec_bankruptcies_< 1 year'],\n",
       "      dtype='object')"
      ]
     },
     "execution_count": 56,
     "metadata": {},
     "output_type": "execute_result"
    }
   ],
   "source": [
    "df1.columns"
   ]
  },
  {
   "cell_type": "code",
   "execution_count": 57,
   "metadata": {},
   "outputs": [
    {
     "name": "stdout",
     "output_type": "stream",
     "text": [
      "[[9036   27]\n",
      " [ 337 1234]]\n"
     ]
    }
   ],
   "source": [
    "from sklearn.metrics import confusion_matrix, classification_report\n",
    "print(confusion_matrix(y_test, y_pred))"
   ]
  },
  {
   "cell_type": "code",
   "execution_count": 58,
   "metadata": {},
   "outputs": [
    {
     "name": "stdout",
     "output_type": "stream",
     "text": [
      "             precision    recall  f1-score   support\n",
      "\n",
      "          0       0.96      1.00      0.98      9063\n",
      "          1       0.98      0.79      0.87      1571\n",
      "\n",
      "avg / total       0.97      0.97      0.96     10634\n",
      "\n"
     ]
    }
   ],
   "source": [
    "print(classification_report(y_test, y_pred))"
   ]
  },
  {
   "cell_type": "code",
   "execution_count": 59,
   "metadata": {},
   "outputs": [],
   "source": [
    "def classification_report_funk(df, string):\n",
    "    Xf = df.drop('loan_status_Charged Off', axis=1)\n",
    "    yf = df['loan_status_Charged Off']\n",
    "    \n",
    "    logreg_ = LogisticRegression()\n",
    "    X_train_, X_test_, y_train_, y_test_ = train_test_split(Xf, yf, test_size=0.25, random_state=42)\n",
    "    logreg_.fit(X_train_, y_train_)\n",
    "    y_pred_ = logreg_.predict(X_test_)\n",
    "    \n",
    "    print(string, classification_report(y_test_, y_pred_))"
   ]
  },
  {
   "cell_type": "code",
   "execution_count": 60,
   "metadata": {},
   "outputs": [
    {
     "name": "stdout",
     "output_type": "stream",
     "text": [
      "A              precision    recall  f1-score   support\n",
      "\n",
      "          0       0.99      1.00      1.00      2387\n",
      "          1       1.00      0.91      0.95       159\n",
      "\n",
      "avg / total       0.99      0.99      0.99      2546\n",
      "\n",
      "B              precision    recall  f1-score   support\n",
      "\n",
      "          0       0.98      1.00      0.99      2709\n",
      "          1       0.99      0.84      0.91       389\n",
      "\n",
      "avg / total       0.98      0.98      0.98      3098\n",
      "\n",
      "C              precision    recall  f1-score   support\n",
      "\n",
      "          0       0.96      1.00      0.98      1790\n",
      "          1       0.98      0.83      0.90       395\n",
      "\n",
      "avg / total       0.97      0.97      0.96      2185\n",
      "\n",
      "D              precision    recall  f1-score   support\n",
      "\n",
      "          0       0.95      0.99      0.97      1172\n",
      "          1       0.96      0.82      0.88       332\n",
      "\n",
      "avg / total       0.95      0.95      0.95      1504\n",
      "\n",
      "E              precision    recall  f1-score   support\n",
      "\n",
      "          0       0.92      0.98      0.95       608\n",
      "          1       0.94      0.78      0.85       241\n",
      "\n",
      "avg / total       0.92      0.92      0.92       849\n",
      "\n",
      "F              precision    recall  f1-score   support\n",
      "\n",
      "          0       0.90      0.98      0.94       221\n",
      "          1       0.94      0.77      0.85       105\n",
      "\n",
      "avg / total       0.91      0.91      0.91       326\n",
      "\n",
      "G              precision    recall  f1-score   support\n",
      "\n",
      "          0       0.94      0.98      0.96        83\n",
      "          1       0.95      0.89      0.92        45\n",
      "\n",
      "avg / total       0.95      0.95      0.94       128\n",
      "\n"
     ]
    }
   ],
   "source": [
    "# Unoptimized classification report. Optimized classification report done below \n",
    "classification_report_funk(grade_a, 'A')\n",
    "classification_report_funk(grade_b, 'B')\n",
    "classification_report_funk(grade_c, 'C')\n",
    "classification_report_funk(grade_d, 'D')\n",
    "classification_report_funk(grade_e, 'E')\n",
    "classification_report_funk(grade_f, 'F')\n",
    "classification_report_funk(grade_g, 'G')"
   ]
  },
  {
   "cell_type": "code",
   "execution_count": null,
   "metadata": {},
   "outputs": [],
   "source": []
  },
  {
   "cell_type": "code",
   "execution_count": null,
   "metadata": {},
   "outputs": [],
   "source": []
  },
  {
   "cell_type": "code",
   "execution_count": null,
   "metadata": {},
   "outputs": [],
   "source": []
  },
  {
   "cell_type": "code",
   "execution_count": 61,
   "metadata": {},
   "outputs": [
    {
     "name": "stderr",
     "output_type": "stream",
     "text": [
      "/anaconda3/lib/python3.7/site-packages/sklearn/ensemble/weight_boosting.py:29: DeprecationWarning: numpy.core.umath_tests is an internal NumPy module and should not be imported. It will be removed in a future NumPy release.\n",
      "  from numpy.core.umath_tests import inner1d\n"
     ]
    },
    {
     "name": "stdout",
     "output_type": "stream",
     "text": [
      "             precision    recall  f1-score   support\n",
      "\n",
      "          0       0.93      1.00      0.96      9063\n",
      "          1       0.98      0.59      0.74      1571\n",
      "\n",
      "avg / total       0.94      0.94      0.93     10634\n",
      "\n"
     ]
    }
   ],
   "source": [
    "# Random Forest and classification report function\n",
    "from sklearn.ensemble import RandomForestClassifier\n",
    "from sklearn.datasets import make_classification\n",
    "\n",
    "\n",
    "Xf = df1.drop('loan_status_Charged Off', axis=1)\n",
    "yf = df1['loan_status_Charged Off']\n",
    "    \n",
    "clf = RandomForestClassifier()\n",
    "X_trainRF, X_testRF, y_trainRF, y_testRF = train_test_split(Xf, yf, test_size=0.25, random_state=42)\n",
    "clf.fit(X_trainRF, y_trainRF)\n",
    "y_predRF = clf.predict(X_testRF)\n",
    "    \n",
    "print(classification_report(y_testRF, y_predRF))"
   ]
  },
  {
   "cell_type": "code",
   "execution_count": 62,
   "metadata": {},
   "outputs": [
    {
     "data": {
      "text/plain": [
       "GridSearchCV(cv=5, error_score='raise',\n",
       "       estimator=RandomForestClassifier(bootstrap=True, class_weight=None, criterion='gini',\n",
       "            max_depth=None, max_features='auto', max_leaf_nodes=None,\n",
       "            min_impurity_decrease=0.0, min_impurity_split=None,\n",
       "            min_samples_leaf=1, min_samples_split=2,\n",
       "            min_weight_fraction_leaf=0.0, n_estimators=10, n_jobs=1,\n",
       "            oob_score=False, random_state=None, verbose=0,\n",
       "            warm_start=False),\n",
       "       fit_params=None, iid=True, n_jobs=1,\n",
       "       param_grid={'n_estimators': [400, 500, 600], 'max_depth': [7, 10, None]},\n",
       "       pre_dispatch='2*n_jobs', refit=True, return_train_score='warn',\n",
       "       scoring=None, verbose=0)"
      ]
     },
     "execution_count": 62,
     "metadata": {},
     "output_type": "execute_result"
    }
   ],
   "source": [
    "param_grid = {'n_estimators':[400,500,600], 'max_depth':[7,10,None]}\n",
    "RF_cv = GridSearchCV(clf, param_grid, cv=5)\n",
    "RF_cv.fit(X_trainRF, y_trainRF)"
   ]
  },
  {
   "cell_type": "code",
   "execution_count": 63,
   "metadata": {},
   "outputs": [
    {
     "name": "stdout",
     "output_type": "stream",
     "text": [
      "Tuned Logistic Regression Parameter: {'max_depth': None, 'n_estimators': 600}\n",
      "Tuned Logistic Regression Accuracy: 0.9450173975737438\n"
     ]
    }
   ],
   "source": [
    "print(\"Tuned Logistic Regression Parameter:\",RF_cv.best_params_)\n",
    "print('Tuned Logistic Regression Accuracy:',RF_cv.best_score_)"
   ]
  },
  {
   "cell_type": "code",
   "execution_count": 64,
   "metadata": {},
   "outputs": [
    {
     "data": {
      "text/plain": [
       "GridSearchCV(cv=5, error_score='raise',\n",
       "       estimator=RandomForestClassifier(bootstrap=True, class_weight=None, criterion='gini',\n",
       "            max_depth=None, max_features='auto', max_leaf_nodes=None,\n",
       "            min_impurity_decrease=0.0, min_impurity_split=None,\n",
       "            min_samples_leaf=1, min_samples_split=2,\n",
       "            min_weight_fraction_leaf=0.0, n_estimators=10, n_jobs=1,\n",
       "            oob_score=False, random_state=None, verbose=0,\n",
       "            warm_start=False),\n",
       "       fit_params=None, iid=True, n_jobs=1,\n",
       "       param_grid={'max_features': range(1, 9), 'min_samples_leaf': range(1, 9), 'criterion': ['gini', 'entropy']},\n",
       "       pre_dispatch='2*n_jobs', refit=True, return_train_score='warn',\n",
       "       scoring=None, verbose=0)"
      ]
     },
     "execution_count": 64,
     "metadata": {},
     "output_type": "execute_result"
    }
   ],
   "source": [
    "param_grid = {'max_features':range(1,9), 'min_samples_leaf':range(1,9), 'criterion':['gini','entropy']}\n",
    "RF_cv = GridSearchCV(clf, param_grid, cv=5)\n",
    "RF_cv.fit(X_trainRF, y_trainRF)"
   ]
  },
  {
   "cell_type": "code",
   "execution_count": 65,
   "metadata": {},
   "outputs": [
    {
     "name": "stdout",
     "output_type": "stream",
     "text": [
      "Tuned Logistic Regression Parameter: {'criterion': 'entropy', 'max_features': 8, 'min_samples_leaf': 2}\n",
      "Tuned Logistic Regression Accuracy: 0.9439202532835961\n"
     ]
    }
   ],
   "source": [
    "print(\"Tuned Logistic Regression Parameter:\",RF_cv.best_params_)\n",
    "print('Tuned Logistic Regression Accuracy:',RF_cv.best_score_)"
   ]
  },
  {
   "cell_type": "code",
   "execution_count": 66,
   "metadata": {},
   "outputs": [
    {
     "name": "stdout",
     "output_type": "stream",
     "text": [
      "             precision    recall  f1-score   support\n",
      "\n",
      "          0       0.94      1.00      0.97      9063\n",
      "          1       1.00      0.63      0.77      1571\n",
      "\n",
      "avg / total       0.95      0.95      0.94     10634\n",
      "\n"
     ]
    }
   ],
   "source": [
    "clf = RandomForestClassifier(max_depth=None, n_estimators=400, criterion='entropy',max_features=8, min_samples_leaf=2)\n",
    "X_trainRF, X_testRF, y_trainRF, y_testRF = train_test_split(Xf, yf, test_size=0.25, random_state=42)\n",
    "clf.fit(X_trainRF, y_trainRF)\n",
    "y_predORF = clf.predict(X_testRF)\n",
    "    \n",
    "print(classification_report(y_testRF, y_predORF))"
   ]
  },
  {
   "cell_type": "code",
   "execution_count": null,
   "metadata": {},
   "outputs": [],
   "source": []
  },
  {
   "cell_type": "code",
   "execution_count": null,
   "metadata": {},
   "outputs": [],
   "source": []
  },
  {
   "cell_type": "code",
   "execution_count": null,
   "metadata": {},
   "outputs": [],
   "source": []
  },
  {
   "cell_type": "code",
   "execution_count": null,
   "metadata": {},
   "outputs": [],
   "source": []
  },
  {
   "cell_type": "code",
   "execution_count": 67,
   "metadata": {},
   "outputs": [],
   "source": [
    "# Optimizing segmented models.\n",
    "def optimizing_reg(df, string):\n",
    "    X = df.drop('loan_status_Charged Off', axis=1)\n",
    "    y = df['loan_status_Charged Off']\n",
    "\n",
    "    logreg = LogisticRegression()\n",
    "    X_train, X_test, y_train, y_test = train_test_split(X, y, test_size=0.25, random_state=42)\n",
    "    logreg.fit(X_train, y_train)\n",
    "    y_pred = logreg.predict(X_test)\n",
    "    \n",
    "    \n",
    "    c_space = np.logspace(-5,8,15)\n",
    "    param_grid = {'C':c_space, 'penalty':['l1','l2']}\n",
    "    logreg_cv = GridSearchCV(logreg, param_grid, cv=5)\n",
    "    logreg_cv.fit(X_train, y_train)\n",
    "    print(string, \"Tuned Logistic Regression Parameter:\",logreg_cv.best_params_)\n",
    "    print(string, 'Tuned Logistic Regression Accuracy:',logreg_cv.best_score_)"
   ]
  },
  {
   "cell_type": "code",
   "execution_count": 68,
   "metadata": {},
   "outputs": [
    {
     "name": "stdout",
     "output_type": "stream",
     "text": [
      "Grade A Tuned Logistic Regression Parameter: {'C': 0.4393970560760795, 'penalty': 'l2'}\n",
      "Grade A Tuned Logistic Regression Accuracy: 0.9934529265418358\n",
      "Grade B Tuned Logistic Regression Parameter: {'C': 8.483428982440725e-05, 'penalty': 'l1'}\n",
      "Grade B Tuned Logistic Regression Accuracy: 0.9812721989021633\n",
      "Grade C Tuned Logistic Regression Parameter: {'C': 8.483428982440725e-05, 'penalty': 'l1'}\n",
      "Grade C Tuned Logistic Regression Accuracy: 0.9716247139588101\n",
      "Grade D Tuned Logistic Regression Parameter: {'C': 8.483428982440725e-05, 'penalty': 'l1'}\n",
      "Grade D Tuned Logistic Regression Accuracy: 0.9554521276595744\n",
      "Grade E Tuned Logistic Regression Parameter: {'C': 0.0007196856730011522, 'penalty': 'l1'}\n",
      "Grade E Tuned Logistic Regression Accuracy: 0.9516699410609037\n",
      "Grade F Tuned Logistic Regression Parameter: {'C': 1e-05, 'penalty': 'l1'}\n",
      "Grade F Tuned Logistic Regression Accuracy: 0.9292307692307692\n",
      "Grade G Tuned Logistic Regression Parameter: {'C': 8.483428982440725e-05, 'penalty': 'l1'}\n",
      "Grade G Tuned Logistic Regression Accuracy: 0.9427083333333334\n"
     ]
    }
   ],
   "source": [
    "optimizing_reg(grade_a, 'Grade A')\n",
    "optimizing_reg(grade_b, 'Grade B')\n",
    "optimizing_reg(grade_c, 'Grade C')\n",
    "optimizing_reg(grade_d, 'Grade D')\n",
    "optimizing_reg(grade_e, 'Grade E')\n",
    "optimizing_reg(grade_f, 'Grade F')\n",
    "optimizing_reg(grade_g, 'Grade G')"
   ]
  },
  {
   "cell_type": "code",
   "execution_count": 69,
   "metadata": {},
   "outputs": [],
   "source": [
    "def optimized_classification_report_funk(df, c, p, string):\n",
    "    \"\"\"Optimized segmented logisitic regression models and class r. printed.\"\"\"\n",
    "    Xf = df.drop('loan_status_Charged Off', axis=1)\n",
    "    yf = df['loan_status_Charged Off']\n",
    "    \n",
    "    logreg_ = LogisticRegression(C=c, penalty=p)\n",
    "    X_train_, X_test_, y_train_, y_test_ = train_test_split(Xf, yf, test_size=0.25, random_state=42)\n",
    "    logreg_.fit(X_train_, y_train_)\n",
    "    y_pred_ = logreg_.predict(X_test_)\n",
    "    \n",
    "    print(string, classification_report(y_test_, y_pred_))"
   ]
  },
  {
   "cell_type": "code",
   "execution_count": 70,
   "metadata": {},
   "outputs": [
    {
     "name": "stdout",
     "output_type": "stream",
     "text": [
      "A              precision    recall  f1-score   support\n",
      "\n",
      "          0       0.99      1.00      1.00      2387\n",
      "          1       0.99      0.91      0.95       159\n",
      "\n",
      "avg / total       0.99      0.99      0.99      2546\n",
      "\n",
      "B              precision    recall  f1-score   support\n",
      "\n",
      "          0       0.98      1.00      0.99      2709\n",
      "          1       1.00      0.84      0.91       389\n",
      "\n",
      "avg / total       0.98      0.98      0.98      3098\n",
      "\n",
      "C              precision    recall  f1-score   support\n",
      "\n",
      "          0       0.96      1.00      0.98      1790\n",
      "          1       1.00      0.83      0.90       395\n",
      "\n",
      "avg / total       0.97      0.97      0.97      2185\n",
      "\n",
      "D              precision    recall  f1-score   support\n",
      "\n",
      "          0       0.95      0.99      0.97      1172\n",
      "          1       0.97      0.83      0.89       332\n",
      "\n",
      "avg / total       0.96      0.96      0.95      1504\n",
      "\n",
      "E              precision    recall  f1-score   support\n",
      "\n",
      "          0       0.92      0.98      0.95       608\n",
      "          1       0.94      0.80      0.86       241\n",
      "\n",
      "avg / total       0.93      0.93      0.93       849\n",
      "\n",
      "F              precision    recall  f1-score   support\n",
      "\n",
      "          0       0.91      1.00      0.95       221\n",
      "          1       1.00      0.79      0.88       105\n",
      "\n",
      "avg / total       0.94      0.93      0.93       326\n",
      "\n",
      "G              precision    recall  f1-score   support\n",
      "\n",
      "          0       0.97      1.00      0.98        83\n",
      "          1       1.00      0.93      0.97        45\n",
      "\n",
      "avg / total       0.98      0.98      0.98       128\n",
      "\n"
     ]
    }
   ],
   "source": [
    "# Optimized classification reports for SEGMENTED MODELS. \n",
    "optimized_classification_report_funk(grade_a, 0.4393970560760795, 'l2', 'A')\n",
    "optimized_classification_report_funk(grade_b, 8.483428982440725e-05, 'l1', 'B')\n",
    "optimized_classification_report_funk(grade_c, 8.483428982440725e-05, 'l1', 'C')\n",
    "optimized_classification_report_funk(grade_d, 8.483428982440725e-05, 'l1', 'D')\n",
    "optimized_classification_report_funk(grade_e, 0.0007196856730011522, 'l1', 'E')\n",
    "optimized_classification_report_funk(grade_f, 1e-05, 'l1', 'F')\n",
    "optimized_classification_report_funk(grade_g, 8.483428982440725e-05, 'l1', 'G')"
   ]
  },
  {
   "cell_type": "code",
   "execution_count": 71,
   "metadata": {},
   "outputs": [
    {
     "name": "stdout",
     "output_type": "stream",
     "text": [
      "A              precision    recall  f1-score   support\n",
      "\n",
      "          0       0.99      1.00      1.00      2387\n",
      "          1       1.00      0.91      0.95       159\n",
      "\n",
      "avg / total       0.99      0.99      0.99      2546\n",
      "\n",
      "B              precision    recall  f1-score   support\n",
      "\n",
      "          0       0.98      1.00      0.99      2709\n",
      "          1       0.99      0.84      0.91       389\n",
      "\n",
      "avg / total       0.98      0.98      0.98      3098\n",
      "\n",
      "C              precision    recall  f1-score   support\n",
      "\n",
      "          0       0.96      1.00      0.98      1790\n",
      "          1       0.98      0.83      0.90       395\n",
      "\n",
      "avg / total       0.97      0.97      0.96      2185\n",
      "\n",
      "D              precision    recall  f1-score   support\n",
      "\n",
      "          0       0.95      0.99      0.97      1172\n",
      "          1       0.96      0.82      0.88       332\n",
      "\n",
      "avg / total       0.95      0.95      0.95      1504\n",
      "\n",
      "E              precision    recall  f1-score   support\n",
      "\n",
      "          0       0.92      0.98      0.95       608\n",
      "          1       0.94      0.78      0.85       241\n",
      "\n",
      "avg / total       0.92      0.92      0.92       849\n",
      "\n",
      "F              precision    recall  f1-score   support\n",
      "\n",
      "          0       0.90      0.98      0.94       221\n",
      "          1       0.94      0.77      0.85       105\n",
      "\n",
      "avg / total       0.91      0.91      0.91       326\n",
      "\n",
      "G              precision    recall  f1-score   support\n",
      "\n",
      "          0       0.94      0.98      0.96        83\n",
      "          1       0.95      0.89      0.92        45\n",
      "\n",
      "avg / total       0.95      0.95      0.94       128\n",
      "\n"
     ]
    }
   ],
   "source": [
    "# UNOPTIMIZED LR classification report\n",
    "classification_report_funk(grade_a, 'A')\n",
    "classification_report_funk(grade_b, 'B')\n",
    "classification_report_funk(grade_c, 'C')\n",
    "classification_report_funk(grade_d, 'D')\n",
    "classification_report_funk(grade_e, 'E')\n",
    "classification_report_funk(grade_f, 'F')\n",
    "classification_report_funk(grade_g, 'G')"
   ]
  },
  {
   "cell_type": "code",
   "execution_count": null,
   "metadata": {},
   "outputs": [],
   "source": []
  }
 ],
 "metadata": {
  "kernelspec": {
   "display_name": "Python 3",
   "language": "python",
   "name": "python3"
  },
  "language_info": {
   "codemirror_mode": {
    "name": "ipython",
    "version": 3
   },
   "file_extension": ".py",
   "mimetype": "text/x-python",
   "name": "python",
   "nbconvert_exporter": "python",
   "pygments_lexer": "ipython3",
   "version": "3.7.0"
  }
 },
 "nbformat": 4,
 "nbformat_minor": 2
}
