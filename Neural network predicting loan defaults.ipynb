{
 "cells": [
  {
   "cell_type": "code",
   "execution_count": 1,
   "metadata": {},
   "outputs": [],
   "source": [
    "import pandas as pd\n",
    "import numpy as np\n",
    "import matplotlib.pyplot as plt"
   ]
  },
  {
   "cell_type": "code",
   "execution_count": 2,
   "metadata": {},
   "outputs": [],
   "source": [
    "df1 = pd.read_csv('Loan_data_ML.csv')"
   ]
  },
  {
   "cell_type": "code",
   "execution_count": 3,
   "metadata": {},
   "outputs": [
    {
     "data": {
      "text/html": [
       "<div>\n",
       "<style scoped>\n",
       "    .dataframe tbody tr th:only-of-type {\n",
       "        vertical-align: middle;\n",
       "    }\n",
       "\n",
       "    .dataframe tbody tr th {\n",
       "        vertical-align: top;\n",
       "    }\n",
       "\n",
       "    .dataframe thead th {\n",
       "        text-align: right;\n",
       "    }\n",
       "</style>\n",
       "<table border=\"1\" class=\"dataframe\">\n",
       "  <thead>\n",
       "    <tr style=\"text-align: right;\">\n",
       "      <th></th>\n",
       "      <th>member_id</th>\n",
       "      <th>loan_amnt</th>\n",
       "      <th>funded_amnt</th>\n",
       "      <th>funded_amnt_inv</th>\n",
       "      <th>int_rate</th>\n",
       "      <th>installment</th>\n",
       "      <th>annual_inc</th>\n",
       "      <th>dti</th>\n",
       "      <th>delinq_2yrs</th>\n",
       "      <th>open_acc</th>\n",
       "      <th>...</th>\n",
       "      <th>pub_rec_bankruptcies_10+ years</th>\n",
       "      <th>pub_rec_bankruptcies_2 years</th>\n",
       "      <th>pub_rec_bankruptcies_3 years</th>\n",
       "      <th>pub_rec_bankruptcies_4 years</th>\n",
       "      <th>pub_rec_bankruptcies_5 years</th>\n",
       "      <th>pub_rec_bankruptcies_6 years</th>\n",
       "      <th>pub_rec_bankruptcies_7 years</th>\n",
       "      <th>pub_rec_bankruptcies_8 years</th>\n",
       "      <th>pub_rec_bankruptcies_9 years</th>\n",
       "      <th>pub_rec_bankruptcies_&lt; 1 year</th>\n",
       "    </tr>\n",
       "  </thead>\n",
       "  <tbody>\n",
       "    <tr>\n",
       "      <th>0</th>\n",
       "      <td>1</td>\n",
       "      <td>5000</td>\n",
       "      <td>5000</td>\n",
       "      <td>4975.0</td>\n",
       "      <td>0.1065</td>\n",
       "      <td>162.87</td>\n",
       "      <td>24000.0</td>\n",
       "      <td>27.65</td>\n",
       "      <td>0.0</td>\n",
       "      <td>3.0</td>\n",
       "      <td>...</td>\n",
       "      <td>1</td>\n",
       "      <td>0</td>\n",
       "      <td>0</td>\n",
       "      <td>0</td>\n",
       "      <td>0</td>\n",
       "      <td>0</td>\n",
       "      <td>0</td>\n",
       "      <td>0</td>\n",
       "      <td>0</td>\n",
       "      <td>0</td>\n",
       "    </tr>\n",
       "    <tr>\n",
       "      <th>1</th>\n",
       "      <td>2</td>\n",
       "      <td>2500</td>\n",
       "      <td>2500</td>\n",
       "      <td>2500.0</td>\n",
       "      <td>0.1527</td>\n",
       "      <td>59.83</td>\n",
       "      <td>30000.0</td>\n",
       "      <td>1.00</td>\n",
       "      <td>0.0</td>\n",
       "      <td>3.0</td>\n",
       "      <td>...</td>\n",
       "      <td>0</td>\n",
       "      <td>0</td>\n",
       "      <td>0</td>\n",
       "      <td>0</td>\n",
       "      <td>0</td>\n",
       "      <td>0</td>\n",
       "      <td>0</td>\n",
       "      <td>0</td>\n",
       "      <td>0</td>\n",
       "      <td>1</td>\n",
       "    </tr>\n",
       "    <tr>\n",
       "      <th>2</th>\n",
       "      <td>3</td>\n",
       "      <td>2400</td>\n",
       "      <td>2400</td>\n",
       "      <td>2400.0</td>\n",
       "      <td>0.1596</td>\n",
       "      <td>84.33</td>\n",
       "      <td>12252.0</td>\n",
       "      <td>8.72</td>\n",
       "      <td>0.0</td>\n",
       "      <td>2.0</td>\n",
       "      <td>...</td>\n",
       "      <td>1</td>\n",
       "      <td>0</td>\n",
       "      <td>0</td>\n",
       "      <td>0</td>\n",
       "      <td>0</td>\n",
       "      <td>0</td>\n",
       "      <td>0</td>\n",
       "      <td>0</td>\n",
       "      <td>0</td>\n",
       "      <td>0</td>\n",
       "    </tr>\n",
       "    <tr>\n",
       "      <th>3</th>\n",
       "      <td>4</td>\n",
       "      <td>10000</td>\n",
       "      <td>10000</td>\n",
       "      <td>10000.0</td>\n",
       "      <td>0.1349</td>\n",
       "      <td>339.31</td>\n",
       "      <td>49200.0</td>\n",
       "      <td>20.00</td>\n",
       "      <td>0.0</td>\n",
       "      <td>10.0</td>\n",
       "      <td>...</td>\n",
       "      <td>1</td>\n",
       "      <td>0</td>\n",
       "      <td>0</td>\n",
       "      <td>0</td>\n",
       "      <td>0</td>\n",
       "      <td>0</td>\n",
       "      <td>0</td>\n",
       "      <td>0</td>\n",
       "      <td>0</td>\n",
       "      <td>0</td>\n",
       "    </tr>\n",
       "    <tr>\n",
       "      <th>4</th>\n",
       "      <td>5</td>\n",
       "      <td>3000</td>\n",
       "      <td>3000</td>\n",
       "      <td>3000.0</td>\n",
       "      <td>0.1269</td>\n",
       "      <td>67.79</td>\n",
       "      <td>80000.0</td>\n",
       "      <td>17.94</td>\n",
       "      <td>0.0</td>\n",
       "      <td>15.0</td>\n",
       "      <td>...</td>\n",
       "      <td>0</td>\n",
       "      <td>0</td>\n",
       "      <td>0</td>\n",
       "      <td>0</td>\n",
       "      <td>0</td>\n",
       "      <td>0</td>\n",
       "      <td>0</td>\n",
       "      <td>0</td>\n",
       "      <td>0</td>\n",
       "      <td>0</td>\n",
       "    </tr>\n",
       "  </tbody>\n",
       "</table>\n",
       "<p>5 rows × 72 columns</p>\n",
       "</div>"
      ],
      "text/plain": [
       "   member_id  loan_amnt  funded_amnt  funded_amnt_inv  int_rate  installment  \\\n",
       "0          1       5000         5000           4975.0    0.1065       162.87   \n",
       "1          2       2500         2500           2500.0    0.1527        59.83   \n",
       "2          3       2400         2400           2400.0    0.1596        84.33   \n",
       "3          4      10000        10000          10000.0    0.1349       339.31   \n",
       "4          5       3000         3000           3000.0    0.1269        67.79   \n",
       "\n",
       "   annual_inc    dti  delinq_2yrs  open_acc  ...  \\\n",
       "0     24000.0  27.65          0.0       3.0  ...   \n",
       "1     30000.0   1.00          0.0       3.0  ...   \n",
       "2     12252.0   8.72          0.0       2.0  ...   \n",
       "3     49200.0  20.00          0.0      10.0  ...   \n",
       "4     80000.0  17.94          0.0      15.0  ...   \n",
       "\n",
       "   pub_rec_bankruptcies_10+ years  pub_rec_bankruptcies_2 years  \\\n",
       "0                               1                             0   \n",
       "1                               0                             0   \n",
       "2                               1                             0   \n",
       "3                               1                             0   \n",
       "4                               0                             0   \n",
       "\n",
       "   pub_rec_bankruptcies_3 years  pub_rec_bankruptcies_4 years  \\\n",
       "0                             0                             0   \n",
       "1                             0                             0   \n",
       "2                             0                             0   \n",
       "3                             0                             0   \n",
       "4                             0                             0   \n",
       "\n",
       "   pub_rec_bankruptcies_5 years  pub_rec_bankruptcies_6 years  \\\n",
       "0                             0                             0   \n",
       "1                             0                             0   \n",
       "2                             0                             0   \n",
       "3                             0                             0   \n",
       "4                             0                             0   \n",
       "\n",
       "   pub_rec_bankruptcies_7 years  pub_rec_bankruptcies_8 years  \\\n",
       "0                             0                             0   \n",
       "1                             0                             0   \n",
       "2                             0                             0   \n",
       "3                             0                             0   \n",
       "4                             0                             0   \n",
       "\n",
       "   pub_rec_bankruptcies_9 years  pub_rec_bankruptcies_< 1 year  \n",
       "0                             0                              0  \n",
       "1                             0                              1  \n",
       "2                             0                              0  \n",
       "3                             0                              0  \n",
       "4                             0                              0  \n",
       "\n",
       "[5 rows x 72 columns]"
      ]
     },
     "execution_count": 3,
     "metadata": {},
     "output_type": "execute_result"
    }
   ],
   "source": [
    "df1.head()"
   ]
  },
  {
   "cell_type": "code",
   "execution_count": 4,
   "metadata": {},
   "outputs": [
    {
     "name": "stdout",
     "output_type": "stream",
     "text": [
      "<class 'pandas.core.frame.DataFrame'>\n",
      "RangeIndex: 42535 entries, 0 to 42534\n",
      "Data columns (total 72 columns):\n",
      "member_id                              42535 non-null int64\n",
      "loan_amnt                              42535 non-null int64\n",
      "funded_amnt                            42535 non-null int64\n",
      "funded_amnt_inv                        42535 non-null float64\n",
      "int_rate                               42535 non-null float64\n",
      "installment                            42535 non-null float64\n",
      "annual_inc                             42535 non-null float64\n",
      "dti                                    42535 non-null float64\n",
      "delinq_2yrs                            42535 non-null float64\n",
      "open_acc                               42535 non-null float64\n",
      "pub_rec                                42535 non-null float64\n",
      "revol_bal                              42535 non-null int64\n",
      "revol_util                             42535 non-null float64\n",
      "total_acc                              42535 non-null float64\n",
      "total_pymnt                            42535 non-null float64\n",
      "term_ 60 months                        42535 non-null int64\n",
      "grade_B                                42535 non-null int64\n",
      "grade_C                                42535 non-null int64\n",
      "grade_D                                42535 non-null int64\n",
      "grade_E                                42535 non-null int64\n",
      "grade_F                                42535 non-null int64\n",
      "grade_G                                42535 non-null int64\n",
      "emp_length_10+ years                   42535 non-null int64\n",
      "emp_length_2 years                     42535 non-null int64\n",
      "emp_length_3 years                     42535 non-null int64\n",
      "emp_length_4 years                     42535 non-null int64\n",
      "emp_length_5 years                     42535 non-null int64\n",
      "emp_length_6 years                     42535 non-null int64\n",
      "emp_length_7 years                     42535 non-null int64\n",
      "emp_length_8 years                     42535 non-null int64\n",
      "emp_length_9 years                     42535 non-null int64\n",
      "emp_length_< 1 year                    42535 non-null int64\n",
      "home_ownership_MORTGAGE                42535 non-null int64\n",
      "home_ownership_NONE                    42535 non-null int64\n",
      "home_ownership_OWN                     42535 non-null int64\n",
      "home_ownership_RENT                    42535 non-null int64\n",
      "verification_status_Source Verified    42535 non-null int64\n",
      "verification_status_Verified           42535 non-null int64\n",
      "loan_status_Charged Off                42535 non-null int64\n",
      "purpose_car                            42535 non-null int64\n",
      "purpose_credit_card                    42535 non-null int64\n",
      "purpose_debt_consolidation             42535 non-null int64\n",
      "purpose_educational                    42535 non-null int64\n",
      "purpose_home_improvement               42535 non-null int64\n",
      "purpose_house                          42535 non-null int64\n",
      "purpose_major_purchase                 42535 non-null int64\n",
      "purpose_medical                        42535 non-null int64\n",
      "purpose_moving                         42535 non-null int64\n",
      "purpose_renewable_energy               42535 non-null int64\n",
      "purpose_small_business                 42535 non-null int64\n",
      "purpose_vacation                       42535 non-null int64\n",
      "purpose_wedding                        42535 non-null int64\n",
      "inq_last_6mths_1 year                  42535 non-null int64\n",
      "inq_last_6mths_10+ years               42535 non-null int64\n",
      "inq_last_6mths_2 years                 42535 non-null int64\n",
      "inq_last_6mths_3 years                 42535 non-null int64\n",
      "inq_last_6mths_4 years                 42535 non-null int64\n",
      "inq_last_6mths_5 years                 42535 non-null int64\n",
      "inq_last_6mths_6 years                 42535 non-null int64\n",
      "inq_last_6mths_7 years                 42535 non-null int64\n",
      "inq_last_6mths_8 years                 42535 non-null int64\n",
      "inq_last_6mths_9 years                 42535 non-null int64\n",
      "pub_rec_bankruptcies_10+ years         42535 non-null int64\n",
      "pub_rec_bankruptcies_2 years           42535 non-null int64\n",
      "pub_rec_bankruptcies_3 years           42535 non-null int64\n",
      "pub_rec_bankruptcies_4 years           42535 non-null int64\n",
      "pub_rec_bankruptcies_5 years           42535 non-null int64\n",
      "pub_rec_bankruptcies_6 years           42535 non-null int64\n",
      "pub_rec_bankruptcies_7 years           42535 non-null int64\n",
      "pub_rec_bankruptcies_8 years           42535 non-null int64\n",
      "pub_rec_bankruptcies_9 years           42535 non-null int64\n",
      "pub_rec_bankruptcies_< 1 year          42535 non-null int64\n",
      "dtypes: float64(11), int64(61)\n",
      "memory usage: 23.4 MB\n"
     ]
    }
   ],
   "source": [
    "df1.info()"
   ]
  },
  {
   "cell_type": "code",
   "execution_count": 29,
   "metadata": {},
   "outputs": [],
   "source": [
    "### Setting up matrixes for the NN.\n",
    "X = df1.drop(columns='loan_status_Charged Off')\n",
    "y = df1['loan_status_Charged Off']\n",
    "predictors = X.values\n",
    "target = to_categorical(y)"
   ]
  },
  {
   "cell_type": "code",
   "execution_count": 32,
   "metadata": {},
   "outputs": [],
   "source": [
    "import keras\n",
    "from keras.utils import to_categorical "
   ]
  },
  {
   "cell_type": "code",
   "execution_count": 9,
   "metadata": {},
   "outputs": [
    {
     "data": {
      "text/plain": [
       "(42535, 71)"
      ]
     },
     "execution_count": 9,
     "metadata": {},
     "output_type": "execute_result"
    }
   ],
   "source": [
    "predictors.shape"
   ]
  },
  {
   "cell_type": "code",
   "execution_count": 10,
   "metadata": {},
   "outputs": [],
   "source": [
    "### Stanardizing the data \n",
    "from sklearn import preprocessing\n",
    "scaler = preprocessing.StandardScaler()\n",
    "XSTD = scaler.fit_transform(predictors)"
   ]
  },
  {
   "cell_type": "code",
   "execution_count": 20,
   "metadata": {},
   "outputs": [],
   "source": [
    "### 3 hidden layers, 1000 nodes each.\n",
    "from keras.layers import Dense\n",
    "from keras.models import Sequential\n",
    "model = Sequential()\n",
    "model.add(Dense(1000, input_shape = (71,), activation='relu'))\n",
    "model.add(Dense(1000, activation='relu'))\n",
    "model.add(Dense(1000, activation='relu'))\n",
    "model.add(Dense(2, activation='softmax'))\n",
    "model.compile(optimizer='adam', loss='categorical_crossentropy', metrics=['accuracy'])"
   ]
  },
  {
   "cell_type": "code",
   "execution_count": 22,
   "metadata": {},
   "outputs": [
    {
     "name": "stdout",
     "output_type": "stream",
     "text": [
      "Train on 29774 samples, validate on 12761 samples\n",
      "Epoch 1/20\n",
      "29774/29774 [==============================] - 36s 1ms/step - loss: 0.0896 - acc: 0.9700 - val_loss: 0.2194 - val_acc: 0.9530\n",
      "Epoch 2/20\n",
      "29774/29774 [==============================] - 37s 1ms/step - loss: 0.0856 - acc: 0.9712 - val_loss: 0.2258 - val_acc: 0.9506\n",
      "Epoch 3/20\n",
      "29774/29774 [==============================] - 37s 1ms/step - loss: 0.0836 - acc: 0.9722 - val_loss: 0.1839 - val_acc: 0.9575\n",
      "Epoch 4/20\n",
      "29774/29774 [==============================] - 37s 1ms/step - loss: 0.0768 - acc: 0.9729 - val_loss: 0.2920 - val_acc: 0.9518\n",
      "Epoch 5/20\n",
      "29774/29774 [==============================] - 36s 1ms/step - loss: 0.0762 - acc: 0.9726 - val_loss: 0.2508 - val_acc: 0.9516\n",
      "Epoch 6/20\n",
      "29774/29774 [==============================] - 38s 1ms/step - loss: 0.0723 - acc: 0.9746 - val_loss: 0.2978 - val_acc: 0.9532\n"
     ]
    },
    {
     "data": {
      "text/plain": [
       "<keras.callbacks.History at 0x1a70302d68>"
      ]
     },
     "execution_count": 22,
     "metadata": {},
     "output_type": "execute_result"
    }
   ],
   "source": [
    "from keras.callbacks import EarlyStopping\n",
    "early_stopping_moniter = EarlyStopping(patience=3)\n",
    "model.fit(XSTD, target, validation_split=0.3, epochs=20, callbacks=[early_stopping_moniter])"
   ]
  },
  {
   "cell_type": "code",
   "execution_count": 23,
   "metadata": {},
   "outputs": [],
   "source": [
    "### So far the best model with the lowest loss function. 4hidden lays, 1000 first 3, 5000 forth.\n",
    "model2 = Sequential()\n",
    "model2.add(Dense(1000, input_shape = (71,), activation='relu'))\n",
    "model2.add(Dense(1000, activation='relu'))\n",
    "model2.add(Dense(1000, activation='relu'))\n",
    "model2.add(Dense(500, activation='relu'))\n",
    "model2.add(Dense(2, activation='softmax'))\n",
    "model2.compile(optimizer='adam', loss='categorical_crossentropy', metrics=['accuracy'])"
   ]
  },
  {
   "cell_type": "code",
   "execution_count": 24,
   "metadata": {},
   "outputs": [
    {
     "name": "stdout",
     "output_type": "stream",
     "text": [
      "Train on 29774 samples, validate on 12761 samples\n",
      "Epoch 1/20\n",
      "29774/29774 [==============================] - 44s 1ms/step - loss: 0.2183 - acc: 0.9268 - val_loss: 0.2003 - val_acc: 0.9314\n",
      "Epoch 2/20\n",
      "29774/29774 [==============================] - 50s 2ms/step - loss: 0.1421 - acc: 0.9536 - val_loss: 0.2133 - val_acc: 0.9440\n",
      "Epoch 3/20\n",
      "29774/29774 [==============================] - 49s 2ms/step - loss: 0.1282 - acc: 0.9594 - val_loss: 0.1804 - val_acc: 0.9462\n",
      "Epoch 4/20\n",
      "29774/29774 [==============================] - 49s 2ms/step - loss: 0.1184 - acc: 0.9618 - val_loss: 0.1847 - val_acc: 0.9502\n",
      "Epoch 5/20\n",
      "29774/29774 [==============================] - 49s 2ms/step - loss: 0.1103 - acc: 0.9644 - val_loss: 0.1585 - val_acc: 0.9587\n",
      "Epoch 6/20\n",
      "29774/29774 [==============================] - 50s 2ms/step - loss: 0.1076 - acc: 0.9658 - val_loss: 0.1824 - val_acc: 0.9524\n",
      "Epoch 7/20\n",
      "29774/29774 [==============================] - 50s 2ms/step - loss: 0.1039 - acc: 0.9664 - val_loss: 0.1807 - val_acc: 0.9546\n",
      "Epoch 8/20\n",
      "29774/29774 [==============================] - 50s 2ms/step - loss: 0.1018 - acc: 0.9667 - val_loss: 0.2104 - val_acc: 0.9531\n"
     ]
    },
    {
     "data": {
      "text/plain": [
       "<keras.callbacks.History at 0x1a6fa15748>"
      ]
     },
     "execution_count": 24,
     "metadata": {},
     "output_type": "execute_result"
    }
   ],
   "source": [
    "model2.fit(XSTD, target, validation_split=0.3, epochs=20, callbacks=[early_stopping_moniter])"
   ]
  },
  {
   "cell_type": "code",
   "execution_count": 25,
   "metadata": {},
   "outputs": [],
   "source": [
    "### Least capacity, 3 layers, 700-700-350\n",
    "model3 = Sequential()\n",
    "model3.add(Dense(700, input_shape = (71,), activation='relu'))\n",
    "model3.add(Dense(700, activation='relu'))\n",
    "model3.add(Dense(350, activation='relu'))\n",
    "model3.add(Dense(2, activation='softmax'))\n",
    "model3.compile(optimizer='adam', loss='categorical_crossentropy', metrics=['accuracy'])"
   ]
  },
  {
   "cell_type": "code",
   "execution_count": 26,
   "metadata": {},
   "outputs": [
    {
     "name": "stdout",
     "output_type": "stream",
     "text": [
      "Train on 29774 samples, validate on 12761 samples\n",
      "Epoch 1/20\n",
      "29774/29774 [==============================] - 17s 574us/step - loss: 0.2163 - acc: 0.9255 - val_loss: 0.2329 - val_acc: 0.9256\n",
      "Epoch 2/20\n",
      "29774/29774 [==============================] - 16s 547us/step - loss: 0.1403 - acc: 0.9538 - val_loss: 0.2313 - val_acc: 0.9361\n",
      "Epoch 3/20\n",
      "29774/29774 [==============================] - 18s 592us/step - loss: 0.1236 - acc: 0.9612 - val_loss: 0.2007 - val_acc: 0.9396\n",
      "Epoch 4/20\n",
      "29774/29774 [==============================] - 17s 587us/step - loss: 0.1160 - acc: 0.9630 - val_loss: 0.2372 - val_acc: 0.9495\n",
      "Epoch 5/20\n",
      "29774/29774 [==============================] - 18s 595us/step - loss: 0.1096 - acc: 0.9650 - val_loss: 0.2012 - val_acc: 0.9451\n",
      "Epoch 6/20\n",
      "29774/29774 [==============================] - 18s 600us/step - loss: 0.1047 - acc: 0.9676 - val_loss: 0.1876 - val_acc: 0.9482\n",
      "Epoch 7/20\n",
      "29774/29774 [==============================] - 18s 602us/step - loss: 0.1015 - acc: 0.9678 - val_loss: 0.2025 - val_acc: 0.9495\n",
      "Epoch 8/20\n",
      "29774/29774 [==============================] - 18s 600us/step - loss: 0.0971 - acc: 0.9680 - val_loss: 0.1757 - val_acc: 0.9509\n",
      "Epoch 9/20\n",
      "29774/29774 [==============================] - 18s 597us/step - loss: 0.0922 - acc: 0.9697 - val_loss: 0.2055 - val_acc: 0.9508\n",
      "Epoch 10/20\n",
      "29774/29774 [==============================] - 18s 603us/step - loss: 0.0903 - acc: 0.9708 - val_loss: 0.1795 - val_acc: 0.9516\n",
      "Epoch 11/20\n",
      "29774/29774 [==============================] - 18s 595us/step - loss: 0.0867 - acc: 0.9704 - val_loss: 0.2043 - val_acc: 0.9539\n"
     ]
    },
    {
     "data": {
      "text/plain": [
       "<keras.callbacks.History at 0x1a70b486d8>"
      ]
     },
     "execution_count": 26,
     "metadata": {},
     "output_type": "execute_result"
    }
   ],
   "source": [
    "model3.fit(XSTD, target, validation_split=0.3, epochs=20, callbacks=[early_stopping_moniter])"
   ]
  },
  {
   "cell_type": "code",
   "execution_count": 27,
   "metadata": {},
   "outputs": [],
   "source": [
    "### Most capacity, 4 layers, all 1000\n",
    "model4 = Sequential()\n",
    "model4.add(Dense(1000, input_shape = (71,), activation='relu'))\n",
    "model4.add(Dense(1000, activation='relu'))\n",
    "model4.add(Dense(1000, activation='relu'))\n",
    "model4.add(Dense(1000, activation='relu'))\n",
    "model4.add(Dense(2, activation='softmax'))\n",
    "model4.compile(optimizer='adam', loss='categorical_crossentropy', metrics=['accuracy'])"
   ]
  },
  {
   "cell_type": "code",
   "execution_count": 28,
   "metadata": {},
   "outputs": [
    {
     "name": "stdout",
     "output_type": "stream",
     "text": [
      "Train on 29774 samples, validate on 12761 samples\n",
      "Epoch 1/20\n",
      "29774/29774 [==============================] - 56s 2ms/step - loss: 0.2209 - acc: 0.9258 - val_loss: 0.2351 - val_acc: 0.9275\n",
      "Epoch 2/20\n",
      "29774/29774 [==============================] - 58s 2ms/step - loss: 0.1420 - acc: 0.9537 - val_loss: 0.2012 - val_acc: 0.9432\n",
      "Epoch 3/20\n",
      "29774/29774 [==============================] - 58s 2ms/step - loss: 0.1274 - acc: 0.9589 - val_loss: 0.1746 - val_acc: 0.9495\n",
      "Epoch 4/20\n",
      "29774/29774 [==============================] - 58s 2ms/step - loss: 0.1203 - acc: 0.9618 - val_loss: 0.1768 - val_acc: 0.9553\n",
      "Epoch 5/20\n",
      "29774/29774 [==============================] - 58s 2ms/step - loss: 0.1152 - acc: 0.9636 - val_loss: 0.1847 - val_acc: 0.9457\n",
      "Epoch 6/20\n",
      "29774/29774 [==============================] - 58s 2ms/step - loss: 0.1074 - acc: 0.9652 - val_loss: 0.2494 - val_acc: 0.9460\n"
     ]
    },
    {
     "data": {
      "text/plain": [
       "<keras.callbacks.History at 0x1a71974198>"
      ]
     },
     "execution_count": 28,
     "metadata": {},
     "output_type": "execute_result"
    }
   ],
   "source": [
    "model4.fit(XSTD, target, validation_split=0.3, epochs=20, callbacks=[early_stopping_moniter])"
   ]
  },
  {
   "cell_type": "code",
   "execution_count": null,
   "metadata": {},
   "outputs": [],
   "source": []
  },
  {
   "cell_type": "code",
   "execution_count": null,
   "metadata": {},
   "outputs": [],
   "source": []
  }
 ],
 "metadata": {
  "kernelspec": {
   "display_name": "Python 3",
   "language": "python",
   "name": "python3"
  },
  "language_info": {
   "codemirror_mode": {
    "name": "ipython",
    "version": 3
   },
   "file_extension": ".py",
   "mimetype": "text/x-python",
   "name": "python",
   "nbconvert_exporter": "python",
   "pygments_lexer": "ipython3",
   "version": "3.6.8"
  }
 },
 "nbformat": 4,
 "nbformat_minor": 2
}
