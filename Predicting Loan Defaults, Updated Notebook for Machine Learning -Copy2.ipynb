{
 "cells": [
  {
   "cell_type": "markdown",
   "metadata": {},
   "source": [
    "# Notebook for machine learning models that predict loan \n"
   ]
  },
  {
   "cell_type": "code",
   "execution_count": 1,
   "metadata": {},
   "outputs": [],
   "source": [
    "import pandas as pd\n",
    "import numpy as np"
   ]
  },
  {
   "cell_type": "code",
   "execution_count": 2,
   "metadata": {},
   "outputs": [],
   "source": [
    "df = pd.read_csv('Loan_data_ML.csv', index_col='member_id')"
   ]
  },
  {
   "cell_type": "code",
   "execution_count": 3,
   "metadata": {},
   "outputs": [
    {
     "data": {
      "text/plain": [
       "Int64Index([    1,     2,     3,     4,     5,     6,     7,     8,     9,\n",
       "               10,\n",
       "            ...\n",
       "            42447, 42448, 42449, 42450, 42451, 42452, 42453, 42454, 42455,\n",
       "            42456],\n",
       "           dtype='int64', name='member_id', length=42453)"
      ]
     },
     "execution_count": 3,
     "metadata": {},
     "output_type": "execute_result"
    }
   ],
   "source": [
    "df.index"
   ]
  },
  {
   "cell_type": "code",
   "execution_count": 4,
   "metadata": {},
   "outputs": [],
   "source": [
    "X = df.drop('loan_status_Charged Off', axis=1).values\n",
    "y = df['loan_status_Charged Off'].values\n",
    "from sklearn.model_selection import train_test_split\n",
    "X_train, X_test, y_train, y_test = train_test_split(X, y, test_size=0.3, random_state=32, stratify=y)"
   ]
  },
  {
   "cell_type": "code",
   "execution_count": 5,
   "metadata": {},
   "outputs": [],
   "source": [
    "import warnings\n",
    "warnings.filterwarnings(\"ignore\")"
   ]
  },
  {
   "cell_type": "code",
   "execution_count": 6,
   "metadata": {},
   "outputs": [
    {
     "data": {
      "text/plain": [
       "LogisticRegression(C=1.0, class_weight=None, dual=False, fit_intercept=True,\n",
       "          intercept_scaling=1, max_iter=100, multi_class='warn',\n",
       "          n_jobs=None, penalty='l2', random_state=None, solver='warn',\n",
       "          tol=0.0001, verbose=0, warm_start=False)"
      ]
     },
     "execution_count": 6,
     "metadata": {},
     "output_type": "execute_result"
    }
   ],
   "source": [
    "# Logistic regression without tuning\n",
    "from sklearn.linear_model import LogisticRegression\n",
    "reg = LogisticRegression()\n",
    "reg.fit(X_train, y_train)"
   ]
  },
  {
   "cell_type": "code",
   "execution_count": 7,
   "metadata": {},
   "outputs": [
    {
     "name": "stdout",
     "output_type": "stream",
     "text": [
      "CV Score on training data: 0.9541001894893928\n",
      "Score on training data: 0.9533600296126796\n",
      "Score on test set: 0.9558731155778895\n"
     ]
    }
   ],
   "source": [
    "# Logistic regression without tuning\n",
    "from sklearn.model_selection import cross_val_score\n",
    "x_val = cross_val_score(reg, X_train, y_train, cv=5)\n",
    "print('CV Score on training data:', np.mean(x_val))\n",
    "print('Score on training data:', reg.score(X_train, y_train))\n",
    "print('Score on test set:', reg.score(X_test, y_test))"
   ]
  },
  {
   "cell_type": "code",
   "execution_count": 8,
   "metadata": {},
   "outputs": [
    {
     "name": "stdout",
     "output_type": "stream",
     "text": [
      "              precision    recall  f1-score   support\n",
      "\n",
      "           0       0.95      1.00      0.97     10813\n",
      "           1       1.00      0.71      0.83      1923\n",
      "\n",
      "   micro avg       0.96      0.96      0.96     12736\n",
      "   macro avg       0.97      0.86      0.90     12736\n",
      "weighted avg       0.96      0.96      0.95     12736\n",
      "\n"
     ]
    }
   ],
   "source": [
    "# Logistic regression without tuning\n",
    "from sklearn.metrics import classification_report\n",
    "pred_y = reg.predict(X_test)\n",
    "print(classification_report(y_test, pred_y))"
   ]
  },
  {
   "cell_type": "code",
   "execution_count": null,
   "metadata": {},
   "outputs": [],
   "source": []
  },
  {
   "cell_type": "code",
   "execution_count": 9,
   "metadata": {},
   "outputs": [
    {
     "name": "stdout",
     "output_type": "stream",
     "text": [
      "Best parameters: {'C': 0.006105402296585327, 'penalty': 'l1'}\n",
      "Score from the best parameters: 0.9559174883063566\n"
     ]
    }
   ],
   "source": [
    "# Optimal logisitc regression\n",
    "from sklearn.model_selection import RandomizedSearchCV, GridSearchCV\n",
    "param_grid = {'penalty':['l1','l2'], 'C':np.logspace(-5,8,15)}\n",
    "logregcv = GridSearchCV(reg, param_grid, cv=5)\n",
    "logregcv.fit(X_train, y_train)\n",
    "print('Best parameters:', logregcv.best_params_)\n",
    "print('Score from the best parameters:', logregcv.best_score_)"
   ]
  },
  {
   "cell_type": "code",
   "execution_count": 10,
   "metadata": {},
   "outputs": [],
   "source": [
    "best_logistic = logregcv.best_estimator_"
   ]
  },
  {
   "cell_type": "code",
   "execution_count": 11,
   "metadata": {},
   "outputs": [
    {
     "name": "stdout",
     "output_type": "stream",
     "text": [
      "CV accuracy score of optimized model on the test data: 0.9559171477475903\n",
      "Accuracy score of optimized model on the training data: 0.9557155836726453\n",
      "Accuracy score of optimized model on the test data: 0.9571293969849246\n"
     ]
    }
   ],
   "source": [
    "# Optimal logisitc regression\n",
    "y_pred = best_logistic.predict(X_test)\n",
    "print('CV accuracy score of optimized model on the test data:', np.mean(cross_val_score(best_logistic, X_train, y_train, cv=5)))\n",
    "print('Accuracy score of optimized model on the training data:', best_logistic.score(X_train, y_train))\n",
    "print('Accuracy score of optimized model on the test data:', best_logistic.score(X_test, y_test))"
   ]
  },
  {
   "cell_type": "code",
   "execution_count": 12,
   "metadata": {},
   "outputs": [
    {
     "name": "stdout",
     "output_type": "stream",
     "text": [
      "              precision    recall  f1-score   support\n",
      "\n",
      "           0       0.95      1.00      0.98     10813\n",
      "           1       0.98      0.73      0.84      1923\n",
      "\n",
      "   micro avg       0.96      0.96      0.96     12736\n",
      "   macro avg       0.96      0.87      0.91     12736\n",
      "weighted avg       0.96      0.96      0.95     12736\n",
      "\n"
     ]
    }
   ],
   "source": [
    "# Optimal logisitc regression\n",
    "print(classification_report(y_test, y_pred))"
   ]
  },
  {
   "cell_type": "code",
   "execution_count": null,
   "metadata": {},
   "outputs": [],
   "source": []
  },
  {
   "cell_type": "code",
   "execution_count": 12,
   "metadata": {},
   "outputs": [],
   "source": [
    "# Logistic regression with SCALED features\n",
    "from sklearn.preprocessing import scale\n",
    "X_scaled = scale(X)"
   ]
  },
  {
   "cell_type": "code",
   "execution_count": 13,
   "metadata": {},
   "outputs": [
    {
     "name": "stdout",
     "output_type": "stream",
     "text": [
      "CV score: 0.9527203809546319\n",
      "Score using all training data: 0.9532254265235387\n",
      "Score using testing data: 0.9518687185929648\n"
     ]
    }
   ],
   "source": [
    "# Logistic regression with SCALED features\n",
    "X_scaled_train, X_scaled_test, y_train2, y_test2 = train_test_split(X_scaled, y, test_size=0.3, random_state=32,\\\n",
    "                                                                    stratify=y)\n",
    "reg.fit(X_scaled_train, y_train)\n",
    "scaled_CV_score = cross_val_score(reg, X_scaled_train, y_train, cv=5)\n",
    "print('CV score:',np.mean(scaled_CV_score))\n",
    "print('Score using all training data:',reg.score(X_scaled_train, y_train))\n",
    "print('Score using testing data:',reg.score(X_scaled_test, y_test))"
   ]
  },
  {
   "cell_type": "code",
   "execution_count": 15,
   "metadata": {},
   "outputs": [
    {
     "name": "stdout",
     "output_type": "stream",
     "text": [
      "              precision    recall  f1-score   support\n",
      "\n",
      "           0       0.96      0.99      0.97     10813\n",
      "           1       0.93      0.74      0.82      1923\n",
      "\n",
      "   micro avg       0.95      0.95      0.95     12736\n",
      "   macro avg       0.94      0.86      0.90     12736\n",
      "weighted avg       0.95      0.95      0.95     12736\n",
      "\n"
     ]
    }
   ],
   "source": [
    "print(classification_report(y_test2, reg.predict(X_scaled_test)))"
   ]
  },
  {
   "cell_type": "code",
   "execution_count": 58,
   "metadata": {},
   "outputs": [
    {
     "data": {
      "text/plain": [
       "GridSearchCV(cv=5, error_score='raise-deprecating',\n",
       "       estimator=LogisticRegression(C=1.0, class_weight=None, dual=False, fit_intercept=True,\n",
       "          intercept_scaling=1, max_iter=100, multi_class='warn',\n",
       "          n_jobs=None, penalty='l2', random_state=None, solver='warn',\n",
       "          tol=0.0001, verbose=0, warm_start=False),\n",
       "       fit_params=None, iid='warn', n_jobs=None,\n",
       "       param_grid={'penalty': ['l1', 'l2'], 'C': array([1.00000e-05, 8.48343e-05, 7.19686e-04, 6.10540e-03, 5.17947e-02,\n",
       "       4.39397e-01, 3.72759e+00, 3.16228e+01, 2.68270e+02, 2.27585e+03,\n",
       "       1.93070e+04, 1.63789e+05, 1.38950e+06, 1.17877e+07, 1.00000e+08])},\n",
       "       pre_dispatch='2*n_jobs', refit=True, return_train_score='warn',\n",
       "       scoring=None, verbose=0)"
      ]
     },
     "execution_count": 58,
     "metadata": {},
     "output_type": "execute_result"
    }
   ],
   "source": [
    "# Tuning the Logistic regression with SCALED features\n",
    "log_scaled_cv = GridSearchCV(reg, param_grid, cv=5)\n",
    "log_scaled_cv.fit(X_scaled_train, y_train2)"
   ]
  },
  {
   "cell_type": "code",
   "execution_count": 59,
   "metadata": {},
   "outputs": [
    {
     "name": "stdout",
     "output_type": "stream",
     "text": [
      "Best parameters: {'C': 31.622776601683793, 'penalty': 'l1'}\n",
      "Score from best parameters: 0.9533263788403944\n"
     ]
    }
   ],
   "source": [
    "print('Best parameters:',log_scaled_cv.best_params_)\n",
    "print('Score from best parameters:',log_scaled_cv.best_score_)"
   ]
  },
  {
   "cell_type": "code",
   "execution_count": 60,
   "metadata": {},
   "outputs": [
    {
     "name": "stdout",
     "output_type": "stream",
     "text": [
      "Tuned: CV score: 0.9507343364046459\n",
      "Tuned: Score using all training data: 0.9539320927415285\n",
      "Tuned: Score using testing data: 0.9522613065326633\n"
     ]
    }
   ],
   "source": [
    "# Tuned Logistic regression with SCALED features\n",
    "best_scaled_model = log_scaled_cv.best_estimator_\n",
    "tuned_scaled_CV_score = cross_val_score(best_scaled_model, X_scaled_train, y_train2, cv=5)\n",
    "print('Tuned: CV score:',np.mean(tuned_scaled_CV_score))\n",
    "print('Tuned: Score using all training data:',best_scaled_model.score(X_scaled_train, y_train2))\n",
    "print('Tuned: Score using testing data:',best_scaled_model.score(X_scaled_test, y_test2))"
   ]
  },
  {
   "cell_type": "code",
   "execution_count": 61,
   "metadata": {},
   "outputs": [
    {
     "name": "stdout",
     "output_type": "stream",
     "text": [
      "              precision    recall  f1-score   support\n",
      "\n",
      "           0       0.96      0.99      0.97     10813\n",
      "           1       0.93      0.74      0.82      1923\n",
      "\n",
      "   micro avg       0.95      0.95      0.95     12736\n",
      "   macro avg       0.94      0.87      0.90     12736\n",
      "weighted avg       0.95      0.95      0.95     12736\n",
      "\n"
     ]
    }
   ],
   "source": [
    "# Tuned Logistic regression with SCALED features\n",
    "print(classification_report(y_test2, best_scaled_model.predict(X_scaled_test)))"
   ]
  },
  {
   "cell_type": "code",
   "execution_count": null,
   "metadata": {},
   "outputs": [],
   "source": []
  },
  {
   "cell_type": "code",
   "execution_count": 62,
   "metadata": {},
   "outputs": [
    {
     "data": {
      "text/plain": [
       "SVC(C=1.0, cache_size=200, class_weight=None, coef0=0.0,\n",
       "  decision_function_shape='ovr', degree=3, gamma='auto_deprecated',\n",
       "  kernel='rbf', max_iter=-1, probability=False, random_state=32,\n",
       "  shrinking=True, tol=0.001, verbose=False)"
      ]
     },
     "execution_count": 62,
     "metadata": {},
     "output_type": "execute_result"
    }
   ],
   "source": [
    "#Untuned support vector machine\n",
    "from sklearn.svm import SVC\n",
    "svm = SVC(random_state=32)\n",
    "svm.fit(X_scaled_train, y_train2)"
   ]
  },
  {
   "cell_type": "code",
   "execution_count": 63,
   "metadata": {},
   "outputs": [
    {
     "name": "stdout",
     "output_type": "stream",
     "text": [
      "Untuned scaled CV score with training set 0.9340108477797987\n",
      "Untuned scaled score with training set 0.9490863815324562\n",
      "Untuned scaled score with testing set 0.9382066582914573\n"
     ]
    }
   ],
   "source": [
    "#Untuned support vector machine\n",
    "cv_score_svm2 = cross_val_score(svm, X_scaled_train, y_train2, cv=4)\n",
    "print('Untuned scaled CV score with training set', np.mean(cv_score_svm2))\n",
    "print('Untuned scaled score with training set', svm.score(X_scaled_train, y_train))\n",
    "print('Untuned scaled score with testing set', svm.score(X_scaled_test, y_test))"
   ]
  },
  {
   "cell_type": "code",
   "execution_count": 64,
   "metadata": {},
   "outputs": [
    {
     "name": "stdout",
     "output_type": "stream",
     "text": [
      "              precision    recall  f1-score   support\n",
      "\n",
      "           0       0.93      1.00      0.96     10813\n",
      "           1       0.99      0.60      0.74      1923\n",
      "\n",
      "   micro avg       0.94      0.94      0.94     12736\n",
      "   macro avg       0.96      0.80      0.85     12736\n",
      "weighted avg       0.94      0.94      0.93     12736\n",
      "\n"
     ]
    }
   ],
   "source": [
    "#Untuned support vector machine\n",
    "y_pred_smv2 = svm.predict(X_scaled_test)\n",
    "print(classification_report(y_test2, y_pred_smv2))"
   ]
  },
  {
   "cell_type": "code",
   "execution_count": null,
   "metadata": {},
   "outputs": [],
   "source": []
  },
  {
   "cell_type": "code",
   "execution_count": null,
   "metadata": {},
   "outputs": [],
   "source": []
  },
  {
   "cell_type": "code",
   "execution_count": 65,
   "metadata": {},
   "outputs": [],
   "source": [
    "#Tuned support vector machine\n",
    "param_dist_svc = {'C':np.logspace(-2, 10, 13), 'gamma':np.logspace(-9, 3, 13)}\n",
    "svm_cv = RandomizedSearchCV(svm, param_distributions=param_dist_svc, cv=5)\n",
    "svm_cv.fit(X_scaled_train, y_train2)\n",
    "best_svm = svm_cv.best_estimator_"
   ]
  },
  {
   "cell_type": "code",
   "execution_count": 66,
   "metadata": {},
   "outputs": [
    {
     "name": "stdout",
     "output_type": "stream",
     "text": [
      "best parameters: {'gamma': 0.01, 'C': 1000.0}\n",
      "score from best parameters: 0.9433320994716828\n"
     ]
    }
   ],
   "source": [
    "#Tuned support vector machine\n",
    "print(\"best parameters:\", svm_cv.best_params_)\n",
    "print('score from best parameters:', svm_cv.best_score_)"
   ]
  },
  {
   "cell_type": "code",
   "execution_count": 67,
   "metadata": {},
   "outputs": [
    {
     "name": "stdout",
     "output_type": "stream",
     "text": [
      "Scaled CV score with training set 0.9428610677264737\n",
      "Scaled score with training set 0.9978800013460309\n",
      "Scaled score with testing set 0.9420540201005025\n"
     ]
    }
   ],
   "source": [
    "#Tuned support vector machine\n",
    "cv_score_svm = cross_val_score(best_svm, X_scaled_train, y_train2, cv=4)\n",
    "print('Scaled CV score with training set', np.mean(cv_score_svm))\n",
    "print('Scaled score with training set', best_svm.score(X_scaled_train, y_train2))\n",
    "print('Scaled score with testing set', best_svm.score(X_scaled_test, y_test2))"
   ]
  },
  {
   "cell_type": "code",
   "execution_count": 68,
   "metadata": {
    "scrolled": true
   },
   "outputs": [
    {
     "name": "stdout",
     "output_type": "stream",
     "text": [
      "              precision    recall  f1-score   support\n",
      "\n",
      "           0       0.97      0.97      0.97     10813\n",
      "           1       0.81      0.80      0.81      1923\n",
      "\n",
      "   micro avg       0.94      0.94      0.94     12736\n",
      "   macro avg       0.89      0.89      0.89     12736\n",
      "weighted avg       0.94      0.94      0.94     12736\n",
      "\n"
     ]
    }
   ],
   "source": [
    "#Tuned support vector machine\n",
    "y_pred_smv2 = best_svm.predict(X_scaled_test)\n",
    "print(classification_report(y_test2, y_pred_smv2))"
   ]
  },
  {
   "cell_type": "code",
   "execution_count": null,
   "metadata": {},
   "outputs": [],
   "source": []
  },
  {
   "cell_type": "code",
   "execution_count": null,
   "metadata": {},
   "outputs": [],
   "source": []
  },
  {
   "cell_type": "code",
   "execution_count": null,
   "metadata": {},
   "outputs": [],
   "source": []
  },
  {
   "cell_type": "code",
   "execution_count": null,
   "metadata": {},
   "outputs": [],
   "source": []
  },
  {
   "cell_type": "code",
   "execution_count": null,
   "metadata": {},
   "outputs": [],
   "source": []
  },
  {
   "cell_type": "code",
   "execution_count": 44,
   "metadata": {},
   "outputs": [
    {
     "data": {
      "text/plain": [
       "RandomForestClassifier(bootstrap=True, class_weight=None, criterion='gini',\n",
       "            max_depth=None, max_features='auto', max_leaf_nodes=None,\n",
       "            min_impurity_decrease=0.0, min_impurity_split=None,\n",
       "            min_samples_leaf=1, min_samples_split=2,\n",
       "            min_weight_fraction_leaf=0.0, n_estimators=10, n_jobs=None,\n",
       "            oob_score=False, random_state=None, verbose=0,\n",
       "            warm_start=False)"
      ]
     },
     "execution_count": 44,
     "metadata": {},
     "output_type": "execute_result"
    }
   ],
   "source": [
    "# Random forest without tuning\n",
    "from sklearn.ensemble import RandomForestClassifier\n",
    "rf = RandomForestClassifier()\n",
    "rf.fit(X_train, y_train)"
   ]
  },
  {
   "cell_type": "code",
   "execution_count": 45,
   "metadata": {},
   "outputs": [
    {
     "name": "stdout",
     "output_type": "stream",
     "text": [
      "Untuned Cross Validation score on training set: 0.9300401586416485\n",
      "Untuned Score on training set: 0.9942457179392267\n",
      "Untuned Score on the test set: 0.9296482412060302\n"
     ]
    }
   ],
   "source": [
    "# Random forest without tuning\n",
    "x_vali = cross_val_score(rf, X_train, y_train, cv=5)\n",
    "print('Untuned Cross Validation score on training set:',x_vali.mean())\n",
    "print('Untuned Score on training set:',rf.score(X_train, y_train))\n",
    "print('Untuned Score on the test set:',rf.score(X_test, y_test))"
   ]
  },
  {
   "cell_type": "code",
   "execution_count": 46,
   "metadata": {},
   "outputs": [
    {
     "name": "stdout",
     "output_type": "stream",
     "text": [
      "              precision    recall  f1-score   support\n",
      "\n",
      "           0       0.93      1.00      0.96     10813\n",
      "           1       0.98      0.55      0.70      1923\n",
      "\n",
      "   micro avg       0.93      0.93      0.93     12736\n",
      "   macro avg       0.95      0.77      0.83     12736\n",
      "weighted avg       0.93      0.93      0.92     12736\n",
      "\n"
     ]
    }
   ],
   "source": [
    "# Random forest without tuning\n",
    "print(classification_report(y_test, rf.predict(X_test)))"
   ]
  },
  {
   "cell_type": "code",
   "execution_count": null,
   "metadata": {},
   "outputs": [],
   "source": []
  },
  {
   "cell_type": "code",
   "execution_count": 47,
   "metadata": {},
   "outputs": [],
   "source": [
    "# Optimal random forest classifier, tuning the RF\n",
    "param_dist = {'n_estimators':[800, 900, 1000, 1100, 1200], 'max_features':['auto','log2',None], 'max_depth':[7,10,None]}\n",
    "rfcv = RandomizedSearchCV(rf, param_distributions=param_dist, cv=4)"
   ]
  },
  {
   "cell_type": "code",
   "execution_count": 48,
   "metadata": {},
   "outputs": [
    {
     "name": "stdout",
     "output_type": "stream",
     "text": [
      "Best parameters for random forest: {'n_estimators': 900, 'max_features': 'auto', 'max_depth': None}\n",
      "Score of random forest with best params: 0.938250832856614\n"
     ]
    }
   ],
   "source": [
    "# Optimal random forest classifier\n",
    "rfcv.fit(X_train, y_train)\n",
    "print('Best parameters for random forest:', rfcv.best_params_)\n",
    "print('Score of random forest with best params:', rfcv.best_score_)"
   ]
  },
  {
   "cell_type": "code",
   "execution_count": 49,
   "metadata": {},
   "outputs": [],
   "source": [
    "yrf_predict = rfcv.predict(X_test)"
   ]
  },
  {
   "cell_type": "code",
   "execution_count": 50,
   "metadata": {},
   "outputs": [
    {
     "name": "stdout",
     "output_type": "stream",
     "text": [
      "              precision    recall  f1-score   support\n",
      "\n",
      "           0       0.94      1.00      0.97     10813\n",
      "           1       1.00      0.61      0.76      1923\n",
      "\n",
      "   micro avg       0.94      0.94      0.94     12736\n",
      "   macro avg       0.97      0.81      0.86     12736\n",
      "weighted avg       0.95      0.94      0.94     12736\n",
      "\n"
     ]
    }
   ],
   "source": [
    "# Optimal random forest classifier\n",
    "print(classification_report(y_test, yrf_predict))"
   ]
  },
  {
   "cell_type": "code",
   "execution_count": 51,
   "metadata": {},
   "outputs": [],
   "source": [
    "# Optimal random forest classifier\n",
    "best_rforest = rfcv.best_estimator_\n",
    "\n",
    "from sklearn.model_selection import cross_val_score\n",
    "x_val = cross_val_score(best_rforest, X_train, y_train, cv=5)"
   ]
  },
  {
   "cell_type": "code",
   "execution_count": 52,
   "metadata": {},
   "outputs": [
    {
     "name": "stdout",
     "output_type": "stream",
     "text": [
      "Optinal Cross Validation score on training set: 0.9390920217603366\n",
      "Optimal Score on training set: 1.0\n",
      "Optiman Score on the test set: 0.9415043969849246\n"
     ]
    }
   ],
   "source": [
    "# Optimal random forest classifier\n",
    "print('Optinal Cross Validation score on training set:',x_val.mean())\n",
    "print('Optimal Score on training set:',best_rforest.score(X_train, y_train))\n",
    "print('Optiman Score on the test set:',best_rforest.score(X_test, y_test))"
   ]
  },
  {
   "cell_type": "code",
   "execution_count": null,
   "metadata": {},
   "outputs": [],
   "source": []
  },
  {
   "cell_type": "code",
   "execution_count": null,
   "metadata": {},
   "outputs": [],
   "source": []
  },
  {
   "cell_type": "code",
   "execution_count": null,
   "metadata": {},
   "outputs": [],
   "source": [
    "# Optimal RF trained with scaled data for ensemble\n",
    "#rf2 = RandomForestClassifier()\n",
    "#rf2cv = RandomizedSearchCV(rf2, param_distribution=param_dist, cv=5)\n",
    "#rf2cv.fit(X_scaled_train, y_train)"
   ]
  },
  {
   "cell_type": "code",
   "execution_count": null,
   "metadata": {},
   "outputs": [],
   "source": [
    "# Optimal RF trained with scaled data for ensemble\n",
    "#best_scaled_rf = rf2cv.best_estimator_\n",
    "#scaled_cv_score = cross_val_score(best_scaled_rf, X_scaled_train, y_train, cv=4)"
   ]
  },
  {
   "cell_type": "code",
   "execution_count": null,
   "metadata": {},
   "outputs": [],
   "source": [
    "# Optimal RF trained with scaled data for ensemble\n",
    "#print('Optinal Cross Validation score on the SCALED training set:',scaled_cv_score.mean())\n",
    "#print('Optimal Score on SCALED training set:',best_scaled_rf.score(X_scaled_train, y_train))\n",
    "#print('Optiman Score on the SCALED test set:',best_scaled_rf.score(X_scaled_test, y_test))"
   ]
  },
  {
   "cell_type": "code",
   "execution_count": null,
   "metadata": {},
   "outputs": [],
   "source": [
    "# Optimal RF trained with scaled data for ensemble\n",
    "#print(classification_report(y_test, best_scaled_rf.predict(X_scaled_test)))"
   ]
  },
  {
   "cell_type": "code",
   "execution_count": null,
   "metadata": {},
   "outputs": [],
   "source": [
    "# Optimal RF trained with scaled data for ensemble\n",
    "#print(rf2cv.best_params_)\n",
    "#print(rf2cv.best_score_)"
   ]
  },
  {
   "cell_type": "code",
   "execution_count": null,
   "metadata": {},
   "outputs": [],
   "source": []
  },
  {
   "cell_type": "code",
   "execution_count": null,
   "metadata": {},
   "outputs": [],
   "source": []
  },
  {
   "cell_type": "code",
   "execution_count": null,
   "metadata": {},
   "outputs": [],
   "source": []
  },
  {
   "cell_type": "code",
   "execution_count": null,
   "metadata": {},
   "outputs": [],
   "source": []
  },
  {
   "cell_type": "code",
   "execution_count": null,
   "metadata": {},
   "outputs": [],
   "source": [
    "# Ensemble model\n",
    "#from sklearn.ensemble import VotingClassifier\n",
    "#classifiers = [('Logistic Regression', best_scaled_model), ('Random Forest', best_scaled_rf), ('SVM', best_svm)]\n",
    "#vc = VotingClassifier(estimators=classifiers)\n",
    "#vc.fit(X_scaled_train, y_train)"
   ]
  },
  {
   "cell_type": "code",
   "execution_count": null,
   "metadata": {},
   "outputs": [],
   "source": [
    "# Ensemble model\n",
    "#cv_ensemble = cross_val_score(vc, X_scaled_train, y_train, cv=4)"
   ]
  },
  {
   "cell_type": "code",
   "execution_count": null,
   "metadata": {},
   "outputs": [],
   "source": [
    "# Ensemble model\n",
    "#print('CV score of ensemble:',np.mean(cv_ensemble))\n",
    "#print('Score, ensemble, training set:',vc.score(X_scaled_train, y_train))\n",
    "#print('Score, ensemble, testing set:',vc.score(X_scaled_test, y_test))\n"
   ]
  },
  {
   "cell_type": "code",
   "execution_count": null,
   "metadata": {},
   "outputs": [],
   "source": [
    "# Ensemble model\n",
    "#y_pred_vc = vc.predict(X_scaled_test)\n",
    "#print(classification_report(y_test, y_pred_vc))"
   ]
  },
  {
   "cell_type": "code",
   "execution_count": null,
   "metadata": {},
   "outputs": [],
   "source": []
  },
  {
   "cell_type": "code",
   "execution_count": null,
   "metadata": {},
   "outputs": [],
   "source": []
  },
  {
   "cell_type": "code",
   "execution_count": null,
   "metadata": {},
   "outputs": [],
   "source": []
  },
  {
   "cell_type": "code",
   "execution_count": null,
   "metadata": {},
   "outputs": [],
   "source": []
  }
 ],
 "metadata": {
  "kernelspec": {
   "display_name": "Python 3",
   "language": "python",
   "name": "python3"
  },
  "language_info": {
   "codemirror_mode": {
    "name": "ipython",
    "version": 3
   },
   "file_extension": ".py",
   "mimetype": "text/x-python",
   "name": "python",
   "nbconvert_exporter": "python",
   "pygments_lexer": "ipython3",
   "version": "3.6.8"
  }
 },
 "nbformat": 4,
 "nbformat_minor": 2
}
