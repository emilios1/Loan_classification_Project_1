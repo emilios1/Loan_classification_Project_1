{
 "cells": [
  {
   "cell_type": "code",
   "execution_count": 2,
   "metadata": {},
   "outputs": [],
   "source": [
    "import pandas as pd\n",
    "import numpy as np"
   ]
  },
  {
   "cell_type": "code",
   "execution_count": 3,
   "metadata": {},
   "outputs": [],
   "source": [
    "data = pd.ExcelFile('/Users/user/desktop/LoanStats3a.xlsx')"
   ]
  },
  {
   "cell_type": "code",
   "execution_count": 4,
   "metadata": {},
   "outputs": [],
   "source": [
    "df1 = data.parse(0)"
   ]
  },
  {
   "cell_type": "code",
   "execution_count": 5,
   "metadata": {},
   "outputs": [
    {
     "data": {
      "text/html": [
       "<div>\n",
       "<style scoped>\n",
       "    .dataframe tbody tr th:only-of-type {\n",
       "        vertical-align: middle;\n",
       "    }\n",
       "\n",
       "    .dataframe tbody tr th {\n",
       "        vertical-align: top;\n",
       "    }\n",
       "\n",
       "    .dataframe thead th {\n",
       "        text-align: right;\n",
       "    }\n",
       "</style>\n",
       "<table border=\"1\" class=\"dataframe\">\n",
       "  <thead>\n",
       "    <tr style=\"text-align: right;\">\n",
       "      <th></th>\n",
       "      <th>id</th>\n",
       "      <th>member_id</th>\n",
       "      <th>loan_amnt</th>\n",
       "      <th>funded_amnt</th>\n",
       "      <th>funded_amnt_inv</th>\n",
       "      <th>term</th>\n",
       "      <th>int_rate</th>\n",
       "      <th>installment</th>\n",
       "      <th>grade</th>\n",
       "      <th>sub_grade</th>\n",
       "      <th>...</th>\n",
       "      <th>last_credit_pull_d</th>\n",
       "      <th>pub_rec_bankruptcies</th>\n",
       "      <th>debt_settlement_flag</th>\n",
       "      <th>debt_settlement_flag_date</th>\n",
       "      <th>settlement_status</th>\n",
       "      <th>settlement_date</th>\n",
       "      <th>settlement_amount</th>\n",
       "      <th>settlement_percentage</th>\n",
       "      <th>settlement_term</th>\n",
       "      <th>met_credit_policy</th>\n",
       "    </tr>\n",
       "  </thead>\n",
       "  <tbody>\n",
       "    <tr>\n",
       "      <th>0</th>\n",
       "      <td>NaN</td>\n",
       "      <td>NaN</td>\n",
       "      <td>5000</td>\n",
       "      <td>5000</td>\n",
       "      <td>4975.0</td>\n",
       "      <td>36 months</td>\n",
       "      <td>0.1065</td>\n",
       "      <td>162.87</td>\n",
       "      <td>B</td>\n",
       "      <td>B2</td>\n",
       "      <td>...</td>\n",
       "      <td>2018-08-01</td>\n",
       "      <td>0.0</td>\n",
       "      <td>N</td>\n",
       "      <td>NaT</td>\n",
       "      <td>NaN</td>\n",
       "      <td>NaT</td>\n",
       "      <td>NaN</td>\n",
       "      <td>NaN</td>\n",
       "      <td>NaN</td>\n",
       "      <td>Y</td>\n",
       "    </tr>\n",
       "    <tr>\n",
       "      <th>1</th>\n",
       "      <td>NaN</td>\n",
       "      <td>NaN</td>\n",
       "      <td>2500</td>\n",
       "      <td>2500</td>\n",
       "      <td>2500.0</td>\n",
       "      <td>60 months</td>\n",
       "      <td>0.1527</td>\n",
       "      <td>59.83</td>\n",
       "      <td>C</td>\n",
       "      <td>C4</td>\n",
       "      <td>...</td>\n",
       "      <td>2016-10-01</td>\n",
       "      <td>0.0</td>\n",
       "      <td>N</td>\n",
       "      <td>NaT</td>\n",
       "      <td>NaN</td>\n",
       "      <td>NaT</td>\n",
       "      <td>NaN</td>\n",
       "      <td>NaN</td>\n",
       "      <td>NaN</td>\n",
       "      <td>Y</td>\n",
       "    </tr>\n",
       "    <tr>\n",
       "      <th>2</th>\n",
       "      <td>NaN</td>\n",
       "      <td>NaN</td>\n",
       "      <td>2400</td>\n",
       "      <td>2400</td>\n",
       "      <td>2400.0</td>\n",
       "      <td>36 months</td>\n",
       "      <td>0.1596</td>\n",
       "      <td>84.33</td>\n",
       "      <td>C</td>\n",
       "      <td>C5</td>\n",
       "      <td>...</td>\n",
       "      <td>2017-06-01</td>\n",
       "      <td>0.0</td>\n",
       "      <td>N</td>\n",
       "      <td>NaT</td>\n",
       "      <td>NaN</td>\n",
       "      <td>NaT</td>\n",
       "      <td>NaN</td>\n",
       "      <td>NaN</td>\n",
       "      <td>NaN</td>\n",
       "      <td>Y</td>\n",
       "    </tr>\n",
       "    <tr>\n",
       "      <th>3</th>\n",
       "      <td>NaN</td>\n",
       "      <td>NaN</td>\n",
       "      <td>10000</td>\n",
       "      <td>10000</td>\n",
       "      <td>10000.0</td>\n",
       "      <td>36 months</td>\n",
       "      <td>0.1349</td>\n",
       "      <td>339.31</td>\n",
       "      <td>C</td>\n",
       "      <td>C1</td>\n",
       "      <td>...</td>\n",
       "      <td>2016-04-01</td>\n",
       "      <td>0.0</td>\n",
       "      <td>N</td>\n",
       "      <td>NaT</td>\n",
       "      <td>NaN</td>\n",
       "      <td>NaT</td>\n",
       "      <td>NaN</td>\n",
       "      <td>NaN</td>\n",
       "      <td>NaN</td>\n",
       "      <td>Y</td>\n",
       "    </tr>\n",
       "    <tr>\n",
       "      <th>4</th>\n",
       "      <td>NaN</td>\n",
       "      <td>NaN</td>\n",
       "      <td>3000</td>\n",
       "      <td>3000</td>\n",
       "      <td>3000.0</td>\n",
       "      <td>60 months</td>\n",
       "      <td>0.1269</td>\n",
       "      <td>67.79</td>\n",
       "      <td>B</td>\n",
       "      <td>B5</td>\n",
       "      <td>...</td>\n",
       "      <td>2018-04-01</td>\n",
       "      <td>0.0</td>\n",
       "      <td>N</td>\n",
       "      <td>NaT</td>\n",
       "      <td>NaN</td>\n",
       "      <td>NaT</td>\n",
       "      <td>NaN</td>\n",
       "      <td>NaN</td>\n",
       "      <td>NaN</td>\n",
       "      <td>Y</td>\n",
       "    </tr>\n",
       "  </tbody>\n",
       "</table>\n",
       "<p>5 rows × 54 columns</p>\n",
       "</div>"
      ],
      "text/plain": [
       "   id  member_id  loan_amnt  funded_amnt  funded_amnt_inv        term  \\\n",
       "0 NaN        NaN       5000         5000           4975.0   36 months   \n",
       "1 NaN        NaN       2500         2500           2500.0   60 months   \n",
       "2 NaN        NaN       2400         2400           2400.0   36 months   \n",
       "3 NaN        NaN      10000        10000          10000.0   36 months   \n",
       "4 NaN        NaN       3000         3000           3000.0   60 months   \n",
       "\n",
       "   int_rate  installment grade sub_grade        ...        last_credit_pull_d  \\\n",
       "0    0.1065       162.87     B        B2        ...                2018-08-01   \n",
       "1    0.1527        59.83     C        C4        ...                2016-10-01   \n",
       "2    0.1596        84.33     C        C5        ...                2017-06-01   \n",
       "3    0.1349       339.31     C        C1        ...                2016-04-01   \n",
       "4    0.1269        67.79     B        B5        ...                2018-04-01   \n",
       "\n",
       "  pub_rec_bankruptcies debt_settlement_flag  debt_settlement_flag_date  \\\n",
       "0                  0.0                    N                        NaT   \n",
       "1                  0.0                    N                        NaT   \n",
       "2                  0.0                    N                        NaT   \n",
       "3                  0.0                    N                        NaT   \n",
       "4                  0.0                    N                        NaT   \n",
       "\n",
       "  settlement_status settlement_date settlement_amount settlement_percentage  \\\n",
       "0               NaN             NaT               NaN                   NaN   \n",
       "1               NaN             NaT               NaN                   NaN   \n",
       "2               NaN             NaT               NaN                   NaN   \n",
       "3               NaN             NaT               NaN                   NaN   \n",
       "4               NaN             NaT               NaN                   NaN   \n",
       "\n",
       "  settlement_term met_credit_policy  \n",
       "0             NaN                 Y  \n",
       "1             NaN                 Y  \n",
       "2             NaN                 Y  \n",
       "3             NaN                 Y  \n",
       "4             NaN                 Y  \n",
       "\n",
       "[5 rows x 54 columns]"
      ]
     },
     "execution_count": 5,
     "metadata": {},
     "output_type": "execute_result"
    }
   ],
   "source": [
    "df1.head()"
   ]
  },
  {
   "cell_type": "code",
   "execution_count": 6,
   "metadata": {},
   "outputs": [],
   "source": [
    "del df1['id']"
   ]
  },
  {
   "cell_type": "code",
   "execution_count": 7,
   "metadata": {},
   "outputs": [
    {
     "data": {
      "text/html": [
       "<div>\n",
       "<style scoped>\n",
       "    .dataframe tbody tr th:only-of-type {\n",
       "        vertical-align: middle;\n",
       "    }\n",
       "\n",
       "    .dataframe tbody tr th {\n",
       "        vertical-align: top;\n",
       "    }\n",
       "\n",
       "    .dataframe thead th {\n",
       "        text-align: right;\n",
       "    }\n",
       "</style>\n",
       "<table border=\"1\" class=\"dataframe\">\n",
       "  <thead>\n",
       "    <tr style=\"text-align: right;\">\n",
       "      <th></th>\n",
       "      <th>member_id</th>\n",
       "      <th>loan_amnt</th>\n",
       "      <th>funded_amnt</th>\n",
       "      <th>funded_amnt_inv</th>\n",
       "      <th>term</th>\n",
       "      <th>int_rate</th>\n",
       "      <th>installment</th>\n",
       "      <th>grade</th>\n",
       "      <th>sub_grade</th>\n",
       "      <th>emp_title</th>\n",
       "      <th>...</th>\n",
       "      <th>last_credit_pull_d</th>\n",
       "      <th>pub_rec_bankruptcies</th>\n",
       "      <th>debt_settlement_flag</th>\n",
       "      <th>debt_settlement_flag_date</th>\n",
       "      <th>settlement_status</th>\n",
       "      <th>settlement_date</th>\n",
       "      <th>settlement_amount</th>\n",
       "      <th>settlement_percentage</th>\n",
       "      <th>settlement_term</th>\n",
       "      <th>met_credit_policy</th>\n",
       "    </tr>\n",
       "  </thead>\n",
       "  <tbody>\n",
       "    <tr>\n",
       "      <th>42530</th>\n",
       "      <td>NaN</td>\n",
       "      <td>3500</td>\n",
       "      <td>3500</td>\n",
       "      <td>225.0</td>\n",
       "      <td>36 months</td>\n",
       "      <td>0.1028</td>\n",
       "      <td>113.39</td>\n",
       "      <td>C</td>\n",
       "      <td>C1</td>\n",
       "      <td>NaN</td>\n",
       "      <td>...</td>\n",
       "      <td>2013-02-01</td>\n",
       "      <td>NaN</td>\n",
       "      <td>N</td>\n",
       "      <td>NaT</td>\n",
       "      <td>NaN</td>\n",
       "      <td>NaT</td>\n",
       "      <td>NaN</td>\n",
       "      <td>NaN</td>\n",
       "      <td>NaN</td>\n",
       "      <td>N</td>\n",
       "    </tr>\n",
       "    <tr>\n",
       "      <th>42531</th>\n",
       "      <td>NaN</td>\n",
       "      <td>1000</td>\n",
       "      <td>1000</td>\n",
       "      <td>0.0</td>\n",
       "      <td>36 months</td>\n",
       "      <td>0.0964</td>\n",
       "      <td>32.11</td>\n",
       "      <td>B</td>\n",
       "      <td>B4</td>\n",
       "      <td>Halping hands company inc.</td>\n",
       "      <td>...</td>\n",
       "      <td>2014-09-01</td>\n",
       "      <td>NaN</td>\n",
       "      <td>N</td>\n",
       "      <td>NaT</td>\n",
       "      <td>NaN</td>\n",
       "      <td>NaT</td>\n",
       "      <td>NaN</td>\n",
       "      <td>NaN</td>\n",
       "      <td>NaN</td>\n",
       "      <td>N</td>\n",
       "    </tr>\n",
       "    <tr>\n",
       "      <th>42532</th>\n",
       "      <td>NaN</td>\n",
       "      <td>2525</td>\n",
       "      <td>2525</td>\n",
       "      <td>225.0</td>\n",
       "      <td>36 months</td>\n",
       "      <td>0.0933</td>\n",
       "      <td>80.69</td>\n",
       "      <td>B</td>\n",
       "      <td>B3</td>\n",
       "      <td>NaN</td>\n",
       "      <td>...</td>\n",
       "      <td>2007-05-01</td>\n",
       "      <td>NaN</td>\n",
       "      <td>N</td>\n",
       "      <td>NaT</td>\n",
       "      <td>NaN</td>\n",
       "      <td>NaT</td>\n",
       "      <td>NaN</td>\n",
       "      <td>NaN</td>\n",
       "      <td>NaN</td>\n",
       "      <td>N</td>\n",
       "    </tr>\n",
       "    <tr>\n",
       "      <th>42533</th>\n",
       "      <td>NaN</td>\n",
       "      <td>6500</td>\n",
       "      <td>6500</td>\n",
       "      <td>0.0</td>\n",
       "      <td>36 months</td>\n",
       "      <td>0.0838</td>\n",
       "      <td>204.84</td>\n",
       "      <td>A</td>\n",
       "      <td>A5</td>\n",
       "      <td>NaN</td>\n",
       "      <td>...</td>\n",
       "      <td>2007-08-01</td>\n",
       "      <td>NaN</td>\n",
       "      <td>N</td>\n",
       "      <td>NaT</td>\n",
       "      <td>NaN</td>\n",
       "      <td>NaT</td>\n",
       "      <td>NaN</td>\n",
       "      <td>NaN</td>\n",
       "      <td>NaN</td>\n",
       "      <td>N</td>\n",
       "    </tr>\n",
       "    <tr>\n",
       "      <th>42534</th>\n",
       "      <td>NaN</td>\n",
       "      <td>5000</td>\n",
       "      <td>5000</td>\n",
       "      <td>0.0</td>\n",
       "      <td>36 months</td>\n",
       "      <td>0.0775</td>\n",
       "      <td>156.11</td>\n",
       "      <td>A</td>\n",
       "      <td>A3</td>\n",
       "      <td>Homemaker</td>\n",
       "      <td>...</td>\n",
       "      <td>2015-02-01</td>\n",
       "      <td>NaN</td>\n",
       "      <td>N</td>\n",
       "      <td>NaT</td>\n",
       "      <td>NaN</td>\n",
       "      <td>NaT</td>\n",
       "      <td>NaN</td>\n",
       "      <td>NaN</td>\n",
       "      <td>NaN</td>\n",
       "      <td>N</td>\n",
       "    </tr>\n",
       "  </tbody>\n",
       "</table>\n",
       "<p>5 rows × 53 columns</p>\n",
       "</div>"
      ],
      "text/plain": [
       "       member_id  loan_amnt  funded_amnt  funded_amnt_inv        term  \\\n",
       "42530        NaN       3500         3500            225.0   36 months   \n",
       "42531        NaN       1000         1000              0.0   36 months   \n",
       "42532        NaN       2525         2525            225.0   36 months   \n",
       "42533        NaN       6500         6500              0.0   36 months   \n",
       "42534        NaN       5000         5000              0.0   36 months   \n",
       "\n",
       "       int_rate  installment grade sub_grade                   emp_title  \\\n",
       "42530    0.1028       113.39     C        C1                         NaN   \n",
       "42531    0.0964        32.11     B        B4  Halping hands company inc.   \n",
       "42532    0.0933        80.69     B        B3                         NaN   \n",
       "42533    0.0838       204.84     A        A5                         NaN   \n",
       "42534    0.0775       156.11     A        A3                   Homemaker   \n",
       "\n",
       "             ...        last_credit_pull_d pub_rec_bankruptcies  \\\n",
       "42530        ...                2013-02-01                  NaN   \n",
       "42531        ...                2014-09-01                  NaN   \n",
       "42532        ...                2007-05-01                  NaN   \n",
       "42533        ...                2007-08-01                  NaN   \n",
       "42534        ...                2015-02-01                  NaN   \n",
       "\n",
       "       debt_settlement_flag debt_settlement_flag_date settlement_status  \\\n",
       "42530                     N                       NaT               NaN   \n",
       "42531                     N                       NaT               NaN   \n",
       "42532                     N                       NaT               NaN   \n",
       "42533                     N                       NaT               NaN   \n",
       "42534                     N                       NaT               NaN   \n",
       "\n",
       "      settlement_date settlement_amount settlement_percentage settlement_term  \\\n",
       "42530             NaT               NaN                   NaN             NaN   \n",
       "42531             NaT               NaN                   NaN             NaN   \n",
       "42532             NaT               NaN                   NaN             NaN   \n",
       "42533             NaT               NaN                   NaN             NaN   \n",
       "42534             NaT               NaN                   NaN             NaN   \n",
       "\n",
       "      met_credit_policy  \n",
       "42530                 N  \n",
       "42531                 N  \n",
       "42532                 N  \n",
       "42533                 N  \n",
       "42534                 N  \n",
       "\n",
       "[5 rows x 53 columns]"
      ]
     },
     "execution_count": 7,
     "metadata": {},
     "output_type": "execute_result"
    }
   ],
   "source": [
    "df1.tail()"
   ]
  },
  {
   "cell_type": "code",
   "execution_count": 8,
   "metadata": {},
   "outputs": [
    {
     "data": {
      "text/plain": [
       "(42535, 53)"
      ]
     },
     "execution_count": 8,
     "metadata": {},
     "output_type": "execute_result"
    }
   ],
   "source": [
    "df1.shape"
   ]
  },
  {
   "cell_type": "code",
   "execution_count": 9,
   "metadata": {},
   "outputs": [],
   "source": [
    "member_id_entries = list(range(1,42536))\n",
    "df1['member_id'] = member_id_entries\n",
    "df1 = df1.set_index('member_id')"
   ]
  },
  {
   "cell_type": "code",
   "execution_count": 10,
   "metadata": {},
   "outputs": [
    {
     "data": {
      "text/html": [
       "<div>\n",
       "<style scoped>\n",
       "    .dataframe tbody tr th:only-of-type {\n",
       "        vertical-align: middle;\n",
       "    }\n",
       "\n",
       "    .dataframe tbody tr th {\n",
       "        vertical-align: top;\n",
       "    }\n",
       "\n",
       "    .dataframe thead th {\n",
       "        text-align: right;\n",
       "    }\n",
       "</style>\n",
       "<table border=\"1\" class=\"dataframe\">\n",
       "  <thead>\n",
       "    <tr style=\"text-align: right;\">\n",
       "      <th></th>\n",
       "      <th>loan_amnt</th>\n",
       "      <th>funded_amnt</th>\n",
       "      <th>funded_amnt_inv</th>\n",
       "      <th>term</th>\n",
       "      <th>int_rate</th>\n",
       "      <th>installment</th>\n",
       "      <th>grade</th>\n",
       "      <th>sub_grade</th>\n",
       "      <th>emp_title</th>\n",
       "      <th>emp_length</th>\n",
       "      <th>...</th>\n",
       "      <th>last_credit_pull_d</th>\n",
       "      <th>pub_rec_bankruptcies</th>\n",
       "      <th>debt_settlement_flag</th>\n",
       "      <th>debt_settlement_flag_date</th>\n",
       "      <th>settlement_status</th>\n",
       "      <th>settlement_date</th>\n",
       "      <th>settlement_amount</th>\n",
       "      <th>settlement_percentage</th>\n",
       "      <th>settlement_term</th>\n",
       "      <th>met_credit_policy</th>\n",
       "    </tr>\n",
       "    <tr>\n",
       "      <th>member_id</th>\n",
       "      <th></th>\n",
       "      <th></th>\n",
       "      <th></th>\n",
       "      <th></th>\n",
       "      <th></th>\n",
       "      <th></th>\n",
       "      <th></th>\n",
       "      <th></th>\n",
       "      <th></th>\n",
       "      <th></th>\n",
       "      <th></th>\n",
       "      <th></th>\n",
       "      <th></th>\n",
       "      <th></th>\n",
       "      <th></th>\n",
       "      <th></th>\n",
       "      <th></th>\n",
       "      <th></th>\n",
       "      <th></th>\n",
       "      <th></th>\n",
       "      <th></th>\n",
       "    </tr>\n",
       "  </thead>\n",
       "  <tbody>\n",
       "    <tr>\n",
       "      <th>1</th>\n",
       "      <td>5000</td>\n",
       "      <td>5000</td>\n",
       "      <td>4975.0</td>\n",
       "      <td>36 months</td>\n",
       "      <td>0.1065</td>\n",
       "      <td>162.87</td>\n",
       "      <td>B</td>\n",
       "      <td>B2</td>\n",
       "      <td>NaN</td>\n",
       "      <td>10+ years</td>\n",
       "      <td>...</td>\n",
       "      <td>2018-08-01</td>\n",
       "      <td>0.0</td>\n",
       "      <td>N</td>\n",
       "      <td>NaT</td>\n",
       "      <td>NaN</td>\n",
       "      <td>NaT</td>\n",
       "      <td>NaN</td>\n",
       "      <td>NaN</td>\n",
       "      <td>NaN</td>\n",
       "      <td>Y</td>\n",
       "    </tr>\n",
       "    <tr>\n",
       "      <th>2</th>\n",
       "      <td>2500</td>\n",
       "      <td>2500</td>\n",
       "      <td>2500.0</td>\n",
       "      <td>60 months</td>\n",
       "      <td>0.1527</td>\n",
       "      <td>59.83</td>\n",
       "      <td>C</td>\n",
       "      <td>C4</td>\n",
       "      <td>Ryder</td>\n",
       "      <td>&lt; 1 year</td>\n",
       "      <td>...</td>\n",
       "      <td>2016-10-01</td>\n",
       "      <td>0.0</td>\n",
       "      <td>N</td>\n",
       "      <td>NaT</td>\n",
       "      <td>NaN</td>\n",
       "      <td>NaT</td>\n",
       "      <td>NaN</td>\n",
       "      <td>NaN</td>\n",
       "      <td>NaN</td>\n",
       "      <td>Y</td>\n",
       "    </tr>\n",
       "    <tr>\n",
       "      <th>3</th>\n",
       "      <td>2400</td>\n",
       "      <td>2400</td>\n",
       "      <td>2400.0</td>\n",
       "      <td>36 months</td>\n",
       "      <td>0.1596</td>\n",
       "      <td>84.33</td>\n",
       "      <td>C</td>\n",
       "      <td>C5</td>\n",
       "      <td>NaN</td>\n",
       "      <td>10+ years</td>\n",
       "      <td>...</td>\n",
       "      <td>2017-06-01</td>\n",
       "      <td>0.0</td>\n",
       "      <td>N</td>\n",
       "      <td>NaT</td>\n",
       "      <td>NaN</td>\n",
       "      <td>NaT</td>\n",
       "      <td>NaN</td>\n",
       "      <td>NaN</td>\n",
       "      <td>NaN</td>\n",
       "      <td>Y</td>\n",
       "    </tr>\n",
       "    <tr>\n",
       "      <th>4</th>\n",
       "      <td>10000</td>\n",
       "      <td>10000</td>\n",
       "      <td>10000.0</td>\n",
       "      <td>36 months</td>\n",
       "      <td>0.1349</td>\n",
       "      <td>339.31</td>\n",
       "      <td>C</td>\n",
       "      <td>C1</td>\n",
       "      <td>AIR RESOURCES BOARD</td>\n",
       "      <td>10+ years</td>\n",
       "      <td>...</td>\n",
       "      <td>2016-04-01</td>\n",
       "      <td>0.0</td>\n",
       "      <td>N</td>\n",
       "      <td>NaT</td>\n",
       "      <td>NaN</td>\n",
       "      <td>NaT</td>\n",
       "      <td>NaN</td>\n",
       "      <td>NaN</td>\n",
       "      <td>NaN</td>\n",
       "      <td>Y</td>\n",
       "    </tr>\n",
       "    <tr>\n",
       "      <th>5</th>\n",
       "      <td>3000</td>\n",
       "      <td>3000</td>\n",
       "      <td>3000.0</td>\n",
       "      <td>60 months</td>\n",
       "      <td>0.1269</td>\n",
       "      <td>67.79</td>\n",
       "      <td>B</td>\n",
       "      <td>B5</td>\n",
       "      <td>University Medical Group</td>\n",
       "      <td>1 year</td>\n",
       "      <td>...</td>\n",
       "      <td>2018-04-01</td>\n",
       "      <td>0.0</td>\n",
       "      <td>N</td>\n",
       "      <td>NaT</td>\n",
       "      <td>NaN</td>\n",
       "      <td>NaT</td>\n",
       "      <td>NaN</td>\n",
       "      <td>NaN</td>\n",
       "      <td>NaN</td>\n",
       "      <td>Y</td>\n",
       "    </tr>\n",
       "  </tbody>\n",
       "</table>\n",
       "<p>5 rows × 52 columns</p>\n",
       "</div>"
      ],
      "text/plain": [
       "           loan_amnt  funded_amnt  funded_amnt_inv        term  int_rate  \\\n",
       "member_id                                                                  \n",
       "1               5000         5000           4975.0   36 months    0.1065   \n",
       "2               2500         2500           2500.0   60 months    0.1527   \n",
       "3               2400         2400           2400.0   36 months    0.1596   \n",
       "4              10000        10000          10000.0   36 months    0.1349   \n",
       "5               3000         3000           3000.0   60 months    0.1269   \n",
       "\n",
       "           installment grade sub_grade                 emp_title emp_length  \\\n",
       "member_id                                                                     \n",
       "1               162.87     B        B2                       NaN  10+ years   \n",
       "2                59.83     C        C4                     Ryder   < 1 year   \n",
       "3                84.33     C        C5                       NaN  10+ years   \n",
       "4               339.31     C        C1       AIR RESOURCES BOARD  10+ years   \n",
       "5                67.79     B        B5  University Medical Group     1 year   \n",
       "\n",
       "                 ...        last_credit_pull_d  pub_rec_bankruptcies  \\\n",
       "member_id        ...                                                   \n",
       "1                ...                2018-08-01                   0.0   \n",
       "2                ...                2016-10-01                   0.0   \n",
       "3                ...                2017-06-01                   0.0   \n",
       "4                ...                2016-04-01                   0.0   \n",
       "5                ...                2018-04-01                   0.0   \n",
       "\n",
       "          debt_settlement_flag debt_settlement_flag_date settlement_status  \\\n",
       "member_id                                                                    \n",
       "1                            N                       NaT               NaN   \n",
       "2                            N                       NaT               NaN   \n",
       "3                            N                       NaT               NaN   \n",
       "4                            N                       NaT               NaN   \n",
       "5                            N                       NaT               NaN   \n",
       "\n",
       "          settlement_date settlement_amount settlement_percentage  \\\n",
       "member_id                                                           \n",
       "1                     NaT               NaN                   NaN   \n",
       "2                     NaT               NaN                   NaN   \n",
       "3                     NaT               NaN                   NaN   \n",
       "4                     NaT               NaN                   NaN   \n",
       "5                     NaT               NaN                   NaN   \n",
       "\n",
       "          settlement_term met_credit_policy  \n",
       "member_id                                    \n",
       "1                     NaN                 Y  \n",
       "2                     NaN                 Y  \n",
       "3                     NaN                 Y  \n",
       "4                     NaN                 Y  \n",
       "5                     NaN                 Y  \n",
       "\n",
       "[5 rows x 52 columns]"
      ]
     },
     "execution_count": 10,
     "metadata": {},
     "output_type": "execute_result"
    }
   ],
   "source": [
    "df1.head()"
   ]
  },
  {
   "cell_type": "code",
   "execution_count": 11,
   "metadata": {},
   "outputs": [
    {
     "data": {
      "text/plain": [
       "array(['Fully Paid', 'Charged Off',\n",
       "       'Does not meet the credit policy. Status:Fully Paid',\n",
       "       'Does not meet the credit policy. Status:Charged Off'],\n",
       "      dtype=object)"
      ]
     },
     "execution_count": 11,
     "metadata": {},
     "output_type": "execute_result"
    }
   ],
   "source": [
    "df1.loan_status.unique()"
   ]
  },
  {
   "cell_type": "code",
   "execution_count": 12,
   "metadata": {},
   "outputs": [
    {
     "data": {
      "text/plain": [
       "array([0, 1])"
      ]
     },
     "execution_count": 12,
     "metadata": {},
     "output_type": "execute_result"
    }
   ],
   "source": [
    "df1.loan_status = df1.loan_status.replace(['Fully Paid', 'Does not meet the credit policy. Status:Fully Paid'], 0)\n",
    "df1.loan_status = df1.loan_status.replace(['Charged Off', 'Does not meet the credit policy. Status:Charged Off'], 1)\n",
    "df1.loan_status.unique()"
   ]
  },
  {
   "cell_type": "code",
   "execution_count": 13,
   "metadata": {},
   "outputs": [],
   "source": [
    "df1.grade = df1.grade.astype('category')"
   ]
  },
  {
   "cell_type": "code",
   "execution_count": 14,
   "metadata": {},
   "outputs": [
    {
     "name": "stdout",
     "output_type": "stream",
     "text": [
      "<class 'pandas.core.frame.DataFrame'>\n",
      "Int64Index: 42535 entries, 1 to 42535\n",
      "Data columns (total 23 columns):\n",
      "emp_title                    39909 non-null object\n",
      "emp_length                   41423 non-null object\n",
      "annual_inc                   42531 non-null float64\n",
      "desc                         29242 non-null object\n",
      "title                        42521 non-null object\n",
      "delinq_2yrs                  42506 non-null float64\n",
      "earliest_cr_line             42506 non-null datetime64[ns]\n",
      "inq_last_6mths               42506 non-null float64\n",
      "mths_since_last_delinq       15609 non-null float64\n",
      "mths_since_last_record       3651 non-null float64\n",
      "open_acc                     42506 non-null float64\n",
      "pub_rec                      42506 non-null float64\n",
      "revol_util                   42445 non-null float64\n",
      "total_acc                    42506 non-null float64\n",
      "last_pymnt_d                 42452 non-null datetime64[ns]\n",
      "last_credit_pull_d           42531 non-null datetime64[ns]\n",
      "pub_rec_bankruptcies         41170 non-null float64\n",
      "debt_settlement_flag_date    160 non-null datetime64[ns]\n",
      "settlement_status            160 non-null object\n",
      "settlement_date              160 non-null datetime64[ns]\n",
      "settlement_amount            160 non-null float64\n",
      "settlement_percentage        160 non-null float64\n",
      "settlement_term              160 non-null float64\n",
      "dtypes: datetime64[ns](5), float64(13), object(5)\n",
      "memory usage: 7.8+ MB\n"
     ]
    }
   ],
   "source": [
    "colswithnulls = df1.columns[df1.isna().any()].tolist()\n",
    "df1[colswithnulls].info()"
   ]
  },
  {
   "cell_type": "code",
   "execution_count": 15,
   "metadata": {},
   "outputs": [],
   "source": [
    "## The data in these columns are random\n",
    "del df1['title']\n",
    "del df1['emp_title']\n",
    "del df1['desc']"
   ]
  },
  {
   "cell_type": "code",
   "execution_count": 16,
   "metadata": {},
   "outputs": [
    {
     "name": "stdout",
     "output_type": "stream",
     "text": [
      "<class 'pandas.core.frame.DataFrame'>\n",
      "Int64Index: 42535 entries, 1 to 42535\n",
      "Data columns (total 20 columns):\n",
      "emp_length                   41423 non-null object\n",
      "annual_inc                   42531 non-null float64\n",
      "delinq_2yrs                  42506 non-null float64\n",
      "earliest_cr_line             42506 non-null datetime64[ns]\n",
      "inq_last_6mths               42506 non-null float64\n",
      "mths_since_last_delinq       15609 non-null float64\n",
      "mths_since_last_record       3651 non-null float64\n",
      "open_acc                     42506 non-null float64\n",
      "pub_rec                      42506 non-null float64\n",
      "revol_util                   42445 non-null float64\n",
      "total_acc                    42506 non-null float64\n",
      "last_pymnt_d                 42452 non-null datetime64[ns]\n",
      "last_credit_pull_d           42531 non-null datetime64[ns]\n",
      "pub_rec_bankruptcies         41170 non-null float64\n",
      "debt_settlement_flag_date    160 non-null datetime64[ns]\n",
      "settlement_status            160 non-null object\n",
      "settlement_date              160 non-null datetime64[ns]\n",
      "settlement_amount            160 non-null float64\n",
      "settlement_percentage        160 non-null float64\n",
      "settlement_term              160 non-null float64\n",
      "dtypes: datetime64[ns](5), float64(13), object(2)\n",
      "memory usage: 6.8+ MB\n"
     ]
    }
   ],
   "source": [
    "colswithnulls = df1.columns[df1.isna().any()].tolist()\n",
    "df1[colswithnulls].info()"
   ]
  },
  {
   "cell_type": "code",
   "execution_count": 17,
   "metadata": {},
   "outputs": [],
   "source": [
    "###dropping the 2 or 3 highest income rows/ observartion. OUTLIERS.\n",
    "millionairinc = df1.loc[df1['annual_inc']> 1000000][['loan_status','annual_inc','grade']]"
   ]
  },
  {
   "cell_type": "code",
   "execution_count": 18,
   "metadata": {},
   "outputs": [],
   "source": [
    "import matplotlib.pyplot as plt\n",
    "import seaborn as sns\n",
    "sns.set()"
   ]
  },
  {
   "cell_type": "code",
   "execution_count": 19,
   "metadata": {},
   "outputs": [
    {
     "data": {
      "text/plain": [
       "Text(0.5,0,'Annual Income')"
      ]
     },
     "execution_count": 19,
     "metadata": {},
     "output_type": "execute_result"
    },
    {
     "data": {
      "image/png": "[encoded data removed]",
      "text/plain": [
       "<Figure size 432x288 with 1 Axes>"
      ]
     },
     "metadata": {
      "needs_background": "light"
     },
     "output_type": "display_data"
    }
   ],
   "source": [
    "millionairsplot = millionairinc.plot(kind='hist', y= 'annual_inc', bins= 20)\n",
    "millionairsplot.set_xlabel('Annual Income')"
   ]
  },
  {
   "cell_type": "code",
   "execution_count": 20,
   "metadata": {},
   "outputs": [
    {
     "data": {
      "text/plain": [
       "Text(0,0.5,'Annual Income')"
      ]
     },
     "execution_count": 20,
     "metadata": {},
     "output_type": "execute_result"
    },
    {
     "data": {
      "image/png": "[encoded data removed]",
      "text/plain": [
       "<Figure size 432x288 with 1 Axes>"
      ]
     },
     "metadata": {
      "needs_background": "light"
     },
     "output_type": "display_data"
    }
   ],
   "source": [
    "incomedistbetweenmillionairs = millionairinc.plot(kind = 'box', y= 'annual_inc')\n",
    "incomedistbetweenmillionairs.set_ylabel('Annual Income')"
   ]
  },
  {
   "cell_type": "code",
   "execution_count": 21,
   "metadata": {},
   "outputs": [
    {
     "data": {
      "text/plain": [
       "member_id\n",
       "29709    3900000.0\n",
       "30177    6000000.0\n",
       "Name: annual_inc, dtype: float64"
      ]
     },
     "execution_count": 21,
     "metadata": {},
     "output_type": "execute_result"
    }
   ],
   "source": [
    "### Removing the observations of the two highest annual_inc \n",
    "df1.loc[df1['annual_inc']>3800000].annual_inc"
   ]
  },
  {
   "cell_type": "code",
   "execution_count": 22,
   "metadata": {},
   "outputs": [],
   "source": [
    "df1 = df1.drop([29709, 30177])"
   ]
  },
  {
   "cell_type": "code",
   "execution_count": 23,
   "metadata": {},
   "outputs": [
    {
     "data": {
      "text/html": [
       "<div>\n",
       "<style scoped>\n",
       "    .dataframe tbody tr th:only-of-type {\n",
       "        vertical-align: middle;\n",
       "    }\n",
       "\n",
       "    .dataframe tbody tr th {\n",
       "        vertical-align: top;\n",
       "    }\n",
       "\n",
       "    .dataframe thead th {\n",
       "        text-align: right;\n",
       "    }\n",
       "</style>\n",
       "<table border=\"1\" class=\"dataframe\">\n",
       "  <thead>\n",
       "    <tr style=\"text-align: right;\">\n",
       "      <th></th>\n",
       "      <th>loan_amnt</th>\n",
       "      <th>funded_amnt</th>\n",
       "      <th>funded_amnt_inv</th>\n",
       "      <th>term</th>\n",
       "      <th>int_rate</th>\n",
       "      <th>installment</th>\n",
       "      <th>grade</th>\n",
       "      <th>sub_grade</th>\n",
       "      <th>emp_length</th>\n",
       "      <th>home_ownership</th>\n",
       "      <th>...</th>\n",
       "      <th>last_credit_pull_d</th>\n",
       "      <th>pub_rec_bankruptcies</th>\n",
       "      <th>debt_settlement_flag</th>\n",
       "      <th>debt_settlement_flag_date</th>\n",
       "      <th>settlement_status</th>\n",
       "      <th>settlement_date</th>\n",
       "      <th>settlement_amount</th>\n",
       "      <th>settlement_percentage</th>\n",
       "      <th>settlement_term</th>\n",
       "      <th>met_credit_policy</th>\n",
       "    </tr>\n",
       "    <tr>\n",
       "      <th>member_id</th>\n",
       "      <th></th>\n",
       "      <th></th>\n",
       "      <th></th>\n",
       "      <th></th>\n",
       "      <th></th>\n",
       "      <th></th>\n",
       "      <th></th>\n",
       "      <th></th>\n",
       "      <th></th>\n",
       "      <th></th>\n",
       "      <th></th>\n",
       "      <th></th>\n",
       "      <th></th>\n",
       "      <th></th>\n",
       "      <th></th>\n",
       "      <th></th>\n",
       "      <th></th>\n",
       "      <th></th>\n",
       "      <th></th>\n",
       "      <th></th>\n",
       "      <th></th>\n",
       "    </tr>\n",
       "  </thead>\n",
       "  <tbody>\n",
       "    <tr>\n",
       "      <th>1</th>\n",
       "      <td>5000</td>\n",
       "      <td>5000</td>\n",
       "      <td>4975.0</td>\n",
       "      <td>36 months</td>\n",
       "      <td>0.1065</td>\n",
       "      <td>162.87</td>\n",
       "      <td>B</td>\n",
       "      <td>B2</td>\n",
       "      <td>10+ years</td>\n",
       "      <td>RENT</td>\n",
       "      <td>...</td>\n",
       "      <td>2018-08-01</td>\n",
       "      <td>0.0</td>\n",
       "      <td>N</td>\n",
       "      <td>NaT</td>\n",
       "      <td>NaN</td>\n",
       "      <td>NaT</td>\n",
       "      <td>NaN</td>\n",
       "      <td>NaN</td>\n",
       "      <td>NaN</td>\n",
       "      <td>Y</td>\n",
       "    </tr>\n",
       "    <tr>\n",
       "      <th>2</th>\n",
       "      <td>2500</td>\n",
       "      <td>2500</td>\n",
       "      <td>2500.0</td>\n",
       "      <td>60 months</td>\n",
       "      <td>0.1527</td>\n",
       "      <td>59.83</td>\n",
       "      <td>C</td>\n",
       "      <td>C4</td>\n",
       "      <td>&lt; 1 year</td>\n",
       "      <td>RENT</td>\n",
       "      <td>...</td>\n",
       "      <td>2016-10-01</td>\n",
       "      <td>0.0</td>\n",
       "      <td>N</td>\n",
       "      <td>NaT</td>\n",
       "      <td>NaN</td>\n",
       "      <td>NaT</td>\n",
       "      <td>NaN</td>\n",
       "      <td>NaN</td>\n",
       "      <td>NaN</td>\n",
       "      <td>Y</td>\n",
       "    </tr>\n",
       "    <tr>\n",
       "      <th>3</th>\n",
       "      <td>2400</td>\n",
       "      <td>2400</td>\n",
       "      <td>2400.0</td>\n",
       "      <td>36 months</td>\n",
       "      <td>0.1596</td>\n",
       "      <td>84.33</td>\n",
       "      <td>C</td>\n",
       "      <td>C5</td>\n",
       "      <td>10+ years</td>\n",
       "      <td>RENT</td>\n",
       "      <td>...</td>\n",
       "      <td>2017-06-01</td>\n",
       "      <td>0.0</td>\n",
       "      <td>N</td>\n",
       "      <td>NaT</td>\n",
       "      <td>NaN</td>\n",
       "      <td>NaT</td>\n",
       "      <td>NaN</td>\n",
       "      <td>NaN</td>\n",
       "      <td>NaN</td>\n",
       "      <td>Y</td>\n",
       "    </tr>\n",
       "    <tr>\n",
       "      <th>4</th>\n",
       "      <td>10000</td>\n",
       "      <td>10000</td>\n",
       "      <td>10000.0</td>\n",
       "      <td>36 months</td>\n",
       "      <td>0.1349</td>\n",
       "      <td>339.31</td>\n",
       "      <td>C</td>\n",
       "      <td>C1</td>\n",
       "      <td>10+ years</td>\n",
       "      <td>RENT</td>\n",
       "      <td>...</td>\n",
       "      <td>2016-04-01</td>\n",
       "      <td>0.0</td>\n",
       "      <td>N</td>\n",
       "      <td>NaT</td>\n",
       "      <td>NaN</td>\n",
       "      <td>NaT</td>\n",
       "      <td>NaN</td>\n",
       "      <td>NaN</td>\n",
       "      <td>NaN</td>\n",
       "      <td>Y</td>\n",
       "    </tr>\n",
       "    <tr>\n",
       "      <th>5</th>\n",
       "      <td>3000</td>\n",
       "      <td>3000</td>\n",
       "      <td>3000.0</td>\n",
       "      <td>60 months</td>\n",
       "      <td>0.1269</td>\n",
       "      <td>67.79</td>\n",
       "      <td>B</td>\n",
       "      <td>B5</td>\n",
       "      <td>1 year</td>\n",
       "      <td>RENT</td>\n",
       "      <td>...</td>\n",
       "      <td>2018-04-01</td>\n",
       "      <td>0.0</td>\n",
       "      <td>N</td>\n",
       "      <td>NaT</td>\n",
       "      <td>NaN</td>\n",
       "      <td>NaT</td>\n",
       "      <td>NaN</td>\n",
       "      <td>NaN</td>\n",
       "      <td>NaN</td>\n",
       "      <td>Y</td>\n",
       "    </tr>\n",
       "  </tbody>\n",
       "</table>\n",
       "<p>5 rows × 49 columns</p>\n",
       "</div>"
      ],
      "text/plain": [
       "           loan_amnt  funded_amnt  funded_amnt_inv        term  int_rate  \\\n",
       "member_id                                                                  \n",
       "1               5000         5000           4975.0   36 months    0.1065   \n",
       "2               2500         2500           2500.0   60 months    0.1527   \n",
       "3               2400         2400           2400.0   36 months    0.1596   \n",
       "4              10000        10000          10000.0   36 months    0.1349   \n",
       "5               3000         3000           3000.0   60 months    0.1269   \n",
       "\n",
       "           installment grade sub_grade emp_length home_ownership  \\\n",
       "member_id                                                          \n",
       "1               162.87     B        B2  10+ years           RENT   \n",
       "2                59.83     C        C4   < 1 year           RENT   \n",
       "3                84.33     C        C5  10+ years           RENT   \n",
       "4               339.31     C        C1  10+ years           RENT   \n",
       "5                67.79     B        B5     1 year           RENT   \n",
       "\n",
       "                 ...          last_credit_pull_d pub_rec_bankruptcies  \\\n",
       "member_id        ...                                                    \n",
       "1                ...                  2018-08-01                  0.0   \n",
       "2                ...                  2016-10-01                  0.0   \n",
       "3                ...                  2017-06-01                  0.0   \n",
       "4                ...                  2016-04-01                  0.0   \n",
       "5                ...                  2018-04-01                  0.0   \n",
       "\n",
       "          debt_settlement_flag  debt_settlement_flag_date settlement_status  \\\n",
       "member_id                                                                     \n",
       "1                            N                        NaT               NaN   \n",
       "2                            N                        NaT               NaN   \n",
       "3                            N                        NaT               NaN   \n",
       "4                            N                        NaT               NaN   \n",
       "5                            N                        NaT               NaN   \n",
       "\n",
       "          settlement_date settlement_amount settlement_percentage  \\\n",
       "member_id                                                           \n",
       "1                     NaT               NaN                   NaN   \n",
       "2                     NaT               NaN                   NaN   \n",
       "3                     NaT               NaN                   NaN   \n",
       "4                     NaT               NaN                   NaN   \n",
       "5                     NaT               NaN                   NaN   \n",
       "\n",
       "           settlement_term  met_credit_policy  \n",
       "member_id                                      \n",
       "1                      NaN                  Y  \n",
       "2                      NaN                  Y  \n",
       "3                      NaN                  Y  \n",
       "4                      NaN                  Y  \n",
       "5                      NaN                  Y  \n",
       "\n",
       "[5 rows x 49 columns]"
      ]
     },
     "execution_count": 23,
     "metadata": {},
     "output_type": "execute_result"
    }
   ],
   "source": [
    "df1.head()"
   ]
  },
  {
   "cell_type": "code",
   "execution_count": 24,
   "metadata": {},
   "outputs": [
    {
     "data": {
      "text/plain": [
       "59000.0"
      ]
     },
     "execution_count": 24,
     "metadata": {},
     "output_type": "execute_result"
    }
   ],
   "source": [
    "df1.annual_inc.median()"
   ]
  },
  {
   "cell_type": "code",
   "execution_count": 25,
   "metadata": {},
   "outputs": [
    {
     "data": {
      "text/plain": [
       "<matplotlib.axes._subplots.AxesSubplot at 0x1220546a0>"
      ]
     },
     "execution_count": 25,
     "metadata": {},
     "output_type": "execute_result"
    },
    {
     "data": {
      "image/png": "[encoded data removed]",
      "text/plain": [
       "<Figure size 432x288 with 1 Axes>"
      ]
     },
     "metadata": {
      "needs_background": "light"
     },
     "output_type": "display_data"
    }
   ],
   "source": [
    "df1.loc[df1['annual_inc']<150000].plot(kind = 'box', y= 'annual_inc')"
   ]
  },
  {
   "cell_type": "code",
   "execution_count": 26,
   "metadata": {},
   "outputs": [
    {
     "name": "stdout",
     "output_type": "stream",
     "text": [
      "<class 'pandas.core.frame.DataFrame'>\n",
      "Int64Index: 42533 entries, 1 to 42535\n",
      "Data columns (total 20 columns):\n",
      "emp_length                   41421 non-null object\n",
      "annual_inc                   42529 non-null float64\n",
      "delinq_2yrs                  42504 non-null float64\n",
      "earliest_cr_line             42504 non-null datetime64[ns]\n",
      "inq_last_6mths               42504 non-null float64\n",
      "mths_since_last_delinq       15608 non-null float64\n",
      "mths_since_last_record       3651 non-null float64\n",
      "open_acc                     42504 non-null float64\n",
      "pub_rec                      42504 non-null float64\n",
      "revol_util                   42443 non-null float64\n",
      "total_acc                    42504 non-null float64\n",
      "last_pymnt_d                 42450 non-null datetime64[ns]\n",
      "last_credit_pull_d           42529 non-null datetime64[ns]\n",
      "pub_rec_bankruptcies         41168 non-null float64\n",
      "debt_settlement_flag_date    160 non-null datetime64[ns]\n",
      "settlement_status            160 non-null object\n",
      "settlement_date              160 non-null datetime64[ns]\n",
      "settlement_amount            160 non-null float64\n",
      "settlement_percentage        160 non-null float64\n",
      "settlement_term              160 non-null float64\n",
      "dtypes: datetime64[ns](5), float64(13), object(2)\n",
      "memory usage: 6.8+ MB\n"
     ]
    }
   ],
   "source": [
    "### Dealing with NaN's\n",
    "colswithnulls = df1.columns[df1.isna().any()].tolist()\n",
    "df1[colswithnulls].info()"
   ]
  },
  {
   "cell_type": "code",
   "execution_count": 27,
   "metadata": {},
   "outputs": [
    {
     "data": {
      "text/plain": [
       "Index(['loan_amnt', 'funded_amnt', 'funded_amnt_inv', 'term', 'int_rate',\n",
       "       'installment', 'grade', 'sub_grade', 'emp_length', 'home_ownership',\n",
       "       'annual_inc', 'verification_status', 'issue_d', 'loan_status',\n",
       "       'pymnt_plan', 'purpose', 'zip_code', 'addr_state', 'dti', 'delinq_2yrs',\n",
       "       'earliest_cr_line', 'inq_last_6mths', 'mths_since_last_delinq',\n",
       "       'mths_since_last_record', 'open_acc', 'pub_rec', 'revol_bal',\n",
       "       'revol_util', 'total_acc', 'initial_list_status', 'total_pymnt',\n",
       "       'total_pymnt_inv', 'total_rec_prncp', 'total_rec_int',\n",
       "       'total_rec_late_fee', 'recoveries', 'collection_recovery_fee',\n",
       "       'last_pymnt_d', 'last_pymnt_amnt', 'last_credit_pull_d',\n",
       "       'pub_rec_bankruptcies', 'debt_settlement_flag',\n",
       "       'debt_settlement_flag_date', 'settlement_status', 'settlement_date',\n",
       "       'settlement_amount', 'settlement_percentage', 'settlement_term',\n",
       "       'met_credit_policy'],\n",
       "      dtype='object')"
      ]
     },
     "execution_count": 27,
     "metadata": {},
     "output_type": "execute_result"
    }
   ],
   "source": [
    "df1.columns"
   ]
  },
  {
   "cell_type": "code",
   "execution_count": 28,
   "metadata": {},
   "outputs": [],
   "source": [
    "#### Adding profit/loss column \n",
    "df1['profit/loss']=  (df1['total_rec_prncp']+df1['total_rec_int']) - df1['funded_amnt']"
   ]
  },
  {
   "cell_type": "code",
   "execution_count": 29,
   "metadata": {},
   "outputs": [],
   "source": [
    "del df1['debt_settlement_flag']\n",
    "del df1['debt_settlement_flag_date']\n",
    "del df1['settlement_status']\n",
    "del df1['settlement_date']\n",
    "del df1['settlement_amount']\n",
    "del df1['settlement_percentage']\n",
    "del df1['settlement_term']\n",
    "del df1['met_credit_policy']"
   ]
  },
  {
   "cell_type": "code",
   "execution_count": 30,
   "metadata": {},
   "outputs": [
    {
     "name": "stdout",
     "output_type": "stream",
     "text": [
      "<class 'pandas.core.frame.DataFrame'>\n",
      "Int64Index: 42533 entries, 1 to 42535\n",
      "Data columns (total 14 columns):\n",
      "emp_length                41421 non-null object\n",
      "annual_inc                42529 non-null float64\n",
      "delinq_2yrs               42504 non-null float64\n",
      "earliest_cr_line          42504 non-null datetime64[ns]\n",
      "inq_last_6mths            42504 non-null float64\n",
      "mths_since_last_delinq    15608 non-null float64\n",
      "mths_since_last_record    3651 non-null float64\n",
      "open_acc                  42504 non-null float64\n",
      "pub_rec                   42504 non-null float64\n",
      "revol_util                42443 non-null float64\n",
      "total_acc                 42504 non-null float64\n",
      "last_pymnt_d              42450 non-null datetime64[ns]\n",
      "last_credit_pull_d        42529 non-null datetime64[ns]\n",
      "pub_rec_bankruptcies      41168 non-null float64\n",
      "dtypes: datetime64[ns](3), float64(10), object(1)\n",
      "memory usage: 4.9+ MB\n"
     ]
    }
   ],
   "source": [
    "colswithnulls2 = df1.columns[df1.isna().any()].tolist()\n",
    "df1[colswithnulls2].info()"
   ]
  },
  {
   "cell_type": "code",
   "execution_count": 31,
   "metadata": {},
   "outputs": [],
   "source": [
    "df1['emp_length'] = df1['emp_length'].fillna(method = 'ffill')"
   ]
  },
  {
   "cell_type": "code",
   "execution_count": 32,
   "metadata": {},
   "outputs": [
    {
     "name": "stdout",
     "output_type": "stream",
     "text": [
      "<class 'pandas.core.frame.DataFrame'>\n",
      "Int64Index: 42533 entries, 1 to 42535\n",
      "Data columns (total 13 columns):\n",
      "annual_inc                42529 non-null float64\n",
      "delinq_2yrs               42504 non-null float64\n",
      "earliest_cr_line          42504 non-null datetime64[ns]\n",
      "inq_last_6mths            42504 non-null float64\n",
      "mths_since_last_delinq    15608 non-null float64\n",
      "mths_since_last_record    3651 non-null float64\n",
      "open_acc                  42504 non-null float64\n",
      "pub_rec                   42504 non-null float64\n",
      "revol_util                42443 non-null float64\n",
      "total_acc                 42504 non-null float64\n",
      "last_pymnt_d              42450 non-null datetime64[ns]\n",
      "last_credit_pull_d        42529 non-null datetime64[ns]\n",
      "pub_rec_bankruptcies      41168 non-null float64\n",
      "dtypes: datetime64[ns](3), float64(10)\n",
      "memory usage: 4.5 MB\n"
     ]
    }
   ],
   "source": [
    "colswithnulls2 = df1.columns[df1.isna().any()].tolist()\n",
    "df1[colswithnulls2].info()"
   ]
  },
  {
   "cell_type": "code",
   "execution_count": 33,
   "metadata": {},
   "outputs": [],
   "source": [
    "df1['annual_inc'] = df1['annual_inc'].fillna(value = df1.annual_inc.median())"
   ]
  },
  {
   "cell_type": "code",
   "execution_count": 34,
   "metadata": {},
   "outputs": [],
   "source": [
    "##### The mean of delinq 2 yrs hardly changes. Stays at 0.15\n",
    "df1['delinq_2yrs'] = df1['delinq_2yrs'].fillna(value = df1.delinq_2yrs.mode())"
   ]
  },
  {
   "cell_type": "code",
   "execution_count": 35,
   "metadata": {},
   "outputs": [],
   "source": [
    "### deleting datetime types\n",
    "del df1['earliest_cr_line']\n",
    "del df1['last_pymnt_d']\n",
    "del df1['last_credit_pull_d']"
   ]
  },
  {
   "cell_type": "code",
   "execution_count": 36,
   "metadata": {},
   "outputs": [],
   "source": [
    "df1['inq_last_6mths'] = df1['inq_last_6mths'].fillna(value = df1.inq_last_6mths.median())"
   ]
  },
  {
   "cell_type": "code",
   "execution_count": 37,
   "metadata": {},
   "outputs": [],
   "source": [
    "##Dropping 20 or so rows that have all nulls in the columns with nulls. \n",
    "df1 = df1.drop(df1.index[42512:42536])"
   ]
  },
  {
   "cell_type": "code",
   "execution_count": 38,
   "metadata": {},
   "outputs": [],
   "source": [
    "df1['open_acc'] = df1['open_acc'].fillna(value = df1.open_acc.median())"
   ]
  },
  {
   "cell_type": "code",
   "execution_count": 39,
   "metadata": {},
   "outputs": [],
   "source": [
    "df1.delinq_2yrs = df1.delinq_2yrs.fillna(value = 0)"
   ]
  },
  {
   "cell_type": "code",
   "execution_count": 40,
   "metadata": {},
   "outputs": [],
   "source": [
    "df1.pub_rec = df1.pub_rec.fillna(value = df1.pub_rec.mean())"
   ]
  },
  {
   "cell_type": "code",
   "execution_count": 41,
   "metadata": {},
   "outputs": [],
   "source": [
    "df1['revol_util'] = df1['revol_util'].fillna(value = df1.revol_util.mean())"
   ]
  },
  {
   "cell_type": "code",
   "execution_count": 42,
   "metadata": {},
   "outputs": [],
   "source": [
    "df1['total_acc'] = df1['total_acc'].fillna(value = df1.total_acc.mean())"
   ]
  },
  {
   "cell_type": "code",
   "execution_count": 43,
   "metadata": {},
   "outputs": [],
   "source": [
    "df1.pub_rec_bankruptcies = df1.pub_rec_bankruptcies.fillna(value = 0)"
   ]
  },
  {
   "cell_type": "code",
   "execution_count": 44,
   "metadata": {},
   "outputs": [
    {
     "name": "stdout",
     "output_type": "stream",
     "text": [
      "<class 'pandas.core.frame.DataFrame'>\n",
      "Int64Index: 42512 entries, 1 to 42514\n",
      "Data columns (total 2 columns):\n",
      "mths_since_last_delinq    15608 non-null float64\n",
      "mths_since_last_record    3651 non-null float64\n",
      "dtypes: float64(2)\n",
      "memory usage: 996.4 KB\n"
     ]
    }
   ],
   "source": [
    "colswithnulls3 = df1.columns[df1.isna().any()].tolist()\n",
    "df1[colswithnulls3].info()"
   ]
  },
  {
   "cell_type": "code",
   "execution_count": 45,
   "metadata": {},
   "outputs": [
    {
     "data": {
      "text/plain": [
       "Index(['loan_amnt', 'funded_amnt', 'funded_amnt_inv', 'term', 'int_rate',\n",
       "       'installment', 'grade', 'sub_grade', 'emp_length', 'home_ownership',\n",
       "       'annual_inc', 'verification_status', 'issue_d', 'loan_status',\n",
       "       'pymnt_plan', 'purpose', 'zip_code', 'addr_state', 'dti', 'delinq_2yrs',\n",
       "       'inq_last_6mths', 'mths_since_last_delinq', 'mths_since_last_record',\n",
       "       'open_acc', 'pub_rec', 'revol_bal', 'revol_util', 'total_acc',\n",
       "       'initial_list_status', 'total_pymnt', 'total_pymnt_inv',\n",
       "       'total_rec_prncp', 'total_rec_int', 'total_rec_late_fee', 'recoveries',\n",
       "       'collection_recovery_fee', 'last_pymnt_amnt', 'pub_rec_bankruptcies',\n",
       "       'profit/loss'],\n",
       "      dtype='object')"
      ]
     },
     "execution_count": 45,
     "metadata": {},
     "output_type": "execute_result"
    }
   ],
   "source": [
    "df1.columns"
   ]
  },
  {
   "cell_type": "code",
   "execution_count": 46,
   "metadata": {},
   "outputs": [
    {
     "name": "stdout",
     "output_type": "stream",
     "text": [
      "<class 'pandas.core.frame.DataFrame'>\n",
      "Int64Index: 42512 entries, 1 to 42514\n",
      "Data columns (total 39 columns):\n",
      "loan_amnt                  42512 non-null int64\n",
      "funded_amnt                42512 non-null int64\n",
      "funded_amnt_inv            42512 non-null float64\n",
      "term                       42512 non-null object\n",
      "int_rate                   42512 non-null float64\n",
      "installment                42512 non-null float64\n",
      "grade                      42512 non-null category\n",
      "sub_grade                  42512 non-null object\n",
      "emp_length                 42512 non-null object\n",
      "home_ownership             42512 non-null object\n",
      "annual_inc                 42512 non-null float64\n",
      "verification_status        42512 non-null object\n",
      "issue_d                    42512 non-null datetime64[ns]\n",
      "loan_status                42512 non-null int64\n",
      "pymnt_plan                 42512 non-null object\n",
      "purpose                    42512 non-null object\n",
      "zip_code                   42512 non-null object\n",
      "addr_state                 42512 non-null object\n",
      "dti                        42512 non-null float64\n",
      "delinq_2yrs                42512 non-null float64\n",
      "inq_last_6mths             42512 non-null float64\n",
      "mths_since_last_delinq     15608 non-null float64\n",
      "mths_since_last_record     3651 non-null float64\n",
      "open_acc                   42512 non-null float64\n",
      "pub_rec                    42512 non-null float64\n",
      "revol_bal                  42512 non-null int64\n",
      "revol_util                 42512 non-null float64\n",
      "total_acc                  42512 non-null float64\n",
      "initial_list_status        42512 non-null object\n",
      "total_pymnt                42512 non-null float64\n",
      "total_pymnt_inv            42512 non-null float64\n",
      "total_rec_prncp            42512 non-null float64\n",
      "total_rec_int              42512 non-null float64\n",
      "total_rec_late_fee         42512 non-null float64\n",
      "recoveries                 42512 non-null float64\n",
      "collection_recovery_fee    42512 non-null float64\n",
      "last_pymnt_amnt            42512 non-null float64\n",
      "pub_rec_bankruptcies       42512 non-null float64\n",
      "profit/loss                42512 non-null float64\n",
      "dtypes: category(1), datetime64[ns](1), float64(23), int64(4), object(10)\n",
      "memory usage: 12.7+ MB\n"
     ]
    }
   ],
   "source": [
    "df1.info()"
   ]
  },
  {
   "cell_type": "code",
   "execution_count": 47,
   "metadata": {},
   "outputs": [],
   "source": [
    "## One unique value to pymnt_plan and initial_list_status.\n",
    "## Issue date is a datetime\n",
    "del df1['pymnt_plan']\n",
    "del df1['initial_list_status']\n",
    "del df1['issue_d']"
   ]
  },
  {
   "cell_type": "code",
   "execution_count": 48,
   "metadata": {},
   "outputs": [],
   "source": [
    "df1['margins'] = df1['profit/loss']/ df1.funded_amnt"
   ]
  },
  {
   "cell_type": "code",
   "execution_count": 49,
   "metadata": {},
   "outputs": [
    {
     "data": {
      "text/plain": [
       "member_id\n",
       "1        0.172632\n",
       "2       -0.643348\n",
       "3        0.252363\n",
       "4        0.221492\n",
       "5        0.355637\n",
       "6        0.126442\n",
       "7        0.448263\n",
       "8        0.313047\n",
       "9       -0.918400\n",
       "10      -0.775460\n",
       "11       0.181234\n",
       "12       0.162332\n",
       "13      -0.797067\n",
       "14       0.160090\n",
       "15      -0.317311\n",
       "16       0.270720\n",
       "17       0.252715\n",
       "18       0.051464\n",
       "19       0.192012\n",
       "20       0.028261\n",
       "21       0.366867\n",
       "22      -0.332124\n",
       "23       0.190735\n",
       "24       0.154089\n",
       "25      -0.703195\n",
       "26       0.054933\n",
       "27      -1.000000\n",
       "28      -0.730368\n",
       "29       0.121572\n",
       "30       0.191305\n",
       "           ...   \n",
       "42485    0.293175\n",
       "42486    0.242625\n",
       "42487    0.240730\n",
       "42488    0.119466\n",
       "42489    0.213576\n",
       "42490   -0.801782\n",
       "42491    0.253765\n",
       "42492   -0.459333\n",
       "42493    0.204107\n",
       "42494   -0.736216\n",
       "42495    0.166294\n",
       "42496    0.204080\n",
       "42497    0.166267\n",
       "42498    0.242631\n",
       "42499    0.213327\n",
       "42500   -0.486296\n",
       "42501    0.174143\n",
       "42502   -0.382477\n",
       "42503    0.281885\n",
       "42504    0.071746\n",
       "42505   -0.618660\n",
       "42506   -0.373838\n",
       "42507    0.209560\n",
       "42508    0.215040\n",
       "42509    0.209677\n",
       "42510    0.052179\n",
       "42511    0.257054\n",
       "42512    0.113510\n",
       "42513    0.171645\n",
       "42514    0.155618\n",
       "Name: margins, Length: 42512, dtype: float64"
      ]
     },
     "execution_count": 49,
     "metadata": {},
     "output_type": "execute_result"
    }
   ],
   "source": [
    "df1.margins"
   ]
  },
  {
   "cell_type": "code",
   "execution_count": null,
   "metadata": {},
   "outputs": [],
   "source": []
  },
  {
   "cell_type": "code",
   "execution_count": 50,
   "metadata": {},
   "outputs": [
    {
     "name": "stdout",
     "output_type": "stream",
     "text": [
      "<class 'pandas.core.frame.DataFrame'>\n",
      "Int64Index: 42512 entries, 1 to 42514\n",
      "Data columns (total 37 columns):\n",
      "loan_amnt                  42512 non-null int64\n",
      "funded_amnt                42512 non-null int64\n",
      "funded_amnt_inv            42512 non-null float64\n",
      "term                       42512 non-null object\n",
      "int_rate                   42512 non-null float64\n",
      "installment                42512 non-null float64\n",
      "grade                      42512 non-null category\n",
      "sub_grade                  42512 non-null object\n",
      "emp_length                 42512 non-null object\n",
      "home_ownership             42512 non-null object\n",
      "annual_inc                 42512 non-null float64\n",
      "verification_status        42512 non-null object\n",
      "loan_status                42512 non-null int64\n",
      "purpose                    42512 non-null object\n",
      "zip_code                   42512 non-null object\n",
      "addr_state                 42512 non-null object\n",
      "dti                        42512 non-null float64\n",
      "delinq_2yrs                42512 non-null float64\n",
      "inq_last_6mths             42512 non-null float64\n",
      "mths_since_last_delinq     15608 non-null float64\n",
      "mths_since_last_record     3651 non-null float64\n",
      "open_acc                   42512 non-null float64\n",
      "pub_rec                    42512 non-null float64\n",
      "revol_bal                  42512 non-null int64\n",
      "revol_util                 42512 non-null float64\n",
      "total_acc                  42512 non-null float64\n",
      "total_pymnt                42512 non-null float64\n",
      "total_pymnt_inv            42512 non-null float64\n",
      "total_rec_prncp            42512 non-null float64\n",
      "total_rec_int              42512 non-null float64\n",
      "total_rec_late_fee         42512 non-null float64\n",
      "recoveries                 42512 non-null float64\n",
      "collection_recovery_fee    42512 non-null float64\n",
      "last_pymnt_amnt            42512 non-null float64\n",
      "pub_rec_bankruptcies       42512 non-null float64\n",
      "profit/loss                42512 non-null float64\n",
      "margins                    42512 non-null float64\n",
      "dtypes: category(1), float64(24), int64(4), object(8)\n",
      "memory usage: 12.0+ MB\n"
     ]
    }
   ],
   "source": [
    "df1.info()"
   ]
  },
  {
   "cell_type": "markdown",
   "metadata": {},
   "source": [
    "# EDA"
   ]
  },
  {
   "cell_type": "code",
   "execution_count": 51,
   "metadata": {},
   "outputs": [
    {
     "data": {
      "text/plain": [
       "grade\n",
       "A    0.059847\n",
       "B    0.122526\n",
       "C    0.172201\n",
       "D    0.220449\n",
       "E    0.260242\n",
       "F    0.319754\n",
       "G    0.337891\n",
       "Name: loan_status, dtype: float64"
      ]
     },
     "execution_count": 51,
     "metadata": {},
     "output_type": "execute_result"
    }
   ],
   "source": [
    "# What is the default rate of each grade group\n",
    "default_rate_by_grade = df1.groupby('grade').mean()['loan_status']\n",
    "default_rate_by_grade"
   ]
  },
  {
   "cell_type": "code",
   "execution_count": 52,
   "metadata": {},
   "outputs": [
    {
     "data": {
      "image/png": "[encoded data removed]",
      "text/plain": [
       "<Figure size 432x288 with 1 Axes>"
      ]
     },
     "metadata": {
      "needs_background": "light"
     },
     "output_type": "display_data"
    }
   ],
   "source": [
    "# Plot of the default rate of each group. \n",
    "_ = df1.groupby('grade').mean()['loan_status'].plot(kind='bar', title= 'Default Rates by Grade')\n",
    "_ = plt.xlabel('Grade')\n",
    "_ = plt.ylabel('Default Rate')\n",
    "_ = plt.xticks(rotation=360)\n",
    "plt.show()"
   ]
  },
  {
   "cell_type": "code",
   "execution_count": 53,
   "metadata": {},
   "outputs": [
    {
     "data": {
      "image/png": "[encoded data removed]",
      "text/plain": [
       "<Figure size 432x288 with 1 Axes>"
      ]
     },
     "metadata": {
      "needs_background": "light"
     },
     "output_type": "display_data"
    }
   ],
   "source": [
    "dr_of_each_purpose = df1.groupby('purpose').mean()['loan_status'].plot(kind='bar', \\\n",
    "                                                                       title = 'Default Rates For Each Purpose')"
   ]
  },
  {
   "cell_type": "code",
   "execution_count": 54,
   "metadata": {},
   "outputs": [
    {
     "data": {
      "text/plain": [
       "(array([0, 1, 2, 3, 4, 5, 6]), <a list of 7 Text xticklabel objects>)"
      ]
     },
     "execution_count": 54,
     "metadata": {},
     "output_type": "execute_result"
    },
    {
     "data": {
      "image/png": "[encoded data removed]",
      "text/plain": [
       "<Figure size 432x288 with 1 Axes>"
      ]
     },
     "metadata": {
      "needs_background": "light"
     },
     "output_type": "display_data"
    }
   ],
   "source": [
    "dr_of_each_grade_of_each_purpose = \\\n",
    "df1.loc[df1['purpose']=='small_business'].groupby('grade').mean()['loan_status'].plot(kind='bar', \\\n",
    "                             title = 'Default Rate for Each Grade For Business Purposes') \n",
    "plt.xticks(rotation=360)"
   ]
  },
  {
   "cell_type": "code",
   "execution_count": 55,
   "metadata": {},
   "outputs": [
    {
     "data": {
      "text/plain": [
       "<matplotlib.axes._subplots.AxesSubplot at 0x122396e10>"
      ]
     },
     "execution_count": 55,
     "metadata": {},
     "output_type": "execute_result"
    },
    {
     "data": {
      "image/png": "[encoded data removed]",
      "text/plain": [
       "<Figure size 432x288 with 1 Axes>"
      ]
     },
     "metadata": {
      "needs_background": "light"
     },
     "output_type": "display_data"
    }
   ],
   "source": [
    "df1.loc[df1['purpose']=='educational'].groupby('grade').mean()['loan_status'].plot(kind='bar', title = \\\n",
    "                                                                                  'Default Rate Grade Educational')"
   ]
  },
  {
   "cell_type": "code",
   "execution_count": 56,
   "metadata": {},
   "outputs": [
    {
     "data": {
      "text/plain": [
       "<matplotlib.axes._subplots.AxesSubplot at 0x1220486d8>"
      ]
     },
     "execution_count": 56,
     "metadata": {},
     "output_type": "execute_result"
    },
    {
     "data": {
      "image/png": "[encoded data removed]",
      "text/plain": [
       "<Figure size 432x288 with 1 Axes>"
      ]
     },
     "metadata": {
      "needs_background": "light"
     },
     "output_type": "display_data"
    }
   ],
   "source": [
    "df1.groupby('sub_grade').mean()['loan_status'].plot(kind='bar')"
   ]
  },
  {
   "cell_type": "code",
   "execution_count": 57,
   "metadata": {},
   "outputs": [
    {
     "data": {
      "text/plain": [
       "Text(0.5,1,'Debt to Inome Dist.')"
      ]
     },
     "execution_count": 57,
     "metadata": {},
     "output_type": "execute_result"
    },
    {
     "data": {
      "image/png": "[encoded data removed]",
      "text/plain": [
       "<Figure size 432x288 with 1 Axes>"
      ]
     },
     "metadata": {
      "needs_background": "light"
     },
     "output_type": "display_data"
    }
   ],
   "source": [
    "df1.dti.plot(kind='hist', bins=20)\n",
    "plt.title('Debt to Inome Dist.')"
   ]
  },
  {
   "cell_type": "code",
   "execution_count": 58,
   "metadata": {},
   "outputs": [
    {
     "data": {
      "text/plain": [
       "[Text(0,0,'A'),\n",
       " Text(0,0,'B'),\n",
       " Text(0,0,'C'),\n",
       " Text(0,0,'D'),\n",
       " Text(0,0,'E'),\n",
       " Text(0,0,'F'),\n",
       " Text(0,0,'G')]"
      ]
     },
     "execution_count": 58,
     "metadata": {},
     "output_type": "execute_result"
    },
    {
     "data": {
      "image/png": "[encoded data removed]",
      "text/plain": [
       "<Figure size 432x288 with 1 Axes>"
      ]
     },
     "metadata": {
      "needs_background": "light"
     },
     "output_type": "display_data"
    },
    {
     "data": {
      "image/png": "[encoded data removed]",
      "text/plain": [
       "<Figure size 432x288 with 1 Axes>"
      ]
     },
     "metadata": {
      "needs_background": "light"
     },
     "output_type": "display_data"
    }
   ],
   "source": [
    "# Mean profit/losses vs Median\n",
    "mean = df1[['profit/loss','grade']].groupby('grade').mean().plot(kind='bar',\\\n",
    "                                                                 title='Mean of Profit/Loss by Grade')\n",
    "plt.xticks(rotation=360)\n",
    "plt.xlabel('Grade')\n",
    "plt.ylabel('Profit/ Loss Amount')\n",
    "mean.set_xticklabels(['A','B','C','D','E','F','G'])\n",
    "median = df1[['profit/loss','grade']].groupby('grade').median().plot(kind='bar',\\\n",
    "                                                                     title='Median of profit/loss by Grade')\n",
    "plt.xticks(rotation=360)\n",
    "median.set_xticklabels(['A','B','C','D','E','F','G'])"
   ]
  },
  {
   "cell_type": "code",
   "execution_count": 59,
   "metadata": {},
   "outputs": [
    {
     "data": {
      "image/png": "[encoded data removed]",
      "text/plain": [
       "<Figure size 432x288 with 1 Axes>"
      ]
     },
     "metadata": {
      "needs_background": "light"
     },
     "output_type": "display_data"
    }
   ],
   "source": [
    "# Comparing gains and losses\n",
    "ax = plt.gca()\n",
    "_  = df1[['profit/loss','grade']].loc[df1['loan_status']==0].groupby('grade').mean()\\\n",
    ".plot(kind='bar', title = \"Average Profits From Fully Paid Loans and Losses From Defaults by Grade\", legend = None, ax=ax)\n",
    "_.set_xticklabels(['A','B','C','D','E','F','G'])\n",
    "_ = plt.xlabel('Grade')\n",
    "_ = plt.ylabel('Average Profit/ Loss')\n",
    "_ = df1[['profit/loss','grade']].loc[df1['loan_status']==1].groupby('grade').mean().\\\n",
    "plot(kind='bar', ax=ax)\n",
    "_.set_xticklabels(['A','B','C','D','E','F','G'])\n",
    "_ = plt.axhline(y=0, color='r', linestyle='-')\n",
    "_ = plt.xticks(rotation=360)\n",
    "plt.show()"
   ]
  },
  {
   "cell_type": "code",
   "execution_count": 60,
   "metadata": {},
   "outputs": [
    {
     "data": {
      "text/plain": [
       "[Text(0,0,'1'),\n",
       " Text(0,0,'A'),\n",
       " Text(0,0,'B'),\n",
       " Text(0,0,'C'),\n",
       " Text(0,0,'D'),\n",
       " Text(0,0,'E'),\n",
       " Text(0,0,'F'),\n",
       " Text(0,0,'G')]"
      ]
     },
     "execution_count": 60,
     "metadata": {},
     "output_type": "execute_result"
    },
    {
     "data": {
      "image/png": "[encoded data removed]",
      "text/plain": [
       "<Figure size 432x288 with 1 Axes>"
      ]
     },
     "metadata": {
      "needs_background": "light"
     },
     "output_type": "display_data"
    },
    {
     "data": {
      "image/png": "[encoded data removed]",
      "text/plain": [
       "<Figure size 432x288 with 1 Axes>"
      ]
     },
     "metadata": {
      "needs_background": "light"
     },
     "output_type": "display_data"
    }
   ],
   "source": [
    "fullypaidcashflows = df1.loc[df1['loan_status']==0].groupby('grade').mean()[['total_pymnt','funded_amnt', 'profit/loss']].plot(title='Fully Paid Loans')\n",
    "fullypaidcashflows.set_xticklabels([1,'A','B','C','D','E','F','G'])\n",
    "plt.xlabel('Grade')\n",
    "plt.ylabel('Dollar Amount')\n",
    "defaultcashflows = df1.loc[df1['loan_status']==1].groupby('grade').mean()[['total_pymnt','funded_amnt', 'profit/loss']].plot()\n",
    "defaultcashflows.set_xticklabels([1,'A','B','C','D','E','F','G'])"
   ]
  },
  {
   "cell_type": "code",
   "execution_count": 61,
   "metadata": {},
   "outputs": [
    {
     "data": {
      "image/png": "[encoded data removed]",
      "text/plain": [
       "<Figure size 432x288 with 1 Axes>"
      ]
     },
     "metadata": {
      "needs_background": "light"
     },
     "output_type": "display_data"
    }
   ],
   "source": [
    "_ = df1[['profit/loss', 'grade']].groupby('grade').sum().plot(kind='bar', title='Sum of Profit/Losses by Grade')\n",
    "_ = plt.xlabel('Grade')\n",
    "_ = plt.ylabel('Profits by 10 Million')\n",
    "_ = plt.xticks(rotation=360)\n",
    "plt.show()"
   ]
  },
  {
   "cell_type": "code",
   "execution_count": 62,
   "metadata": {},
   "outputs": [
    {
     "data": {
      "text/html": [
       "<div>\n",
       "<style scoped>\n",
       "    .dataframe tbody tr th:only-of-type {\n",
       "        vertical-align: middle;\n",
       "    }\n",
       "\n",
       "    .dataframe tbody tr th {\n",
       "        vertical-align: top;\n",
       "    }\n",
       "\n",
       "    .dataframe thead th {\n",
       "        text-align: right;\n",
       "    }\n",
       "</style>\n",
       "<table border=\"1\" class=\"dataframe\">\n",
       "  <thead>\n",
       "    <tr style=\"text-align: right;\">\n",
       "      <th></th>\n",
       "      <th>profit/loss</th>\n",
       "    </tr>\n",
       "    <tr>\n",
       "      <th>grade</th>\n",
       "      <th></th>\n",
       "    </tr>\n",
       "  </thead>\n",
       "  <tbody>\n",
       "    <tr>\n",
       "      <th>A</th>\n",
       "      <td>5987883.97</td>\n",
       "    </tr>\n",
       "    <tr>\n",
       "      <th>B</th>\n",
       "      <td>13119278.24</td>\n",
       "    </tr>\n",
       "    <tr>\n",
       "      <th>C</th>\n",
       "      <td>9690231.78</td>\n",
       "    </tr>\n",
       "    <tr>\n",
       "      <th>D</th>\n",
       "      <td>7795904.67</td>\n",
       "    </tr>\n",
       "    <tr>\n",
       "      <th>E</th>\n",
       "      <td>6600589.87</td>\n",
       "    </tr>\n",
       "    <tr>\n",
       "      <th>F</th>\n",
       "      <td>2408010.10</td>\n",
       "    </tr>\n",
       "    <tr>\n",
       "      <th>G</th>\n",
       "      <td>926910.97</td>\n",
       "    </tr>\n",
       "  </tbody>\n",
       "</table>\n",
       "</div>"
      ],
      "text/plain": [
       "       profit/loss\n",
       "grade             \n",
       "A       5987883.97\n",
       "B      13119278.24\n",
       "C       9690231.78\n",
       "D       7795904.67\n",
       "E       6600589.87\n",
       "F       2408010.10\n",
       "G        926910.97"
      ]
     },
     "execution_count": 62,
     "metadata": {},
     "output_type": "execute_result"
    }
   ],
   "source": [
    "df1[['profit/loss', 'grade']].groupby('grade').sum()"
   ]
  },
  {
   "cell_type": "code",
   "execution_count": 63,
   "metadata": {},
   "outputs": [
    {
     "data": {
      "image/png": "[encoded data removed]",
      "text/plain": [
       "<Figure size 432x288 with 1 Axes>"
      ]
     },
     "metadata": {
      "needs_background": "light"
     },
     "output_type": "display_data"
    }
   ],
   "source": [
    "# What is the count of each grade? \n",
    "_ = df1[['term','grade']].groupby('grade').count().plot(kind= 'bar', title= \"Count by Grade\", legend = None)\n",
    "_ = plt.xlabel('Grade')\n",
    "_ = plt.ylabel('Amount')\n",
    "_ = plt.xticks(rotation=360)\n",
    "\n",
    "\n",
    "plt.show()"
   ]
  },
  {
   "cell_type": "code",
   "execution_count": 64,
   "metadata": {},
   "outputs": [
    {
     "data": {
      "text/plain": [
       "Text(0,0.5,'Interest Rate')"
      ]
     },
     "execution_count": 64,
     "metadata": {},
     "output_type": "execute_result"
    },
    {
     "data": {
      "image/png": "[encoded data removed]",
      "text/plain": [
       "<Figure size 432x288 with 1 Axes>"
      ]
     },
     "metadata": {
      "needs_background": "light"
     },
     "output_type": "display_data"
    }
   ],
   "source": [
    "# Distributions of interest rates per grade\n",
    "_ = df1.boxplot(column = 'int_rate', by= 'grade')\n",
    "plt.xlabel('Grade')\n",
    "plt.ylabel('Interest Rate')"
   ]
  },
  {
   "cell_type": "code",
   "execution_count": 65,
   "metadata": {},
   "outputs": [
    {
     "data": {
      "text/plain": [
       "<matplotlib.axes._subplots.AxesSubplot at 0x126fef668>"
      ]
     },
     "execution_count": 65,
     "metadata": {},
     "output_type": "execute_result"
    },
    {
     "data": {
      "image/png": "[encoded data removed]",
      "text/plain": [
       "<Figure size 432x288 with 1 Axes>"
      ]
     },
     "metadata": {
      "needs_background": "light"
     },
     "output_type": "display_data"
    }
   ],
   "source": [
    "# Total payments of loan\n",
    "df1.boxplot(column = 'total_pymnt', by= 'grade')"
   ]
  },
  {
   "cell_type": "code",
   "execution_count": 66,
   "metadata": {},
   "outputs": [
    {
     "data": {
      "text/plain": [
       "[Text(0,0,'1'),\n",
       " Text(0,0,'A'),\n",
       " Text(0,0,'B'),\n",
       " Text(0,0,'C'),\n",
       " Text(0,0,'D'),\n",
       " Text(0,0,'E'),\n",
       " Text(0,0,'F'),\n",
       " Text(0,0,'G')]"
      ]
     },
     "execution_count": 66,
     "metadata": {},
     "output_type": "execute_result"
    },
    {
     "data": {
      "image/png": "[encoded data removed]",
      "text/plain": [
       "<Figure size 432x288 with 1 Axes>"
      ]
     },
     "metadata": {
      "needs_background": "light"
     },
     "output_type": "display_data"
    }
   ],
   "source": [
    "# Average of funde amount of loan, principle\n",
    "fundedamnt_bygrade = df1.groupby('grade').mean()['funded_amnt'].plot()\n",
    "fundedamnt_bygrade.set_xticklabels([1,'A','B','C','D','E','F','G'])"
   ]
  },
  {
   "cell_type": "code",
   "execution_count": 67,
   "metadata": {},
   "outputs": [
    {
     "data": {
      "text/plain": [
       "<matplotlib.axes._subplots.AxesSubplot at 0x12253d208>"
      ]
     },
     "execution_count": 67,
     "metadata": {},
     "output_type": "execute_result"
    },
    {
     "data": {
      "image/png": "[encoded data removed]",
      "text/plain": [
       "<Figure size 432x288 with 1 Axes>"
      ]
     },
     "metadata": {
      "needs_background": "light"
     },
     "output_type": "display_data"
    }
   ],
   "source": [
    "# Distribution of installment\n",
    "df1.installment.plot(kind='hist', bins = 20)"
   ]
  },
  {
   "cell_type": "code",
   "execution_count": 68,
   "metadata": {},
   "outputs": [
    {
     "data": {
      "text/html": [
       "<div>\n",
       "<style scoped>\n",
       "    .dataframe tbody tr th:only-of-type {\n",
       "        vertical-align: middle;\n",
       "    }\n",
       "\n",
       "    .dataframe tbody tr th {\n",
       "        vertical-align: top;\n",
       "    }\n",
       "\n",
       "    .dataframe thead th {\n",
       "        text-align: right;\n",
       "    }\n",
       "</style>\n",
       "<table border=\"1\" class=\"dataframe\">\n",
       "  <thead>\n",
       "    <tr style=\"text-align: right;\">\n",
       "      <th></th>\n",
       "      <th>loan_amnt</th>\n",
       "      <th>funded_amnt</th>\n",
       "      <th>funded_amnt_inv</th>\n",
       "      <th>term</th>\n",
       "      <th>int_rate</th>\n",
       "      <th>installment</th>\n",
       "      <th>grade</th>\n",
       "      <th>sub_grade</th>\n",
       "      <th>emp_length</th>\n",
       "      <th>home_ownership</th>\n",
       "      <th>...</th>\n",
       "      <th>total_pymnt_inv</th>\n",
       "      <th>total_rec_prncp</th>\n",
       "      <th>total_rec_int</th>\n",
       "      <th>total_rec_late_fee</th>\n",
       "      <th>recoveries</th>\n",
       "      <th>collection_recovery_fee</th>\n",
       "      <th>last_pymnt_amnt</th>\n",
       "      <th>pub_rec_bankruptcies</th>\n",
       "      <th>profit/loss</th>\n",
       "      <th>margins</th>\n",
       "    </tr>\n",
       "    <tr>\n",
       "      <th>member_id</th>\n",
       "      <th></th>\n",
       "      <th></th>\n",
       "      <th></th>\n",
       "      <th></th>\n",
       "      <th></th>\n",
       "      <th></th>\n",
       "      <th></th>\n",
       "      <th></th>\n",
       "      <th></th>\n",
       "      <th></th>\n",
       "      <th></th>\n",
       "      <th></th>\n",
       "      <th></th>\n",
       "      <th></th>\n",
       "      <th></th>\n",
       "      <th></th>\n",
       "      <th></th>\n",
       "      <th></th>\n",
       "      <th></th>\n",
       "      <th></th>\n",
       "      <th></th>\n",
       "    </tr>\n",
       "  </thead>\n",
       "  <tbody>\n",
       "    <tr>\n",
       "      <th>1</th>\n",
       "      <td>5000</td>\n",
       "      <td>5000</td>\n",
       "      <td>4975.0</td>\n",
       "      <td>36 months</td>\n",
       "      <td>0.1065</td>\n",
       "      <td>162.87</td>\n",
       "      <td>B</td>\n",
       "      <td>B2</td>\n",
       "      <td>10+ years</td>\n",
       "      <td>RENT</td>\n",
       "      <td>...</td>\n",
       "      <td>5833.84</td>\n",
       "      <td>5000.00</td>\n",
       "      <td>863.16</td>\n",
       "      <td>0.00</td>\n",
       "      <td>0.0</td>\n",
       "      <td>0.00</td>\n",
       "      <td>171.62</td>\n",
       "      <td>0.0</td>\n",
       "      <td>863.16</td>\n",
       "      <td>0.172632</td>\n",
       "    </tr>\n",
       "    <tr>\n",
       "      <th>2</th>\n",
       "      <td>2500</td>\n",
       "      <td>2500</td>\n",
       "      <td>2500.0</td>\n",
       "      <td>60 months</td>\n",
       "      <td>0.1527</td>\n",
       "      <td>59.83</td>\n",
       "      <td>C</td>\n",
       "      <td>C4</td>\n",
       "      <td>&lt; 1 year</td>\n",
       "      <td>RENT</td>\n",
       "      <td>...</td>\n",
       "      <td>1014.53</td>\n",
       "      <td>456.46</td>\n",
       "      <td>435.17</td>\n",
       "      <td>0.00</td>\n",
       "      <td>122.9</td>\n",
       "      <td>1.11</td>\n",
       "      <td>119.66</td>\n",
       "      <td>0.0</td>\n",
       "      <td>-1608.37</td>\n",
       "      <td>-0.643348</td>\n",
       "    </tr>\n",
       "    <tr>\n",
       "      <th>3</th>\n",
       "      <td>2400</td>\n",
       "      <td>2400</td>\n",
       "      <td>2400.0</td>\n",
       "      <td>36 months</td>\n",
       "      <td>0.1596</td>\n",
       "      <td>84.33</td>\n",
       "      <td>C</td>\n",
       "      <td>C5</td>\n",
       "      <td>10+ years</td>\n",
       "      <td>RENT</td>\n",
       "      <td>...</td>\n",
       "      <td>3005.67</td>\n",
       "      <td>2400.00</td>\n",
       "      <td>605.67</td>\n",
       "      <td>0.00</td>\n",
       "      <td>0.0</td>\n",
       "      <td>0.00</td>\n",
       "      <td>649.91</td>\n",
       "      <td>0.0</td>\n",
       "      <td>605.67</td>\n",
       "      <td>0.252363</td>\n",
       "    </tr>\n",
       "    <tr>\n",
       "      <th>4</th>\n",
       "      <td>10000</td>\n",
       "      <td>10000</td>\n",
       "      <td>10000.0</td>\n",
       "      <td>36 months</td>\n",
       "      <td>0.1349</td>\n",
       "      <td>339.31</td>\n",
       "      <td>C</td>\n",
       "      <td>C1</td>\n",
       "      <td>10+ years</td>\n",
       "      <td>RENT</td>\n",
       "      <td>...</td>\n",
       "      <td>12231.89</td>\n",
       "      <td>10000.00</td>\n",
       "      <td>2214.92</td>\n",
       "      <td>16.97</td>\n",
       "      <td>0.0</td>\n",
       "      <td>0.00</td>\n",
       "      <td>357.48</td>\n",
       "      <td>0.0</td>\n",
       "      <td>2214.92</td>\n",
       "      <td>0.221492</td>\n",
       "    </tr>\n",
       "    <tr>\n",
       "      <th>5</th>\n",
       "      <td>3000</td>\n",
       "      <td>3000</td>\n",
       "      <td>3000.0</td>\n",
       "      <td>60 months</td>\n",
       "      <td>0.1269</td>\n",
       "      <td>67.79</td>\n",
       "      <td>B</td>\n",
       "      <td>B5</td>\n",
       "      <td>1 year</td>\n",
       "      <td>RENT</td>\n",
       "      <td>...</td>\n",
       "      <td>4066.91</td>\n",
       "      <td>3000.00</td>\n",
       "      <td>1066.91</td>\n",
       "      <td>0.00</td>\n",
       "      <td>0.0</td>\n",
       "      <td>0.00</td>\n",
       "      <td>67.30</td>\n",
       "      <td>0.0</td>\n",
       "      <td>1066.91</td>\n",
       "      <td>0.355637</td>\n",
       "    </tr>\n",
       "  </tbody>\n",
       "</table>\n",
       "<p>5 rows × 37 columns</p>\n",
       "</div>"
      ],
      "text/plain": [
       "           loan_amnt  funded_amnt  funded_amnt_inv        term  int_rate  \\\n",
       "member_id                                                                  \n",
       "1               5000         5000           4975.0   36 months    0.1065   \n",
       "2               2500         2500           2500.0   60 months    0.1527   \n",
       "3               2400         2400           2400.0   36 months    0.1596   \n",
       "4              10000        10000          10000.0   36 months    0.1349   \n",
       "5               3000         3000           3000.0   60 months    0.1269   \n",
       "\n",
       "           installment grade sub_grade emp_length home_ownership    ...     \\\n",
       "member_id                                                           ...      \n",
       "1               162.87     B        B2  10+ years           RENT    ...      \n",
       "2                59.83     C        C4   < 1 year           RENT    ...      \n",
       "3                84.33     C        C5  10+ years           RENT    ...      \n",
       "4               339.31     C        C1  10+ years           RENT    ...      \n",
       "5                67.79     B        B5     1 year           RENT    ...      \n",
       "\n",
       "           total_pymnt_inv total_rec_prncp  total_rec_int total_rec_late_fee  \\\n",
       "member_id                                                                      \n",
       "1                  5833.84         5000.00         863.16               0.00   \n",
       "2                  1014.53          456.46         435.17               0.00   \n",
       "3                  3005.67         2400.00         605.67               0.00   \n",
       "4                 12231.89        10000.00        2214.92              16.97   \n",
       "5                  4066.91         3000.00        1066.91               0.00   \n",
       "\n",
       "          recoveries collection_recovery_fee  last_pymnt_amnt  \\\n",
       "member_id                                                       \n",
       "1                0.0                    0.00           171.62   \n",
       "2              122.9                    1.11           119.66   \n",
       "3                0.0                    0.00           649.91   \n",
       "4                0.0                    0.00           357.48   \n",
       "5                0.0                    0.00            67.30   \n",
       "\n",
       "           pub_rec_bankruptcies  profit/loss   margins  \n",
       "member_id                                               \n",
       "1                           0.0       863.16  0.172632  \n",
       "2                           0.0     -1608.37 -0.643348  \n",
       "3                           0.0       605.67  0.252363  \n",
       "4                           0.0      2214.92  0.221492  \n",
       "5                           0.0      1066.91  0.355637  \n",
       "\n",
       "[5 rows x 37 columns]"
      ]
     },
     "execution_count": 68,
     "metadata": {},
     "output_type": "execute_result"
    }
   ],
   "source": [
    "df1.head()"
   ]
  },
  {
   "cell_type": "code",
   "execution_count": 69,
   "metadata": {},
   "outputs": [],
   "source": [
    "fa = df1.groupby('grade').sum()['funded_amnt']\n",
    "pl = df1.groupby('grade').sum()['profit/loss']\n",
    "realmargins = pl/fa"
   ]
  },
  {
   "cell_type": "code",
   "execution_count": 85,
   "metadata": {},
   "outputs": [
    {
     "data": {
      "image/png": "[encoded data removed]",
      "text/plain": [
       "<Figure size 432x288 with 1 Axes>"
      ]
     },
     "metadata": {
      "needs_background": "light"
     },
     "output_type": "display_data"
    }
   ],
   "source": [
    "# Sum of all gains and losses. \n",
    "_ = realmargins.plot(kind='bar')\n",
    "_ = plt.xlabel('Grade')\n",
    "_ = plt.ylabel('Average Margins Including all Loans')\n",
    "_ = plt.title('Average Margins From all Loans by Grade')\n",
    "_ = plt.xticks(rotation=360)\n",
    "plt.show()"
   ]
  },
  {
   "cell_type": "code",
   "execution_count": 71,
   "metadata": {},
   "outputs": [],
   "source": [
    "fpfa = df1.loc[df1['loan_status']==0].groupby('grade').sum()['funded_amnt']\n",
    "fppl = df1.loc[df1['loan_status']==0].groupby('grade').sum()['profit/loss']\n",
    "fprealmargins = fppl/fpfa\n",
    "dfa = df1.loc[df1['loan_status']==1].groupby('grade').sum()['funded_amnt']\n",
    "dpl = df1.loc[df1['loan_status']==1].groupby('grade').sum()['profit/loss']\n",
    "defaultmargins = dpl/ dfa"
   ]
  },
  {
   "cell_type": "code",
   "execution_count": 84,
   "metadata": {},
   "outputs": [
    {
     "data": {
      "image/png": "[encoded data removed]",
      "text/plain": [
       "<Figure size 432x288 with 1 Axes>"
      ]
     },
     "metadata": {
      "needs_background": "light"
     },
     "output_type": "display_data"
    }
   ],
   "source": [
    "_ = fprealmargins.plot(kind='bar')\n",
    "_ = plt.xlabel('Grade')\n",
    "_ = plt.ylabel('Average Profit Margins From Full Paid Loans')\n",
    "_ = plt.title('Average Profit Margins From Full Paid Loans by Grade')\n",
    "_ = plt.xticks(rotation=360)\n",
    "plt.show()"
   ]
  },
  {
   "cell_type": "code",
   "execution_count": 83,
   "metadata": {},
   "outputs": [
    {
     "data": {
      "image/png": "[encoded data removed]",
      "text/plain": [
       "<Figure size 432x288 with 1 Axes>"
      ]
     },
     "metadata": {
      "needs_background": "light"
     },
     "output_type": "display_data"
    }
   ],
   "source": [
    "ax = plt.gca()\n",
    "_  = fprealmargins\\\n",
    ".plot(kind='bar', title = \"Average Profit Margins from Fully Repaid Loans and Percentage Losses from Defaults\", legend = None, ax=ax)\n",
    "_.set_xticklabels(['A','B','C','D','E','F','G'])\n",
    "_ = plt.xlabel('Grade')\n",
    "_ = plt.ylabel('Ave. Percentage Gains and Losses')\n",
    "_ = defaultmargins.\\\n",
    "plot(kind='bar', ax=ax)\n",
    "_.set_xticklabels(['A','B','C','D','E','F','G'])\n",
    "_ = plt.axhline(y=0, color='r', linestyle='-')\n",
    "_ = plt.xticks(rotation=360)\n",
    "plt.show()"
   ]
  },
  {
   "cell_type": "markdown",
   "metadata": {},
   "source": [
    "# Inference stats below"
   ]
  },
  {
   "cell_type": "code",
   "execution_count": 74,
   "metadata": {},
   "outputs": [],
   "source": [
    "def gradevariable(letter, variable):\n",
    "    \"\"\"Get grade and variable\"\"\"\n",
    "    gradevariablearray = df1.loc[df1['grade']==letter][variable]\n",
    "    return gradevariablearray"
   ]
  },
  {
   "cell_type": "code",
   "execution_count": 75,
   "metadata": {},
   "outputs": [],
   "source": [
    "def obs_diff_means(data1, data2):\n",
    "    \"\"\"difference of means between observed means\"\"\"\n",
    "    diff_mean = np.mean(data1)-np.mean(data2)\n",
    "    return diff_mean"
   ]
  },
  {
   "cell_type": "code",
   "execution_count": 76,
   "metadata": {},
   "outputs": [],
   "source": [
    "def p_value(letter1, letter2, variable):\n",
    "    \"\"\"To get p value to test difference in means and dist's\"\"\"\n",
    "    \n",
    "    array1 = gradevariable(letter1, variable)\n",
    "    array2 = gradevariable(letter2, variable)\n",
    "    \n",
    "    diffmeans = obs_diff_means(array1, array2)\n",
    "    \n",
    "    perm_replicates = np.empty(10000)\n",
    "    for i in range(10000):\n",
    "        concat = np.concatenate((array1, array2))\n",
    "        perm_data = np.random.permutation(concat)\n",
    "        perm_sample1 = perm_data[:len(array1)]\n",
    "        perm_sample2 = perm_data[len(array1):]\n",
    "        perm_replicates[i] = np.mean(perm_sample1) - np.mean(perm_sample2)\n",
    "        \n",
    "    if diffmeans < 0:\n",
    "        p_value = np.sum(perm_replicates <= diffmeans)/len(perm_replicates)\n",
    "    else:\n",
    "        p_value = np.sum(perm_replicates >= diffmeans)/len(perm_replicates)\n",
    "        \n",
    "    print(letter1, letter2, p_value)"
   ]
  },
  {
   "cell_type": "code",
   "execution_count": 77,
   "metadata": {},
   "outputs": [],
   "source": [
    "import numpy as np\n",
    "def bs_rep_variable(gradevariablearray):\n",
    "    \"\"\"Get the BS reps for grade and variable\"\"\"\n",
    "    bs_replicates_obs = np.empty(10000)\n",
    "    for i in range(10000):\n",
    "        bs_replicates_obs[i]=np.mean(np.random.choice(gradevariablearray, len(gradevariablearray)))\n",
    "    return bs_replicates_obs"
   ]
  },
  {
   "cell_type": "code",
   "execution_count": 78,
   "metadata": {},
   "outputs": [],
   "source": [
    "def allfuncplt(letter1, letter2, variable):\n",
    "    \"\"\"To plot dist of BS_reps to compare respective dist's\"\"\"\n",
    "    \n",
    "    array1 = gradevariable(letter1, variable)\n",
    "    array2 = gradevariable(letter2, variable)\n",
    "\n",
    "    samplemeans1 = bs_rep_variable(array1)\n",
    "    samplemeans2 = bs_rep_variable(array2)\n",
    "\n",
    "    _ = plt.hist(samplemeans1, bins=20, alpha = .7)\n",
    "    _ = plt.hist(samplemeans2, bins=20, alpha = .7)\n",
    "    plt.show()"
   ]
  },
  {
   "cell_type": "code",
   "execution_count": 79,
   "metadata": {},
   "outputs": [
    {
     "name": "stdout",
     "output_type": "stream",
     "text": [
      "A B 0.0\n",
      "A C 0.0\n",
      "A D 0.0\n",
      "A E 0.0\n",
      "A F 0.0\n",
      "A G 0.0\n",
      "B C 0.0\n",
      "B D 0.0\n",
      "B E 0.0\n",
      "B F 0.0\n",
      "B G 0.0\n",
      "C D 0.0\n",
      "C E 0.0\n",
      "C F 0.0\n",
      "C G 0.0\n",
      "D E 0.0\n",
      "D F 0.0\n",
      "D G 0.0\n",
      "E F 0.0\n",
      "E G 0.0006\n",
      "F G 0.2448\n"
     ]
    }
   ],
   "source": [
    "# P values of differences in default rates per grade. \n",
    "for a in ['B','C','D','E','F','G']:\n",
    "    p_value('A',a, 'loan_status')\n",
    "for b in ['C','D','E','F','G']:\n",
    "    p_value('B',b, 'loan_status')\n",
    "for c in ['D','E','F','G']:\n",
    "    p_value('C',c, 'loan_status')\n",
    "for d in ['E','F','G']:\n",
    "    p_value('D',d, 'loan_status')\n",
    "for e in ['F','G']:\n",
    "    p_value('E',e, 'loan_status')\n",
    "for f in ['G']:\n",
    "    p_value('F',f, 'loan_status')"
   ]
  },
  {
   "cell_type": "code",
   "execution_count": 80,
   "metadata": {},
   "outputs": [],
   "source": [
    "def pvaluefunk(variable):\n",
    "    \"\"\"Get p values between every grade\"\"\"\n",
    "    for a in ['B','C','D','E','F','G']:\n",
    "        p_value('A',a, variable)\n",
    "    for b in ['C','D','E','F','G']:\n",
    "        p_value('B',b, variable)\n",
    "    for c in ['D','E','F','G']:\n",
    "        p_value('C',c, variable)\n",
    "    for d in ['E','F','G']:\n",
    "        p_value('D',d, variable)\n",
    "    for e in ['F','G']:\n",
    "        p_value('E',e, variable)\n",
    "    for f in ['G']:\n",
    "        p_value('F',f, variable)"
   ]
  },
  {
   "cell_type": "code",
   "execution_count": 81,
   "metadata": {},
   "outputs": [
    {
     "name": "stdout",
     "output_type": "stream",
     "text": [
      "A B 0.0\n",
      "A C 0.0\n",
      "A D 0.0\n",
      "A E 0.0\n",
      "A F 0.0\n",
      "A G 0.0\n",
      "B C 0.0\n",
      "B D 0.0\n",
      "B E 0.0\n",
      "B F 0.0\n",
      "B G 0.0\n",
      "C D 0.0\n",
      "C E 0.0\n",
      "C F 0.0\n",
      "C G 0.0\n",
      "D E 0.0\n",
      "D F 0.0\n",
      "D G 0.0\n",
      "E F 0.0\n",
      "E G 0.0\n",
      "F G 0.0\n"
     ]
    }
   ],
   "source": [
    "# P values, interest rates\n",
    "pvaluefunk('int_rate')"
   ]
  },
  {
   "cell_type": "code",
   "execution_count": 82,
   "metadata": {},
   "outputs": [
    {
     "name": "stdout",
     "output_type": "stream",
     "text": [
      "A B 0.0\n",
      "A C 0.0\n",
      "A D 0.0\n",
      "A E 0.0\n",
      "A F 0.0\n",
      "A G 0.0004\n",
      "B C 0.131\n",
      "B D 0.0093\n",
      "B E 0.0\n",
      "B F 0.0316\n",
      "B G 0.4824\n",
      "C D 0.1217\n",
      "C E 0.0\n",
      "C F 0.1528\n",
      "C G 0.4096\n",
      "D E 0.0039\n",
      "D F 0.3651\n",
      "D G 0.2783\n",
      "E F 0.0972\n",
      "E G 0.0593\n",
      "F G 0.2934\n"
     ]
    }
   ],
   "source": [
    "# P values of differences in margins per grade. \n",
    "pvaluefunk('margins')"
   ]
  },
  {
   "cell_type": "code",
   "execution_count": null,
   "metadata": {},
   "outputs": [],
   "source": []
  }
 ],
 "metadata": {
  "kernelspec": {
   "display_name": "Python 3",
   "language": "python",
   "name": "python3"
  },
  "language_info": {
   "codemirror_mode": {
    "name": "ipython",
    "version": 3
   },
   "file_extension": ".py",
   "mimetype": "text/x-python",
   "name": "python",
   "nbconvert_exporter": "python",
   "pygments_lexer": "ipython3",
   "version": "3.7.0"
  }
 },
 "nbformat": 4,
 "nbformat_minor": 2
}
